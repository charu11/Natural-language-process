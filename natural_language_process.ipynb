{
  "nbformat": 4,
  "nbformat_minor": 0,
  "metadata": {
    "colab": {
      "name": "natural_language_process.ipynb",
      "provenance": [],
      "authorship_tag": "ABX9TyOuqfv+q6HDcjEMTeiiRJoA",
      "include_colab_link": true
    },
    "kernelspec": {
      "name": "python3",
      "display_name": "Python 3"
    },
    "accelerator": "GPU"
  },
  "cells": [
    {
      "cell_type": "markdown",
      "metadata": {
        "id": "view-in-github",
        "colab_type": "text"
      },
      "source": [
        "<a href=\"https://colab.research.google.com/github/charu11/Natural-language-process/blob/nlp/natural_language_process.ipynb\" target=\"_parent\"><img src=\"https://colab.research.google.com/assets/colab-badge.svg\" alt=\"Open In Colab\"/></a>"
      ]
    },
    {
      "cell_type": "code",
      "metadata": {
        "id": "AhnYLDN27b6N",
        "colab_type": "code",
        "outputId": "38d8a914-4fb0-4ee0-8eb5-3578f1afb3d8",
        "colab": {
          "base_uri": "https://localhost:8080/",
          "height": 51
        }
      },
      "source": [
        "pip install nltk"
      ],
      "execution_count": 0,
      "outputs": [
        {
          "output_type": "stream",
          "text": [
            "Requirement already satisfied: nltk in /usr/local/lib/python3.6/dist-packages (3.2.5)\n",
            "Requirement already satisfied: six in /usr/local/lib/python3.6/dist-packages (from nltk) (1.12.0)\n"
          ],
          "name": "stdout"
        }
      ]
    },
    {
      "cell_type": "code",
      "metadata": {
        "id": "F_PwOvVo7-Ip",
        "colab_type": "code",
        "outputId": "87df7921-2990-439a-910b-666a5fa372fe",
        "colab": {
          "base_uri": "https://localhost:8080/",
          "height": 85
        }
      },
      "source": [
        "import nltk\n",
        "nltk.download('averaged_perceptron_tagger')"
      ],
      "execution_count": 0,
      "outputs": [
        {
          "output_type": "stream",
          "text": [
            "[nltk_data] Downloading package averaged_perceptron_tagger to\n",
            "[nltk_data]     /root/nltk_data...\n",
            "[nltk_data]   Unzipping taggers/averaged_perceptron_tagger.zip.\n"
          ],
          "name": "stdout"
        },
        {
          "output_type": "execute_result",
          "data": {
            "text/plain": [
              "True"
            ]
          },
          "metadata": {
            "tags": []
          },
          "execution_count": 9
        }
      ]
    },
    {
      "cell_type": "code",
      "metadata": {
        "id": "WM0OV3yW8PE5",
        "colab_type": "code",
        "outputId": "037132a0-89c8-4f59-9d05-cc3679566267",
        "colab": {
          "base_uri": "https://localhost:8080/",
          "height": 34
        }
      },
      "source": [
        "from nltk.tokenize import sent_tokenize, word_tokenize\n",
        "\n",
        "ex_txt = 'Hello Mr. Smith, how are you doing today? weather is great, python is great, you cant swim, i love arsenal'\n",
        "\n",
        "print(sent_tokenize(ex_txt))"
      ],
      "execution_count": 0,
      "outputs": [
        {
          "output_type": "stream",
          "text": [
            "['Hello Mr. Smith, how are you doing today?', 'weather is great, python is great, you cant swim, i love arsenal']\n"
          ],
          "name": "stdout"
        }
      ]
    },
    {
      "cell_type": "code",
      "metadata": {
        "id": "MpVb0dL0_378",
        "colab_type": "code",
        "outputId": "35199a81-4e99-4806-af89-64df56c20b26",
        "colab": {
          "base_uri": "https://localhost:8080/",
          "height": 54
        }
      },
      "source": [
        "print(word_tokenize(ex_txt))"
      ],
      "execution_count": 0,
      "outputs": [
        {
          "output_type": "stream",
          "text": [
            "['Hello', 'Mr.', 'Smith', ',', 'how', 'are', 'you', 'doing', 'today', '?', 'weather', 'is', 'great', ',', 'python', 'is', 'great', ',', 'you', 'cant', 'swim', ',', 'i', 'love', 'arsenal']\n"
          ],
          "name": "stdout"
        }
      ]
    },
    {
      "cell_type": "code",
      "metadata": {
        "id": "dHbI0yyeBakR",
        "colab_type": "code",
        "outputId": "b413ff80-4fdd-4469-d6ea-450326c5878b",
        "colab": {
          "base_uri": "https://localhost:8080/",
          "height": 51
        }
      },
      "source": [
        "#......................stop words......................\n",
        "\n",
        "from nltk.corpus import stopwords\n",
        "from nltk.tokenize import word_tokenize\n",
        "\n",
        "example_sent = 'This is a sample sentence, showing off the stop words filtration.'\n",
        "\n",
        "stop_words = set(stopwords.words('english'))\n",
        "word_tokens = word_tokenize(example_sent)\n",
        "\n",
        "filtered_sentence = []\n",
        "\n",
        "for w in word_tokens:\n",
        "  if w not in stop_words:\n",
        "    filtered_sentence.append(w)\n",
        "\n",
        "print(word_tokens)\n",
        "print(filtered_sentence)\n"
      ],
      "execution_count": 0,
      "outputs": [
        {
          "output_type": "stream",
          "text": [
            "['This', 'is', 'a', 'sample', 'sentence', ',', 'showing', 'off', 'the', 'stop', 'words', 'filtration', '.']\n",
            "['This', 'sample', 'sentence', ',', 'showing', 'stop', 'words', 'filtration', '.']\n"
          ],
          "name": "stdout"
        }
      ]
    },
    {
      "cell_type": "code",
      "metadata": {
        "id": "EBZtmNBsDwCR",
        "colab_type": "code",
        "outputId": "1b557bf3-9710-4d04-abb6-e9ad9f8e2b26",
        "colab": {
          "base_uri": "https://localhost:8080/",
          "height": 54
        }
      },
      "source": [
        "# these are the stop words in english\n",
        "\n",
        "print( set(stopwords.words('english')))"
      ],
      "execution_count": 0,
      "outputs": [
        {
          "output_type": "stream",
          "text": [
            "{'theirs', 'i', 'again', 'myself', 'any', 'should', 'those', 'their', 'into', 'there', 'when', 'few', 'no', \"didn't\", 'a', 'other', 'ma', 'having', 'between', 'before', 'doing', \"that'll\", 'on', 'itself', 'hadn', 'with', 'how', 'won', 'if', 'nor', 'yourselves', 'whom', 'ours', 'weren', 'its', 'your', \"mightn't\", 'them', 'by', 'y', 'haven', 'of', 'each', 'for', 'out', 'his', 'only', \"don't\", \"isn't\", 'too', 'ain', \"weren't\", 'wouldn', 'this', 'both', 'because', 'isn', 'at', 'while', 'same', 'until', 'doesn', 'an', 'did', 'yours', \"haven't\", 'd', 'what', 'which', 'now', 'as', 'these', 'didn', 'once', 'who', 'to', 'yourself', 'more', 'can', \"you're\", 'he', 're', \"shouldn't\", \"mustn't\", 'our', 'will', \"hadn't\", 'be', 'themselves', 'or', 'hers', \"you've\", 'me', 'him', 'after', 'were', 'was', \"doesn't\", 'mustn', 'being', 'just', 'during', 'needn', 'had', 'does', 'do', 'further', 'm', 's', 'such', 'have', 'you', \"won't\", 'her', 'am', 'off', \"she's\", 'so', \"you'd\", 'we', 'the', 'couldn', 'has', 'don', \"you'll\", 'in', 'up', 'very', \"couldn't\", 'ourselves', \"it's\", 'all', \"wouldn't\", 'are', 'against', 'below', 'than', \"wasn't\", 'they', 'here', 'it', 't', 'from', 'she', 'shan', 'o', 'herself', 'not', 'himself', 'where', 'own', 'is', 'through', 'under', 'over', 'most', 'then', 'why', 'shouldn', \"hasn't\", 'that', 'been', 've', 'aren', 'my', 'above', 'wasn', 'll', 'and', 'hasn', \"should've\", 'mightn', \"shan't\", 'down', 'about', 'but', \"aren't\", 'some', \"needn't\"}\n"
          ],
          "name": "stdout"
        }
      ]
    },
    {
      "cell_type": "code",
      "metadata": {
        "id": "vrKgciYJESUr",
        "colab_type": "code",
        "colab": {}
      },
      "source": [
        "#..................stemming the words......................\n",
        "\n",
        "from nltk.stem import PorterStemmer\n",
        "from nltk.tokenize import sent_tokenize, word_tokenize\n",
        "\n",
        "ps = PorterStemmer()"
      ],
      "execution_count": 0,
      "outputs": []
    },
    {
      "cell_type": "code",
      "metadata": {
        "id": "-6fn2SezE3zs",
        "colab_type": "code",
        "outputId": "0a4ba225-cb00-4b63-abcc-65d1747d3072",
        "colab": {
          "base_uri": "https://localhost:8080/",
          "height": 102
        }
      },
      "source": [
        "example_words = [\"python\",\"pythoner\",\"pythoning\",\"pythoned\",\"pythonly\"]\n",
        "\n",
        "for w in example_words:\n",
        "  print(ps.stem(w))"
      ],
      "execution_count": 0,
      "outputs": [
        {
          "output_type": "stream",
          "text": [
            "python\n",
            "python\n",
            "python\n",
            "python\n",
            "pythonli\n"
          ],
          "name": "stdout"
        }
      ]
    },
    {
      "cell_type": "code",
      "metadata": {
        "id": "7TzOyga4FTQQ",
        "colab_type": "code",
        "outputId": "c7ce02bb-088f-470a-e99a-44934ad725b3",
        "colab": {
          "base_uri": "https://localhost:8080/",
          "height": 408
        }
      },
      "source": [
        "new_text = \"It is important to by very pythonly while you are pythoning with python. All pythoners have pythoned poorly at least once.\"\n",
        "\n",
        "words = word_tokenize(new_text)\n",
        "\n",
        "for w in words:\n",
        "  print(ps.stem(w))\n"
      ],
      "execution_count": 0,
      "outputs": [
        {
          "output_type": "stream",
          "text": [
            "It\n",
            "is\n",
            "import\n",
            "to\n",
            "by\n",
            "veri\n",
            "pythonli\n",
            "while\n",
            "you\n",
            "are\n",
            "python\n",
            "with\n",
            "python\n",
            ".\n",
            "all\n",
            "python\n",
            "have\n",
            "python\n",
            "poorli\n",
            "at\n",
            "least\n",
            "onc\n",
            ".\n"
          ],
          "name": "stdout"
        }
      ]
    },
    {
      "cell_type": "code",
      "metadata": {
        "id": "BQ30OmMBGaat",
        "colab_type": "code",
        "colab": {}
      },
      "source": [
        "'''\n",
        "POS tag list:\n",
        "\n",
        "CC\tcoordinating conjunction\n",
        "CD\tcardinal digit\n",
        "DT\tdeterminer\n",
        "EX\texistential there (like: \"there is\" ... think of it like \"there exists\")\n",
        "FW\tforeign word\n",
        "IN\tpreposition/subordinating conjunction\n",
        "JJ\tadjective\t'big'\n",
        "JJR\tadjective, comparative\t'bigger'\n",
        "JJS\tadjective, superlative\t'biggest'\n",
        "LS\tlist marker\t1)\n",
        "MD\tmodal\tcould, will\n",
        "NN\tnoun, singular 'desk'\n",
        "NNS\tnoun plural\t'desks'\n",
        "NNP\tproper noun, singular\t'Harrison'\n",
        "NNPS\tproper noun, plural\t'Americans'\n",
        "PDT\tpredeterminer\t'all the kids'\n",
        "POS\tpossessive ending\tparent\\'s\n",
        "PRP\tpersonal pronoun\tI, he, she\n",
        "PRP$\tpossessive pronoun\tmy, his, hers\n",
        "RB\tadverb\tvery, silently,\n",
        "RBR\tadverb, comparative\tbetter\n",
        "RBS\tadverb, superlative\tbest\n",
        "RP\tparticle\tgive up\n",
        "TO\tto\tgo 'to' the store.\n",
        "UH\tinterjection\terrrrrrrrm\n",
        "VB\tverb, base form\ttake\n",
        "VBD\tverb, past tense\ttook\n",
        "VBG\tverb, gerund/present participle\ttaking\n",
        "VBN\tverb, past participle\ttaken\n",
        "VBP\tverb, sing. present, non-3d\ttake\n",
        "VBZ\tverb, 3rd person sing. present\ttakes\n",
        "WDT\twh-determiner\twhich\n",
        "WP\twh-pronoun\twho, what\n",
        "WP$\tpossessive wh-pronoun\twhose\n",
        "WRB\twh-abverb\twhere, when\n",
        "'''"
      ],
      "execution_count": 0,
      "outputs": []
    },
    {
      "cell_type": "code",
      "metadata": {
        "id": "8G6lbevDGmJf",
        "colab_type": "code",
        "colab": {}
      },
      "source": [
        ""
      ],
      "execution_count": 0,
      "outputs": []
    },
    {
      "cell_type": "code",
      "metadata": {
        "id": "Xn8Cnd-TG-40",
        "colab_type": "code",
        "colab": {}
      },
      "source": [
        ""
      ],
      "execution_count": 0,
      "outputs": []
    },
    {
      "cell_type": "code",
      "metadata": {
        "id": "cR8DV-iMHCMe",
        "colab_type": "code",
        "outputId": "a1af1297-e38e-4b5b-b9c7-c2470693ba74",
        "colab": {
          "base_uri": "https://localhost:8080/",
          "height": 34
        }
      },
      "source": [
        "from tkinter import *\n",
        "import nltk\n",
        "from nltk.corpus import state_union\n",
        "from nltk.tokenize import PunktSentenceTokenizer\n",
        "\n",
        "train_text = state_union.raw(\"2005-GWBush.txt\")\n",
        "sample_text = state_union.raw(\"2006-GWBush.txt\")\n",
        "\n",
        "custom_sent_tokenizer = PunktSentenceTokenizer(train_text)\n",
        "\n",
        "tokenized = custom_sent_tokenizer.tokenize(sample_text)\n",
        "\n",
        "def process_content():\n",
        "    try:\n",
        "        for i in tokenized:\n",
        "            words = nltk.word_tokenize(i)\n",
        "            tagged = nltk.pos_tag(words)\n",
        "            #print(tagged)\n",
        "            chunk_gram = r\"\"\"Chunk: {<RB.?>*<VB.?>*<NNP>+<NN>?}\"\"\"\n",
        "            chunk_parser = nltk.RegexpParser(chunk_gram)\n",
        "            chunked = chunk_parser.parse(tagged)\n",
        "            chunked.draw()\n",
        "    except Exception as e:\n",
        "        print(str(e))\n",
        "\n",
        "process_content()"
      ],
      "execution_count": 0,
      "outputs": [
        {
          "output_type": "stream",
          "text": [
            "no display name and no $DISPLAY environment variable\n"
          ],
          "name": "stdout"
        }
      ]
    },
    {
      "cell_type": "code",
      "metadata": {
        "id": "LxDwRjXAPtVs",
        "colab_type": "code",
        "colab": {}
      },
      "source": [
        "#.................. name entity recognition.........................\n",
        "\n",
        "import nltk\n",
        "#nltk.download('all')\n",
        "from nltk.corpus import state_union\n",
        "from nltk.tokenize import PunktSentenceTokenizer\n",
        "\n",
        "train_text = state_union.raw('2005-GWBush.txt')\n",
        "sample_text = state_union.raw('2006-GWBush.txt')\n",
        "\n",
        "\n",
        "custom_sent_tokenizer = PunktSentenceTokenizer(train_text)\n",
        "tokenized = custom_sent_tokenizer.tokenize(sample_text)\n",
        "\n",
        "def process_content():\n",
        "  try:\n",
        "    for i in tokenized[:5]:\n",
        "      words = nltk.word_tokenize(i)\n",
        "      tagged = nltk.pos_tag(words)\n",
        "      named_ent = nltk.ne_chunk(tagged, binary=True)\n",
        "      named_ent.draw()\n",
        "\n",
        "  except Exception as e:\n",
        "    print(str(e))\n",
        "\n",
        "process_content()\n",
        "\n"
      ],
      "execution_count": 0,
      "outputs": []
    },
    {
      "cell_type": "code",
      "metadata": {
        "id": "dBAq5JW7PtOb",
        "colab_type": "code",
        "outputId": "63ab8532-007d-4d2c-e20c-19535192341b",
        "colab": {
          "base_uri": "https://localhost:8080/",
          "height": 170
        }
      },
      "source": [
        "#..................lemmatizing.............................\n",
        "\n",
        "from nltk.stem import WordNetLemmatizer\n",
        "\n",
        "lemmatizer = WordNetLemmatizer()\n",
        "\n",
        "print(lemmatizer.lemmatize(\"cats\"))\n",
        "print(lemmatizer.lemmatize(\"cacti\"))\n",
        "print(lemmatizer.lemmatize(\"geese\"))\n",
        "print(lemmatizer.lemmatize(\"rocks\"))\n",
        "print(lemmatizer.lemmatize(\"python\"))\n",
        "print(lemmatizer.lemmatize(\"better\", pos=\"a\"))\n",
        "print(lemmatizer.lemmatize(\"best\", pos=\"a\"))\n",
        "print(lemmatizer.lemmatize(\"run\"))\n",
        "print(lemmatizer.lemmatize(\"run\",'v'))\n"
      ],
      "execution_count": 0,
      "outputs": [
        {
          "output_type": "stream",
          "text": [
            "cat\n",
            "cactus\n",
            "goose\n",
            "rock\n",
            "python\n",
            "good\n",
            "best\n",
            "run\n",
            "run\n"
          ],
          "name": "stdout"
        }
      ]
    },
    {
      "cell_type": "code",
      "metadata": {
        "id": "6E8RVz2M3Tvk",
        "colab_type": "code",
        "outputId": "f85b0f7b-6ce9-4f59-988d-65ce840468f9",
        "colab": {
          "base_uri": "https://localhost:8080/",
          "height": 34
        }
      },
      "source": [
        "#................working with copora....................\n",
        "\n",
        "import nltk\n",
        "print(nltk.__file__)\n",
        "\n"
      ],
      "execution_count": 0,
      "outputs": [
        {
          "output_type": "stream",
          "text": [
            "/usr/local/lib/python3.6/dist-packages/nltk/__init__.py\n"
          ],
          "name": "stdout"
        }
      ]
    },
    {
      "cell_type": "code",
      "metadata": {
        "id": "q81rl15L4l6U",
        "colab_type": "code",
        "outputId": "5d5e8a0f-6d4f-41d4-c973-edf5cfddf569",
        "colab": {
          "base_uri": "https://localhost:8080/",
          "height": 272
        }
      },
      "source": [
        "from nltk.tokenize import sent_tokenize, PunktSentenceTokenizer\n",
        "from nltk.corpus import gutenberg\n",
        "\n",
        "# sample_text\n",
        "\n",
        "sample = gutenberg.raw('bible-kjv.txt')\n",
        "\n",
        "tok = sent_tokenize(sample)\n",
        "\n",
        "for x in range(5):\n",
        "  print(tok[x])"
      ],
      "execution_count": 0,
      "outputs": [
        {
          "output_type": "stream",
          "text": [
            "[The King James Bible]\n",
            "\n",
            "The Old Testament of the King James Bible\n",
            "\n",
            "The First Book of Moses:  Called Genesis\n",
            "\n",
            "\n",
            "1:1 In the beginning God created the heaven and the earth.\n",
            "1:2 And the earth was without form, and void; and darkness was upon\n",
            "the face of the deep.\n",
            "And the Spirit of God moved upon the face of the\n",
            "waters.\n",
            "1:3 And God said, Let there be light: and there was light.\n",
            "1:4 And God saw the light, that it was good: and God divided the light\n",
            "from the darkness.\n"
          ],
          "name": "stdout"
        }
      ]
    },
    {
      "cell_type": "code",
      "metadata": {
        "id": "EjfxA1DZ-j0x",
        "colab_type": "code",
        "colab": {}
      },
      "source": [
        "from nltk.corpus import wordnet\n",
        "syns = wordnet.synsets('program')"
      ],
      "execution_count": 0,
      "outputs": []
    },
    {
      "cell_type": "code",
      "metadata": {
        "id": "h_VTsEkb_AWO",
        "colab_type": "code",
        "outputId": "85595951-a933-49e6-e141-8fa3591cb4af",
        "colab": {
          "base_uri": "https://localhost:8080/",
          "height": 34
        }
      },
      "source": [
        "print(syns[0].name())"
      ],
      "execution_count": 0,
      "outputs": [
        {
          "output_type": "stream",
          "text": [
            "plan.n.01\n"
          ],
          "name": "stdout"
        }
      ]
    },
    {
      "cell_type": "code",
      "metadata": {
        "id": "VVEkuYWa_L6A",
        "colab_type": "code",
        "outputId": "5f9c1461-f1e2-4d5c-d05f-eba985c7052c",
        "colab": {
          "base_uri": "https://localhost:8080/",
          "height": 34
        }
      },
      "source": [
        "print(syns[0].lemmas()[0].name())"
      ],
      "execution_count": 0,
      "outputs": [
        {
          "output_type": "stream",
          "text": [
            "plan\n"
          ],
          "name": "stdout"
        }
      ]
    },
    {
      "cell_type": "code",
      "metadata": {
        "id": "nuZ53MHA_Ys0",
        "colab_type": "code",
        "outputId": "ab389144-d4de-405d-860e-33aa0e4d4757",
        "colab": {
          "base_uri": "https://localhost:8080/",
          "height": 34
        }
      },
      "source": [
        "print(syns[0].definition())"
      ],
      "execution_count": 0,
      "outputs": [
        {
          "output_type": "stream",
          "text": [
            "a series of steps to be carried out or goals to be accomplished\n"
          ],
          "name": "stdout"
        }
      ]
    },
    {
      "cell_type": "code",
      "metadata": {
        "id": "aDQANFtV_gBT",
        "colab_type": "code",
        "outputId": "4141a93d-28cb-4c16-de50-ce7c84de7d5e",
        "colab": {
          "base_uri": "https://localhost:8080/",
          "height": 34
        }
      },
      "source": [
        "print(syns[0].examples())"
      ],
      "execution_count": 0,
      "outputs": [
        {
          "output_type": "stream",
          "text": [
            "['they drew up a six-step plan', 'they discussed plans for a new bond issue']\n"
          ],
          "name": "stdout"
        }
      ]
    },
    {
      "cell_type": "code",
      "metadata": {
        "id": "5bis-a63_imI",
        "colab_type": "code",
        "outputId": "3825ab41-e78c-4ab2-f905-42be5fbd4ea5",
        "colab": {
          "base_uri": "https://localhost:8080/",
          "height": 71
        }
      },
      "source": [
        "synonyms = []\n",
        "antonyms = []\n",
        "\n",
        "for syn in wordnet.synsets('good'):\n",
        "  for l in syn.lemmas():\n",
        "    synonyms.append(l.name())\n",
        "    if l.antonyms():\n",
        "      antonyms.append(l.antonyms()[0].name())\n",
        "\n",
        "    \n",
        "print(set(synonyms))\n",
        "print(set(antonyms))"
      ],
      "execution_count": 0,
      "outputs": [
        {
          "output_type": "stream",
          "text": [
            "{'safe', 'goodness', 'near', 'good', 'proficient', 'in_effect', 'serious', 'well', 'undecomposed', 'trade_good', 'full', 'just', 'skilful', 'in_force', 'unspoiled', 'effective', 'sound', 'respectable', 'adept', 'honest', 'secure', 'thoroughly', 'upright', 'salutary', 'unspoilt', 'dependable', 'expert', 'ripe', 'commodity', 'soundly', 'honorable', 'skillful', 'estimable', 'practiced', 'dear', 'right', 'beneficial'}\n",
            "{'evil', 'bad', 'evilness', 'badness', 'ill'}\n"
          ],
          "name": "stdout"
        }
      ]
    },
    {
      "cell_type": "code",
      "metadata": {
        "id": "AOU_-z6NGkUU",
        "colab_type": "code",
        "outputId": "4ca23e46-9207-4e90-b251-4e5f2e856ba9",
        "colab": {
          "base_uri": "https://localhost:8080/",
          "height": 34
        }
      },
      "source": [
        "w1 = wordnet.synset('ship.n.01')\n",
        "w2 = wordnet.synset('boat.n.01')\n",
        "print(w1.wup_similarity(w2))"
      ],
      "execution_count": 0,
      "outputs": [
        {
          "output_type": "stream",
          "text": [
            "0.9090909090909091\n"
          ],
          "name": "stdout"
        }
      ]
    },
    {
      "cell_type": "code",
      "metadata": {
        "id": "tq0ZNWkIHB3C",
        "colab_type": "code",
        "outputId": "3052f129-93c9-47d0-e11d-f454ccb0351a",
        "colab": {
          "base_uri": "https://localhost:8080/",
          "height": 34
        }
      },
      "source": [
        "w1 = wordnet.synset('ship.n.01')\n",
        "w2 = wordnet.synset('car.n.01')\n",
        "print(w1.wup_similarity(w2))"
      ],
      "execution_count": 0,
      "outputs": [
        {
          "output_type": "stream",
          "text": [
            "0.6956521739130435\n"
          ],
          "name": "stdout"
        }
      ]
    },
    {
      "cell_type": "code",
      "metadata": {
        "id": "IdOenPvdHHFB",
        "colab_type": "code",
        "outputId": "166a760b-3ff6-4651-9b52-2f459777a1df",
        "colab": {
          "base_uri": "https://localhost:8080/",
          "height": 34
        }
      },
      "source": [
        "w1 = wordnet.synset('ship.n.01')\n",
        "w2 = wordnet.synset('cat.n.01')\n",
        "print(w1.wup_similarity(w2))"
      ],
      "execution_count": 0,
      "outputs": [
        {
          "output_type": "stream",
          "text": [
            "0.32\n"
          ],
          "name": "stdout"
        }
      ]
    },
    {
      "cell_type": "code",
      "metadata": {
        "id": "LiyqIE5kJPQG",
        "colab_type": "code",
        "outputId": "0e6ec138-4d8c-47a6-dae4-d836725b2b98",
        "colab": {
          "base_uri": "https://localhost:8080/",
          "height": 71
        }
      },
      "source": [
        "#.....................text classification.......................\n",
        "\n",
        "import nltk\n",
        "import random \n",
        "from nltk.corpus import movie_reviews\n",
        "\n",
        "documents = [(list(movie_reviews.words(fileid)), category)\n",
        "              for category in movie_reviews.categories()\n",
        "              for fileid in movie_reviews.fileids(category)]\n",
        "\n",
        "random.shuffle(documents)\n",
        "\n",
        "#print(documents[1])\n",
        "\n",
        "all_words = []\n",
        "\n",
        "for w in movie_reviews.words():\n",
        "  all_words.append(w.lower)\n",
        "\n",
        "all_words = nltk.FreqDist(all_words)\n",
        "\n",
        "word_features = list(all_words.keys())[:3000]\n",
        "print(word_features)"
      ],
      "execution_count": 3,
      "outputs": [
        {
          "output_type": "stream",
          "text": [
            "(['this', 'is', 'the', 'worst', 'movie', 'i', \"'\", 've', 'viewed', 'so', 'far', 'in', '98', '.', 'the', 'avengers', '=', 'silly', '=', 'man', 'dressed', 'in', 'a', 'bowler', 'hat', '+', 'woman', 'wearing', 'tight', 'leathers', '>', 'evil', 'scientists', 'dressed', 'in', 'teddy', 'bear', 'suits', '+', 'greater', 'evil', ',', 'sir', 'august', 'de', 'wynter', 'wearing', 'kilt', '.', 'the', 'question', 'is', 'what', 'could', 'have', 'gone', 'wrong', 'with', 'a', 'potentially', 'great', 'idea', 'with', 'big', 'name', 'cast', '?', 'the', 'same', 'question', 'was', 'probably', 'asked', 'of', 'last', 'year', \"'\", 's', 'stinker', 'batman', 'and', 'robin', '.', 'i', 'feel', 'the', 'production', 'got', 'a', 'little', 'too', 'smug', ',', 'the', 'script', 'a', 'little', 'to', 'smart', 'and', 'direction', 'was', 'somehow', 'lost', 'in', 'the', 'chaos', 'of', 'random', 'events', 'that', 'collided', 'together', 'to', 'form', 'a', 'movie', '.', 'my', 'greatest', 'criticism', 'rests', 'on', 'the', 'fact', 'that', 'there', 'was', 'no', 'chemistry', 'between', 'emma', 'peel', 'and', 'john', 'steed', '(', 'thurman', 'and', 'fiennes', ')', '?', 'something', 'that', 'was', 'a', 'vital', 'element', 'of', 'the', '60', \"'\", 's', 'tv', 'serial', 'of', 'the', 'same', 'name', '.', 'the', 'dialogue', 'goes', 'on', 'and', 'on', 'about', 'tea', 'and', 'other', 'finer', 'british', 'perks', ',', 'but', 'does', 'not', 'allow', 'much', 'room', 'for', 'character', 'development', 'and', 'interaction', ',', 'except', 'to', 'perhaps', 'grate', 'on', 'the', 'viewer', \"'\", 's', 'nerves', '.', 'one', 'wonders', 'why', 'the', 'dynamic', 'pair', 'bother', 'kissing', 'in', 'the', 'end', 'except', 'for', 'pure', 'english', 'formality', '.', 'connery', 'as', 'sir', 'august', ',', 'does', 'not', 'fair', 'better', 'than', 'thurman', 'or', 'fiennes', '.', 'his', 'dialogue', 'is', 'as', 'erratic', 'as', 'stormy', 'weather', ',', 'mostly', 'embarrassing', 'and', 'poor', 'quality', '.', 'if', 'there', 'is', 'a', 'movie', 'you', 'would', 'prefer', 'never', 'to', 'see', ',', 'i', 'believe', 'the', 'avengers', 'would', 'be', 'a', 'good', 'choice', '.', 'for', 'one', 'thing', ',', 'you', 'will', 'not', 'have', 'to', 'witness', 'a', 'product', 'that', 'is', 'far', 'inferior', 'to', 'the', 'three', 'high', 'profile', 'names', 'that', 'is', 'associated', 'with', 'the', 'title', '.', 'i', 'cannot', 'understand', 'how', 'something', 'so', 'poorly', 'produced', 'could', 'have', 'been', 'released', ',', 'but', 'i', 'put', 'it', 'down', 'to', 'one', 'of', 'those', 'freak', 'happenings', 'in', 'nature', ',', 'like', 'lightning', 'you', 'can', \"'\", 't', 'see', 'it', 'coming', 'until', 'it', 'hits', 'you', '.'], 'neg')\n",
            "[<built-in method lower of str object at 0x7f82bac32378>, <built-in method lower of str object at 0x7f82f01071f0>, <built-in method lower of str object at 0x7f82bac323b0>, <built-in method lower of str object at 0x7f82bac323e8>, <built-in method lower of str object at 0x7f82bac32420>, <built-in method lower of str object at 0x7f82bac32458>, <built-in method lower of str object at 0x7f82bac32490>, <built-in method lower of str object at 0x7f82f0107340>, <built-in method lower of str object at 0x7f82bac324c8>, <built-in method lower of str object at 0x7f82bac32500>, <built-in method lower of str object at 0x7f82f0111458>, <built-in method lower of str object at 0x7f82bac32538>, <built-in method lower of str object at 0x7f82bac32570>, <built-in method lower of str object at 0x7f82bac325a8>, <built-in method lower of str object at 0x7f82bac325e0>, <built-in method lower of str object at 0x7f82f01eb068>, <built-in method lower of str object at 0x7f82bac32618>, <built-in method lower of str object at 0x7f82bac32650>, <built-in method lower of str object at 0x7f82bac32688>, <built-in method lower of str object at 0x7f82bac326c0>, <built-in method lower of str object at 0x7f82ba983570>, <built-in method lower of str object at 0x7f82bac326f8>, <built-in method lower of str object at 0x7f82bac32730>, <built-in method lower of str object at 0x7f82bac32768>, <built-in method lower of str object at 0x7f82bac327a0>, <built-in method lower of str object at 0x7f82bac327d8>, <built-in method lower of str object at 0x7f82bac32810>, <built-in method lower of str object at 0x7f82bac32848>, <built-in method lower of str object at 0x7f82ba983530>, <built-in method lower of str object at 0x7f82ba9834f0>, <built-in method lower of str object at 0x7f82bac32880>, <built-in method lower of str object at 0x7f82bac328b8>, <built-in method lower of str object at 0x7f82bac328f0>, <built-in method lower of str object at 0x7f82bac32928>, <built-in method lower of str object at 0x7f82bac32960>, <built-in method lower of str object at 0x7f82bac32998>, <built-in method lower of str object at 0x7f82bac329d0>, <built-in method lower of str object at 0x7f82bac32a08>, <built-in method lower of str object at 0x7f82ba9835b0>, <built-in method lower of str object at 0x7f82bac32a40>, <built-in method lower of str object at 0x7f82f013d0a0>, <built-in method lower of str object at 0x7f82f01717d8>, <built-in method lower of str object at 0x7f82bac32a78>, <built-in method lower of str object at 0x7f82bac32ab0>, <built-in method lower of str object at 0x7f82f01e5ab0>, <built-in method lower of str object at 0x7f82bac32ae8>, <built-in method lower of str object at 0x7f82bac32b20>, <built-in method lower of str object at 0x7f82bac32b58>, <built-in method lower of str object at 0x7f82bac32b90>, <built-in method lower of str object at 0x7f82effff030>, <built-in method lower of str object at 0x7f82bac32bc8>, <built-in method lower of str object at 0x7f82bac32c00>, <built-in method lower of str object at 0x7f82bac32c38>, <built-in method lower of str object at 0x7f82ba9835f0>, <built-in method lower of str object at 0x7f82bac32c70>, <built-in method lower of str object at 0x7f82f01472d0>, <built-in method lower of str object at 0x7f82bac32ca8>, <built-in method lower of str object at 0x7f82bac32ce0>, <built-in method lower of str object at 0x7f82bac32d18>, <built-in method lower of str object at 0x7f82bac32d50>, <built-in method lower of str object at 0x7f82bac32d88>, <built-in method lower of str object at 0x7f82ba983630>, <built-in method lower of str object at 0x7f82bac32dc0>, <built-in method lower of str object at 0x7f82bac32df8>, <built-in method lower of str object at 0x7f82bac32e30>, <built-in method lower of str object at 0x7f82bac32e68>, <built-in method lower of str object at 0x7f82bac32ea0>, <built-in method lower of str object at 0x7f82bac32ed8>, <built-in method lower of str object at 0x7f82bac32f10>, <built-in method lower of str object at 0x7f82ba983670>, <built-in method lower of str object at 0x7f82bac32f48>, <built-in method lower of str object at 0x7f82bac32f80>, <built-in method lower of str object at 0x7f82bac32fb8>, <built-in method lower of str object at 0x7f82bac36030>, <built-in method lower of str object at 0x7f82bac36068>, <built-in method lower of str object at 0x7f82bac360a0>, <built-in method lower of str object at 0x7f82bac360d8>, <built-in method lower of str object at 0x7f82bac36110>, <built-in method lower of str object at 0x7f82bac36148>, <built-in method lower of str object at 0x7f82bac36180>, <built-in method lower of str object at 0x7f82bac361b8>, <built-in method lower of str object at 0x7f82bac361f0>, <built-in method lower of str object at 0x7f82bac36228>, <built-in method lower of str object at 0x7f82bac36260>, <built-in method lower of str object at 0x7f82bac36298>, <built-in method lower of str object at 0x7f82bac362d0>, <built-in method lower of str object at 0x7f82bac36308>, <built-in method lower of str object at 0x7f82bac36340>, <built-in method lower of str object at 0x7f82f0157570>, <built-in method lower of str object at 0x7f82ba9836b0>, <built-in method lower of str object at 0x7f82bac36378>, <built-in method lower of str object at 0x7f82bac363b0>, <built-in method lower of str object at 0x7f82bac363e8>, <built-in method lower of str object at 0x7f82bac36420>, <built-in method lower of str object at 0x7f82bac36458>, <built-in method lower of str object at 0x7f82bac36490>, <built-in method lower of str object at 0x7f82bac364c8>, <built-in method lower of str object at 0x7f82bac36500>, <built-in method lower of str object at 0x7f82bac36538>, <built-in method lower of str object at 0x7f82bac36570>, <built-in method lower of str object at 0x7f82bac365a8>, <built-in method lower of str object at 0x7f82bac365e0>, <built-in method lower of str object at 0x7f82bac36618>, <built-in method lower of str object at 0x7f82bac36650>, <built-in method lower of str object at 0x7f82f012aea0>, <built-in method lower of str object at 0x7f82bac36688>, <built-in method lower of str object at 0x7f82bac366c0>, <built-in method lower of str object at 0x7f82efd43110>, <built-in method lower of str object at 0x7f82bac366f8>, <built-in method lower of str object at 0x7f82f01ebdc0>, <built-in method lower of str object at 0x7f82bac36730>, <built-in method lower of str object at 0x7f82bac36768>, <built-in method lower of str object at 0x7f82bac367a0>, <built-in method lower of str object at 0x7f82bac367d8>, <built-in method lower of str object at 0x7f82bac36810>, <built-in method lower of str object at 0x7f82bac36848>, <built-in method lower of str object at 0x7f82bac36880>, <built-in method lower of str object at 0x7f82bac368b8>, <built-in method lower of str object at 0x7f82bac368f0>, <built-in method lower of str object at 0x7f82bac36928>, <built-in method lower of str object at 0x7f82bac36960>, <built-in method lower of str object at 0x7f82bac36998>, <built-in method lower of str object at 0x7f82bac369d0>, <built-in method lower of str object at 0x7f82bac36a08>, <built-in method lower of str object at 0x7f82bac36a40>, <built-in method lower of str object at 0x7f82bac36a78>, <built-in method lower of str object at 0x7f82bac36ab0>, <built-in method lower of str object at 0x7f82bac36ae8>, <built-in method lower of str object at 0x7f82f0147260>, <built-in method lower of str object at 0x7f82bac36b20>, <built-in method lower of str object at 0x7f82bac36b58>, <built-in method lower of str object at 0x7f82bac36b90>, <built-in method lower of str object at 0x7f82ba9836f0>, <built-in method lower of str object at 0x7f82bac36bc8>, <built-in method lower of str object at 0x7f82bac36c00>, <built-in method lower of str object at 0x7f82bac36c70>, <built-in method lower of str object at 0x7f82bac36ca8>, <built-in method lower of str object at 0x7f82bac36ce0>, <built-in method lower of str object at 0x7f82bac36d18>, <built-in method lower of str object at 0x7f82bac36d50>, <built-in method lower of str object at 0x7f82bac36d88>, <built-in method lower of str object at 0x7f82bac36dc0>, <built-in method lower of str object at 0x7f82bac36df8>, <built-in method lower of str object at 0x7f82ba983730>, <built-in method lower of str object at 0x7f82bac36e30>, <built-in method lower of str object at 0x7f82ba983770>, <built-in method lower of str object at 0x7f82bac36e68>, <built-in method lower of str object at 0x7f82bac36ea0>, <built-in method lower of str object at 0x7f82bac36ed8>, <built-in method lower of str object at 0x7f82bac36f10>, <built-in method lower of str object at 0x7f82ba9837b0>, <built-in method lower of str object at 0x7f82bac36f48>, <built-in method lower of str object at 0x7f82bac36f80>, <built-in method lower of str object at 0x7f82bac36fb8>, <built-in method lower of str object at 0x7f82bac36c38>, <built-in method lower of str object at 0x7f82bac33030>, <built-in method lower of str object at 0x7f82bac33068>, <built-in method lower of str object at 0x7f82bac330a0>, <built-in method lower of str object at 0x7f82bac330d8>, <built-in method lower of str object at 0x7f82bac33110>, <built-in method lower of str object at 0x7f82bac33148>, <built-in method lower of str object at 0x7f82bac33180>, <built-in method lower of str object at 0x7f82bac331b8>, <built-in method lower of str object at 0x7f82bac331f0>, <built-in method lower of str object at 0x7f82bac33228>, <built-in method lower of str object at 0x7f82bac33260>, <built-in method lower of str object at 0x7f82bac33298>, <built-in method lower of str object at 0x7f82bac332d0>, <built-in method lower of str object at 0x7f82bac33308>, <built-in method lower of str object at 0x7f82bac33340>, <built-in method lower of str object at 0x7f82ba983830>, <built-in method lower of str object at 0x7f82bac33378>, <built-in method lower of str object at 0x7f82bac333b0>, <built-in method lower of str object at 0x7f82bac333e8>, <built-in method lower of str object at 0x7f82bac33420>, <built-in method lower of str object at 0x7f82bac33458>, <built-in method lower of str object at 0x7f82bac33490>, <built-in method lower of str object at 0x7f82bac334c8>, <built-in method lower of str object at 0x7f82bac33500>, <built-in method lower of str object at 0x7f82bac33538>, <built-in method lower of str object at 0x7f82ba9837f0>, <built-in method lower of str object at 0x7f82bac33570>, <built-in method lower of str object at 0x7f82bac335a8>, <built-in method lower of str object at 0x7f82bac335e0>, <built-in method lower of str object at 0x7f82bac33618>, <built-in method lower of str object at 0x7f82bac33650>, <built-in method lower of str object at 0x7f82bac33688>, <built-in method lower of str object at 0x7f82bac336c0>, <built-in method lower of str object at 0x7f82bac336f8>, <built-in method lower of str object at 0x7f82bac33730>, <built-in method lower of str object at 0x7f82bac33768>, <built-in method lower of str object at 0x7f82bac337a0>, <built-in method lower of str object at 0x7f82bac337d8>, <built-in method lower of str object at 0x7f82ba9838f0>, <built-in method lower of str object at 0x7f82bac33810>, <built-in method lower of str object at 0x7f82bac33848>, <built-in method lower of str object at 0x7f82bac33880>, <built-in method lower of str object at 0x7f82bac338b8>, <built-in method lower of str object at 0x7f82bac338f0>, <built-in method lower of str object at 0x7f82bac33928>, <built-in method lower of str object at 0x7f82bac33960>, <built-in method lower of str object at 0x7f82bac33998>, <built-in method lower of str object at 0x7f82bac339d0>, <built-in method lower of str object at 0x7f82bac33a08>, <built-in method lower of str object at 0x7f82bac33a40>, <built-in method lower of str object at 0x7f82bac33a78>, <built-in method lower of str object at 0x7f82bac33ab0>, <built-in method lower of str object at 0x7f82bac33ae8>, <built-in method lower of str object at 0x7f82bac33b20>, <built-in method lower of str object at 0x7f82bac33b58>, <built-in method lower of str object at 0x7f82ba9838b0>, <built-in method lower of str object at 0x7f82bac33b90>, <built-in method lower of str object at 0x7f82bac33bc8>, <built-in method lower of str object at 0x7f82ba983930>, <built-in method lower of str object at 0x7f82bac33c00>, <built-in method lower of str object at 0x7f82bac33c38>, <built-in method lower of str object at 0x7f82bac33c70>, <built-in method lower of str object at 0x7f82bac33ca8>, <built-in method lower of str object at 0x7f82bac33ce0>, <built-in method lower of str object at 0x7f82bac33d18>, <built-in method lower of str object at 0x7f82bac33d50>, <built-in method lower of str object at 0x7f82bac33d88>, <built-in method lower of str object at 0x7f82bac33dc0>, <built-in method lower of str object at 0x7f82bac33df8>, <built-in method lower of str object at 0x7f82bac33e30>, <built-in method lower of str object at 0x7f82bac33e68>, <built-in method lower of str object at 0x7f82bac33ea0>, <built-in method lower of str object at 0x7f82bac33ed8>, <built-in method lower of str object at 0x7f82bac33f10>, <built-in method lower of str object at 0x7f82bac33f48>, <built-in method lower of str object at 0x7f82bac33f80>, <built-in method lower of str object at 0x7f82bac33fb8>, <built-in method lower of str object at 0x7f82bac30030>, <built-in method lower of str object at 0x7f82bac30068>, <built-in method lower of str object at 0x7f82bac300a0>, <built-in method lower of str object at 0x7f82ba9839f0>, <built-in method lower of str object at 0x7f82bac300d8>, <built-in method lower of str object at 0x7f82ba983970>, <built-in method lower of str object at 0x7f82bac30110>, <built-in method lower of str object at 0x7f82bac30148>, <built-in method lower of str object at 0x7f82bac30180>, <built-in method lower of str object at 0x7f82bac301b8>, <built-in method lower of str object at 0x7f82bac301f0>, <built-in method lower of str object at 0x7f82bac30228>, <built-in method lower of str object at 0x7f82bac30260>, <built-in method lower of str object at 0x7f82bac30298>, <built-in method lower of str object at 0x7f82bac302d0>, <built-in method lower of str object at 0x7f82bac30308>, <built-in method lower of str object at 0x7f82bac30340>, <built-in method lower of str object at 0x7f82bac30378>, <built-in method lower of str object at 0x7f82bac303b0>, <built-in method lower of str object at 0x7f82bac303e8>, <built-in method lower of str object at 0x7f82bac30420>, <built-in method lower of str object at 0x7f82bac30458>, <built-in method lower of str object at 0x7f82bac30490>, <built-in method lower of str object at 0x7f82bac304c8>, <built-in method lower of str object at 0x7f82bac30500>, <built-in method lower of str object at 0x7f82bac30538>, <built-in method lower of str object at 0x7f82bac30570>, <built-in method lower of str object at 0x7f82bac305a8>, <built-in method lower of str object at 0x7f82bac305e0>, <built-in method lower of str object at 0x7f82bac30618>, <built-in method lower of str object at 0x7f82bac30650>, <built-in method lower of str object at 0x7f82bac30688>, <built-in method lower of str object at 0x7f82bac306c0>, <built-in method lower of str object at 0x7f82bac306f8>, <built-in method lower of str object at 0x7f82bac30730>, <built-in method lower of str object at 0x7f82bac30768>, <built-in method lower of str object at 0x7f82bac307a0>, <built-in method lower of str object at 0x7f82bac307d8>, <built-in method lower of str object at 0x7f82bac30810>, <built-in method lower of str object at 0x7f82bac30848>, <built-in method lower of str object at 0x7f82bac30880>, <built-in method lower of str object at 0x7f82bac308b8>, <built-in method lower of str object at 0x7f82bac308f0>, <built-in method lower of str object at 0x7f82bac30928>, <built-in method lower of str object at 0x7f82bac30960>, <built-in method lower of str object at 0x7f82ba9839b0>, <built-in method lower of str object at 0x7f82bac30998>, <built-in method lower of str object at 0x7f82bac309d0>, <built-in method lower of str object at 0x7f82bac30a08>, <built-in method lower of str object at 0x7f82bac30a40>, <built-in method lower of str object at 0x7f82bac30a78>, <built-in method lower of str object at 0x7f82bac30ab0>, <built-in method lower of str object at 0x7f82bac30ae8>, <built-in method lower of str object at 0x7f82bac30b20>, <built-in method lower of str object at 0x7f82bac30b58>, <built-in method lower of str object at 0x7f82bac30b90>, <built-in method lower of str object at 0x7f82bac30bc8>, <built-in method lower of str object at 0x7f82bac30c00>, <built-in method lower of str object at 0x7f82bac30c38>, <built-in method lower of str object at 0x7f82bac30c70>, <built-in method lower of str object at 0x7f82ba983a30>, <built-in method lower of str object at 0x7f82bac30ca8>, <built-in method lower of str object at 0x7f82bac30ce0>, <built-in method lower of str object at 0x7f82bac30d18>, <built-in method lower of str object at 0x7f82bac30d50>, <built-in method lower of str object at 0x7f82bac30d88>, <built-in method lower of str object at 0x7f82bac30dc0>, <built-in method lower of str object at 0x7f82bac30df8>, <built-in method lower of str object at 0x7f82bac30e30>, <built-in method lower of str object at 0x7f82bac30e68>, <built-in method lower of str object at 0x7f82bac30ea0>, <built-in method lower of str object at 0x7f82ba983b70>, <built-in method lower of str object at 0x7f82ba983bb0>, <built-in method lower of str object at 0x7f82bac30ed8>, <built-in method lower of str object at 0x7f82bac30f10>, <built-in method lower of str object at 0x7f82ba983b30>, <built-in method lower of str object at 0x7f82bac30f48>, <built-in method lower of str object at 0x7f82bac30f80>, <built-in method lower of str object at 0x7f82ba983bf0>, <built-in method lower of str object at 0x7f82bac30fb8>, <built-in method lower of str object at 0x7f82bac54030>, <built-in method lower of str object at 0x7f82bac54068>, <built-in method lower of str object at 0x7f82bac540a0>, <built-in method lower of str object at 0x7f82bac540d8>, <built-in method lower of str object at 0x7f82bac54110>, <built-in method lower of str object at 0x7f82bac54148>, <built-in method lower of str object at 0x7f82bac54180>, <built-in method lower of str object at 0x7f82bac541b8>, <built-in method lower of str object at 0x7f82bac541f0>, <built-in method lower of str object at 0x7f82bac54228>, <built-in method lower of str object at 0x7f82bac54260>, <built-in method lower of str object at 0x7f82bac54298>, <built-in method lower of str object at 0x7f82bac542d0>, <built-in method lower of str object at 0x7f82bac54308>, <built-in method lower of str object at 0x7f82bac54340>, <built-in method lower of str object at 0x7f82bac54378>, <built-in method lower of str object at 0x7f82bac543b0>, <built-in method lower of str object at 0x7f82ba983a70>, <built-in method lower of str object at 0x7f82bac543e8>, <built-in method lower of str object at 0x7f82bac54420>, <built-in method lower of str object at 0x7f82bac54458>, <built-in method lower of str object at 0x7f82bac54490>, <built-in method lower of str object at 0x7f82bac544c8>, <built-in method lower of str object at 0x7f82bac54500>, <built-in method lower of str object at 0x7f82bac54538>, <built-in method lower of str object at 0x7f82bac54570>, <built-in method lower of str object at 0x7f82bac545a8>, <built-in method lower of str object at 0x7f82bac545e0>, <built-in method lower of str object at 0x7f82bac54618>, <built-in method lower of str object at 0x7f82bac54650>, <built-in method lower of str object at 0x7f82bac54688>, <built-in method lower of str object at 0x7f82bac546c0>, <built-in method lower of str object at 0x7f82ba983c30>, <built-in method lower of str object at 0x7f82bac546f8>, <built-in method lower of str object at 0x7f82bac54730>, <built-in method lower of str object at 0x7f82bac54768>, <built-in method lower of str object at 0x7f82bac547a0>, <built-in method lower of str object at 0x7f82bac547d8>, <built-in method lower of str object at 0x7f82bac54810>, <built-in method lower of str object at 0x7f82bac54848>, <built-in method lower of str object at 0x7f82bac54880>, <built-in method lower of str object at 0x7f82bac548b8>, <built-in method lower of str object at 0x7f82bac548f0>, <built-in method lower of str object at 0x7f82bac54928>, <built-in method lower of str object at 0x7f82bac54960>, <built-in method lower of str object at 0x7f82bac54998>, <built-in method lower of str object at 0x7f82bac549d0>, <built-in method lower of str object at 0x7f82bac54a08>, <built-in method lower of str object at 0x7f82bac54a40>, <built-in method lower of str object at 0x7f82bac54a78>, <built-in method lower of str object at 0x7f82bac54ab0>, <built-in method lower of str object at 0x7f82bac54ae8>, <built-in method lower of str object at 0x7f82bac54b20>, <built-in method lower of str object at 0x7f82bac54b58>, <built-in method lower of str object at 0x7f82ba983c70>, <built-in method lower of str object at 0x7f82bac54b90>, <built-in method lower of str object at 0x7f82bac54bc8>, <built-in method lower of str object at 0x7f82bac54c00>, <built-in method lower of str object at 0x7f82bac54c38>, <built-in method lower of str object at 0x7f82bac54c70>, <built-in method lower of str object at 0x7f82bac54ca8>, <built-in method lower of str object at 0x7f82bac54ce0>, <built-in method lower of str object at 0x7f82bac54d18>, <built-in method lower of str object at 0x7f82bac54d50>, <built-in method lower of str object at 0x7f82bac54d88>, <built-in method lower of str object at 0x7f82bac54dc0>, <built-in method lower of str object at 0x7f82bac54df8>, <built-in method lower of str object at 0x7f82bac54e30>, <built-in method lower of str object at 0x7f82bac54e68>, <built-in method lower of str object at 0x7f82bac54ea0>, <built-in method lower of str object at 0x7f82bac54ed8>, <built-in method lower of str object at 0x7f82bac54f10>, <built-in method lower of str object at 0x7f82ba983ab0>, <built-in method lower of str object at 0x7f82bac54f48>, <built-in method lower of str object at 0x7f82bac54f80>, <built-in method lower of str object at 0x7f82bac54fb8>, <built-in method lower of str object at 0x7f82bac55030>, <built-in method lower of str object at 0x7f82bac55068>, <built-in method lower of str object at 0x7f82bac550a0>, <built-in method lower of str object at 0x7f82bac550d8>, <built-in method lower of str object at 0x7f82bac55110>, <built-in method lower of str object at 0x7f82bac55148>, <built-in method lower of str object at 0x7f82bac55180>, <built-in method lower of str object at 0x7f82ba983af0>, <built-in method lower of str object at 0x7f82bac551b8>, <built-in method lower of str object at 0x7f82bac551f0>, <built-in method lower of str object at 0x7f82bac55228>, <built-in method lower of str object at 0x7f82bac55260>, <built-in method lower of str object at 0x7f82bac55298>, <built-in method lower of str object at 0x7f82ba983cb0>, <built-in method lower of str object at 0x7f82bac552d0>, <built-in method lower of str object at 0x7f82bac55308>, <built-in method lower of str object at 0x7f82bac55340>, <built-in method lower of str object at 0x7f82ba983d70>, <built-in method lower of str object at 0x7f82bac55378>, <built-in method lower of str object at 0x7f82bac553b0>, <built-in method lower of str object at 0x7f82bac553e8>, <built-in method lower of str object at 0x7f82bac55420>, <built-in method lower of str object at 0x7f82bac55458>, <built-in method lower of str object at 0x7f82bac55490>, <built-in method lower of str object at 0x7f82bac554c8>, <built-in method lower of str object at 0x7f82bac55500>, <built-in method lower of str object at 0x7f82ba983d30>, <built-in method lower of str object at 0x7f82bac55538>, <built-in method lower of str object at 0x7f82bac55570>, <built-in method lower of str object at 0x7f82bac555a8>, <built-in method lower of str object at 0x7f82bac555e0>, <built-in method lower of str object at 0x7f82bac55618>, <built-in method lower of str object at 0x7f82bac55650>, <built-in method lower of str object at 0x7f82efd6fc00>, <built-in method lower of str object at 0x7f82bac55688>, <built-in method lower of str object at 0x7f82bac556c0>, <built-in method lower of str object at 0x7f82bac556f8>, <built-in method lower of str object at 0x7f82bac55730>, <built-in method lower of str object at 0x7f82bac55768>, <built-in method lower of str object at 0x7f82bac557a0>, <built-in method lower of str object at 0x7f82bac557d8>, <built-in method lower of str object at 0x7f82bac55810>, <built-in method lower of str object at 0x7f82bac55848>, <built-in method lower of str object at 0x7f82bac55880>, <built-in method lower of str object at 0x7f82bac558b8>, <built-in method lower of str object at 0x7f82bac558f0>, <built-in method lower of str object at 0x7f82bac55928>, <built-in method lower of str object at 0x7f82bac55960>, <built-in method lower of str object at 0x7f82bac55998>, <built-in method lower of str object at 0x7f82bac559d0>, <built-in method lower of str object at 0x7f82bac55a08>, <built-in method lower of str object at 0x7f82bac55a40>, <built-in method lower of str object at 0x7f82bac55a78>, <built-in method lower of str object at 0x7f82bac55ab0>, <built-in method lower of str object at 0x7f82bac55ae8>, <built-in method lower of str object at 0x7f82bac55b20>, <built-in method lower of str object at 0x7f82bac55b58>, <built-in method lower of str object at 0x7f82bac55b90>, <built-in method lower of str object at 0x7f82bac55bc8>, <built-in method lower of str object at 0x7f82bac55c00>, <built-in method lower of str object at 0x7f82bac55c38>, <built-in method lower of str object at 0x7f82bac55c70>, <built-in method lower of str object at 0x7f82bac55ca8>, <built-in method lower of str object at 0x7f82bac55ce0>, <built-in method lower of str object at 0x7f82bac55d18>, <built-in method lower of str object at 0x7f82ba983db0>, <built-in method lower of str object at 0x7f82bac55d50>, <built-in method lower of str object at 0x7f82ba983e70>, <built-in method lower of str object at 0x7f82bac55d88>, <built-in method lower of str object at 0x7f82bac55dc0>, <built-in method lower of str object at 0x7f82bac55df8>, <built-in method lower of str object at 0x7f82bac55e30>, <built-in method lower of str object at 0x7f82bac55e68>, <built-in method lower of str object at 0x7f82bac55ea0>, <built-in method lower of str object at 0x7f82ba983ef0>, <built-in method lower of str object at 0x7f82bac55ed8>, <built-in method lower of str object at 0x7f82bac55f10>, <built-in method lower of str object at 0x7f82bac55f48>, <built-in method lower of str object at 0x7f82bac55f80>, <built-in method lower of str object at 0x7f82bac55fb8>, <built-in method lower of str object at 0x7f82ba983f30>, <built-in method lower of str object at 0x7f82bac5e030>, <built-in method lower of str object at 0x7f82bac5e068>, <built-in method lower of str object at 0x7f82bac5e0a0>, <built-in method lower of str object at 0x7f82bac5e0d8>, <built-in method lower of str object at 0x7f82bac5e110>, <built-in method lower of str object at 0x7f82bac5e148>, <built-in method lower of str object at 0x7f82bac5e180>, <built-in method lower of str object at 0x7f82bac5e1b8>, <built-in method lower of str object at 0x7f82ba983f70>, <built-in method lower of str object at 0x7f82bac5e1f0>, <built-in method lower of str object at 0x7f82bac5e228>, <built-in method lower of str object at 0x7f82bac5e260>, <built-in method lower of str object at 0x7f82bac5e298>, <built-in method lower of str object at 0x7f82ba983fb0>, <built-in method lower of str object at 0x7f82bac5e2d0>, <built-in method lower of str object at 0x7f82bac5e308>, <built-in method lower of str object at 0x7f82bac5e340>, <built-in method lower of str object at 0x7f82bac5e378>, <built-in method lower of str object at 0x7f82bac5e3b0>, <built-in method lower of str object at 0x7f82bac5e3e8>, <built-in method lower of str object at 0x7f82bac5e420>, <built-in method lower of str object at 0x7f82bac5e458>, <built-in method lower of str object at 0x7f82bac5e490>, <built-in method lower of str object at 0x7f82bac5e4c8>, <built-in method lower of str object at 0x7f82bac5e500>, <built-in method lower of str object at 0x7f82bac5e538>, <built-in method lower of str object at 0x7f82bac5e570>, <built-in method lower of str object at 0x7f82bac5e5a8>, <built-in method lower of str object at 0x7f82bac5e5e0>, <built-in method lower of str object at 0x7f82ba983df0>, <built-in method lower of str object at 0x7f82bac5e618>, <built-in method lower of str object at 0x7f82bac5e650>, <built-in method lower of str object at 0x7f82bac5e688>, <built-in method lower of str object at 0x7f82bac5e6c0>, <built-in method lower of str object at 0x7f82bac5e6f8>, <built-in method lower of str object at 0x7f82bac5e730>, <built-in method lower of str object at 0x7f82bac5e768>, <built-in method lower of str object at 0x7f82bac5e7a0>, <built-in method lower of str object at 0x7f82bac5e7d8>, <built-in method lower of str object at 0x7f82bac5e810>, <built-in method lower of str object at 0x7f82bac5e848>, <built-in method lower of str object at 0x7f82bac5e880>, <built-in method lower of str object at 0x7f82bac5e8b8>, <built-in method lower of str object at 0x7f82bac5e8f0>, <built-in method lower of str object at 0x7f82bac5e928>, <built-in method lower of str object at 0x7f82bac5e960>, <built-in method lower of str object at 0x7f82bac5e998>, <built-in method lower of str object at 0x7f82bac5e9d0>, <built-in method lower of str object at 0x7f82bac5ea08>, <built-in method lower of str object at 0x7f82bac5ea40>, <built-in method lower of str object at 0x7f82bac5ea78>, <built-in method lower of str object at 0x7f82bac5eab0>, <built-in method lower of str object at 0x7f82bac5eae8>, <built-in method lower of str object at 0x7f82bac5eb20>, <built-in method lower of str object at 0x7f82bac5eb58>, <built-in method lower of str object at 0x7f82bac5eb90>, <built-in method lower of str object at 0x7f82bac5ebc8>, <built-in method lower of str object at 0x7f82ba983e30>, <built-in method lower of str object at 0x7f82bac5ec00>, <built-in method lower of str object at 0x7f82bac5ec38>, <built-in method lower of str object at 0x7f82bac5ec70>, <built-in method lower of str object at 0x7f82bac5eca8>, <built-in method lower of str object at 0x7f82bac5ece0>, <built-in method lower of str object at 0x7f82bac5ed18>, <built-in method lower of str object at 0x7f82bac5ed50>, <built-in method lower of str object at 0x7f82bac5ed88>, <built-in method lower of str object at 0x7f82bac5edc0>, <built-in method lower of str object at 0x7f82bac5edf8>, <built-in method lower of str object at 0x7f82b8b36670>, <built-in method lower of str object at 0x7f82bac5ee30>, <built-in method lower of str object at 0x7f82bac5ee68>, <built-in method lower of str object at 0x7f82bac5eea0>, <built-in method lower of str object at 0x7f82bac5eed8>, <built-in method lower of str object at 0x7f82b8b366f0>, <built-in method lower of str object at 0x7f82bac5ef10>, <built-in method lower of str object at 0x7f82bac5ef48>, <built-in method lower of str object at 0x7f82bac5ef80>, <built-in method lower of str object at 0x7f82bac5efb8>, <built-in method lower of str object at 0x7f82b8b366b0>, <built-in method lower of str object at 0x7f82bac5f030>, <built-in method lower of str object at 0x7f82bac5f068>, <built-in method lower of str object at 0x7f82bac5f0a0>, <built-in method lower of str object at 0x7f82bac5f0d8>, <built-in method lower of str object at 0x7f82bac5f110>, <built-in method lower of str object at 0x7f82bac5f148>, <built-in method lower of str object at 0x7f82bac5f180>, <built-in method lower of str object at 0x7f82b8b367f0>, <built-in method lower of str object at 0x7f82bac5f1b8>, <built-in method lower of str object at 0x7f82bac5f1f0>, <built-in method lower of str object at 0x7f82bac5f228>, <built-in method lower of str object at 0x7f82bac5f260>, <built-in method lower of str object at 0x7f82b8b36770>, <built-in method lower of str object at 0x7f82bac5f298>, <built-in method lower of str object at 0x7f82bac5f2d0>, <built-in method lower of str object at 0x7f82bac5f308>, <built-in method lower of str object at 0x7f82bac5f340>, <built-in method lower of str object at 0x7f82b8b36830>, <built-in method lower of str object at 0x7f82bac5f378>, <built-in method lower of str object at 0x7f82bac5f3b0>, <built-in method lower of str object at 0x7f82bac5f3e8>, <built-in method lower of str object at 0x7f82bac5f420>, <built-in method lower of str object at 0x7f82b8b368f0>, <built-in method lower of str object at 0x7f82b8b368b0>, <built-in method lower of str object at 0x7f82bac5f458>, <built-in method lower of str object at 0x7f82bac5f490>, <built-in method lower of str object at 0x7f82bac5f4c8>, <built-in method lower of str object at 0x7f82bac5f500>, <built-in method lower of str object at 0x7f82bac5f538>, <built-in method lower of str object at 0x7f82bac5f570>, <built-in method lower of str object at 0x7f82bac5f5a8>, <built-in method lower of str object at 0x7f82bac5f5e0>, <built-in method lower of str object at 0x7f82b8b36730>, <built-in method lower of str object at 0x7f82bac5f618>, <built-in method lower of str object at 0x7f82b8b36970>, <built-in method lower of str object at 0x7f82bac5f650>, <built-in method lower of str object at 0x7f82bac5f688>, <built-in method lower of str object at 0x7f82bac5f6c0>, <built-in method lower of str object at 0x7f82bac5f6f8>, <built-in method lower of str object at 0x7f82bac5f730>, <built-in method lower of str object at 0x7f82bac5f768>, <built-in method lower of str object at 0x7f82bac5f7a0>, <built-in method lower of str object at 0x7f82b8b36870>, <built-in method lower of str object at 0x7f82bac5f7d8>, <built-in method lower of str object at 0x7f82bac5f810>, <built-in method lower of str object at 0x7f82bac5f848>, <built-in method lower of str object at 0x7f82bac5f880>, <built-in method lower of str object at 0x7f82bac5f8b8>, <built-in method lower of str object at 0x7f82bac5f8f0>, <built-in method lower of str object at 0x7f82bac5f928>, <built-in method lower of str object at 0x7f82bac5f960>, <built-in method lower of str object at 0x7f82bac5f998>, <built-in method lower of str object at 0x7f82bac5f9d0>, <built-in method lower of str object at 0x7f82b8b36930>, <built-in method lower of str object at 0x7f82bac5fa08>, <built-in method lower of str object at 0x7f82bac5fa40>, <built-in method lower of str object at 0x7f82bac5fa78>, <built-in method lower of str object at 0x7f82bac5fab0>, <built-in method lower of str object at 0x7f82b8b367b0>, <built-in method lower of str object at 0x7f82bac5fae8>, <built-in method lower of str object at 0x7f82bac5fb20>, <built-in method lower of str object at 0x7f82bac5fb58>, <built-in method lower of str object at 0x7f82bac5fb90>, <built-in method lower of str object at 0x7f82bac5fbc8>, <built-in method lower of str object at 0x7f82bac5fc00>, <built-in method lower of str object at 0x7f82bac5fc38>, <built-in method lower of str object at 0x7f82bac5fc70>, <built-in method lower of str object at 0x7f82bac5fca8>, <built-in method lower of str object at 0x7f82bac5fce0>, <built-in method lower of str object at 0x7f82bac5fd18>, <built-in method lower of str object at 0x7f82bac5fd50>, <built-in method lower of str object at 0x7f82bac5fd88>, <built-in method lower of str object at 0x7f82bac5fdc0>, <built-in method lower of str object at 0x7f82bac5fdf8>, <built-in method lower of str object at 0x7f82bac5fe30>, <built-in method lower of str object at 0x7f82bac5fe68>, <built-in method lower of str object at 0x7f82bac5fea0>, <built-in method lower of str object at 0x7f82bac5fed8>, <built-in method lower of str object at 0x7f82b8b369b0>, <built-in method lower of str object at 0x7f82bac5ff10>, <built-in method lower of str object at 0x7f82bac5ff48>, <built-in method lower of str object at 0x7f82bac5ff80>, <built-in method lower of str object at 0x7f82bac5ffb8>, <built-in method lower of str object at 0x7f82bac61030>, <built-in method lower of str object at 0x7f82bac61068>, <built-in method lower of str object at 0x7f82bac610a0>, <built-in method lower of str object at 0x7f82b8b369f0>, <built-in method lower of str object at 0x7f82b8b36a70>, <built-in method lower of str object at 0x7f82bac610d8>, <built-in method lower of str object at 0x7f82bac61110>, <built-in method lower of str object at 0x7f82bac61148>, <built-in method lower of str object at 0x7f82bac61180>, <built-in method lower of str object at 0x7f82bac611b8>, <built-in method lower of str object at 0x7f82bac611f0>, <built-in method lower of str object at 0x7f82bac61228>, <built-in method lower of str object at 0x7f82bac61260>, <built-in method lower of str object at 0x7f82bac61298>, <built-in method lower of str object at 0x7f82bac61308>, <built-in method lower of str object at 0x7f82bac61340>, <built-in method lower of str object at 0x7f82bac61378>, <built-in method lower of str object at 0x7f82b8b36a30>, <built-in method lower of str object at 0x7f82bac613b0>, <built-in method lower of str object at 0x7f82bac613e8>, <built-in method lower of str object at 0x7f82bac61420>, <built-in method lower of str object at 0x7f82bac61458>, <built-in method lower of str object at 0x7f82bac61490>, <built-in method lower of str object at 0x7f82bac614c8>, <built-in method lower of str object at 0x7f82bac61500>, <built-in method lower of str object at 0x7f82bac61538>, <built-in method lower of str object at 0x7f82bac61570>, <built-in method lower of str object at 0x7f82bac615a8>, <built-in method lower of str object at 0x7f82bac615e0>, <built-in method lower of str object at 0x7f82bac61618>, <built-in method lower of str object at 0x7f82b8b36ab0>, <built-in method lower of str object at 0x7f82bac61650>, <built-in method lower of str object at 0x7f82bac61688>, <built-in method lower of str object at 0x7f82bac612d0>, <built-in method lower of str object at 0x7f82bac616c0>, <built-in method lower of str object at 0x7f82bac616f8>, <built-in method lower of str object at 0x7f82bac61730>, <built-in method lower of str object at 0x7f82b8b36af0>, <built-in method lower of str object at 0x7f82bac61768>, <built-in method lower of str object at 0x7f82bac617a0>, <built-in method lower of str object at 0x7f82bac617d8>, <built-in method lower of str object at 0x7f82f00504c8>, <built-in method lower of str object at 0x7f82f0050b58>, <built-in method lower of str object at 0x7f82f019e490>, <built-in method lower of str object at 0x7f82bac61810>, <built-in method lower of str object at 0x7f82bac61848>, <built-in method lower of str object at 0x7f82bac61880>, <built-in method lower of str object at 0x7f82f0050228>, <built-in method lower of str object at 0x7f82bac618b8>, <built-in method lower of str object at 0x7f82bac618f0>, <built-in method lower of str object at 0x7f82bac61928>, <built-in method lower of str object at 0x7f82f0050b90>, <built-in method lower of str object at 0x7f82bac61960>, <built-in method lower of str object at 0x7f82bac61998>, <built-in method lower of str object at 0x7f82bac619d0>, <built-in method lower of str object at 0x7f82b8b36b30>, <built-in method lower of str object at 0x7f82f0050500>, <built-in method lower of str object at 0x7f82bac61a08>, <built-in method lower of str object at 0x7f82bac61a40>, <built-in method lower of str object at 0x7f82bac61a78>, <built-in method lower of str object at 0x7f82bac61ab0>, <built-in method lower of str object at 0x7f82bac61ae8>, <built-in method lower of str object at 0x7f82bac61b20>, <built-in method lower of str object at 0x7f82bac61b58>, <built-in method lower of str object at 0x7f82bac61b90>, <built-in method lower of str object at 0x7f82bac61bc8>, <built-in method lower of str object at 0x7f82bac61c00>, <built-in method lower of str object at 0x7f82bac61c38>, <built-in method lower of str object at 0x7f82bac61c70>, <built-in method lower of str object at 0x7f82bac61ca8>, <built-in method lower of str object at 0x7f82bac61ce0>, <built-in method lower of str object at 0x7f82f0147308>, <built-in method lower of str object at 0x7f82bac61d18>, <built-in method lower of str object at 0x7f82bac61d50>, <built-in method lower of str object at 0x7f82bac61d88>, <built-in method lower of str object at 0x7f82bac61dc0>, <built-in method lower of str object at 0x7f82bac61df8>, <built-in method lower of str object at 0x7f82bac61e30>, <built-in method lower of str object at 0x7f82bac61e68>, <built-in method lower of str object at 0x7f82bac61ea0>, <built-in method lower of str object at 0x7f82bac61ed8>, <built-in method lower of str object at 0x7f82bac61f10>, <built-in method lower of str object at 0x7f82bac61f48>, <built-in method lower of str object at 0x7f82bac61f80>, <built-in method lower of str object at 0x7f82bac61fb8>, <built-in method lower of str object at 0x7f82bac42030>, <built-in method lower of str object at 0x7f82bac42068>, <built-in method lower of str object at 0x7f82bac420a0>, <built-in method lower of str object at 0x7f82bac420d8>, <built-in method lower of str object at 0x7f82bac42110>, <built-in method lower of str object at 0x7f82b8b36bb0>, <built-in method lower of str object at 0x7f82bac42148>, <built-in method lower of str object at 0x7f82bac42180>, <built-in method lower of str object at 0x7f82bac421b8>, <built-in method lower of str object at 0x7f82bac421f0>, <built-in method lower of str object at 0x7f82bac42228>, <built-in method lower of str object at 0x7f82bac42260>, <built-in method lower of str object at 0x7f82bac42298>, <built-in method lower of str object at 0x7f82bac422d0>, <built-in method lower of str object at 0x7f82bac42308>, <built-in method lower of str object at 0x7f82bac42340>, <built-in method lower of str object at 0x7f82bac42378>, <built-in method lower of str object at 0x7f82bac423b0>, <built-in method lower of str object at 0x7f82b8b36bf0>, <built-in method lower of str object at 0x7f82bac423e8>, <built-in method lower of str object at 0x7f82bac42420>, <built-in method lower of str object at 0x7f82bac42458>, <built-in method lower of str object at 0x7f82bac42490>, <built-in method lower of str object at 0x7f82bac424c8>, <built-in method lower of str object at 0x7f82bac42500>, <built-in method lower of str object at 0x7f82b8b36c30>, <built-in method lower of str object at 0x7f82bac42538>, <built-in method lower of str object at 0x7f82bac42570>, <built-in method lower of str object at 0x7f82bac425a8>, <built-in method lower of str object at 0x7f82bac425e0>, <built-in method lower of str object at 0x7f82bac42618>, <built-in method lower of str object at 0x7f82b8b36c70>, <built-in method lower of str object at 0x7f82bac42650>, <built-in method lower of str object at 0x7f82bac42688>, <built-in method lower of str object at 0x7f82bac426c0>, <built-in method lower of str object at 0x7f82bac426f8>, <built-in method lower of str object at 0x7f82bac42730>, <built-in method lower of str object at 0x7f82bac42768>, <built-in method lower of str object at 0x7f82bac427a0>, <built-in method lower of str object at 0x7f82bac427d8>, <built-in method lower of str object at 0x7f82bac42810>, <built-in method lower of str object at 0x7f82bac42848>, <built-in method lower of str object at 0x7f82bac42880>, <built-in method lower of str object at 0x7f82bac428b8>, <built-in method lower of str object at 0x7f82bac428f0>, <built-in method lower of str object at 0x7f82bac42928>, <built-in method lower of str object at 0x7f82bac42960>, <built-in method lower of str object at 0x7f82bac42998>, <built-in method lower of str object at 0x7f82bac429d0>, <built-in method lower of str object at 0x7f82bac42a08>, <built-in method lower of str object at 0x7f82bac42a40>, <built-in method lower of str object at 0x7f82bac42a78>, <built-in method lower of str object at 0x7f82bac42ab0>, <built-in method lower of str object at 0x7f82b8b36cf0>, <built-in method lower of str object at 0x7f82bac42ae8>, <built-in method lower of str object at 0x7f82bac42b20>, <built-in method lower of str object at 0x7f82bac42b58>, <built-in method lower of str object at 0x7f82b8b36cb0>, <built-in method lower of str object at 0x7f82bac42b90>, <built-in method lower of str object at 0x7f82bac42bc8>, <built-in method lower of str object at 0x7f82bac42c00>, <built-in method lower of str object at 0x7f82bac42c38>, <built-in method lower of str object at 0x7f82bac42c70>, <built-in method lower of str object at 0x7f82bac42ca8>, <built-in method lower of str object at 0x7f82bac42ce0>, <built-in method lower of str object at 0x7f82bac42d18>, <built-in method lower of str object at 0x7f82bac42d50>, <built-in method lower of str object at 0x7f82bac42d88>, <built-in method lower of str object at 0x7f82bac42dc0>, <built-in method lower of str object at 0x7f82bac42df8>, <built-in method lower of str object at 0x7f82bac42e30>, <built-in method lower of str object at 0x7f82bac42e68>, <built-in method lower of str object at 0x7f82bac42ea0>, <built-in method lower of str object at 0x7f82bac42ed8>, <built-in method lower of str object at 0x7f82b8b36d30>, <built-in method lower of str object at 0x7f82bac42f10>, <built-in method lower of str object at 0x7f82bac42f48>, <built-in method lower of str object at 0x7f82bac42f80>, <built-in method lower of str object at 0x7f82bac42fb8>, <built-in method lower of str object at 0x7f82bac44030>, <built-in method lower of str object at 0x7f82bac44068>, <built-in method lower of str object at 0x7f82bac440a0>, <built-in method lower of str object at 0x7f82bac440d8>, <built-in method lower of str object at 0x7f82bac44110>, <built-in method lower of str object at 0x7f82bac44148>, <built-in method lower of str object at 0x7f82bac44180>, <built-in method lower of str object at 0x7f82bac441b8>, <built-in method lower of str object at 0x7f82bac441f0>, <built-in method lower of str object at 0x7f82bac44228>, <built-in method lower of str object at 0x7f82bac44260>, <built-in method lower of str object at 0x7f82bac44298>, <built-in method lower of str object at 0x7f82bac442d0>, <built-in method lower of str object at 0x7f82bac44308>, <built-in method lower of str object at 0x7f82bac44340>, <built-in method lower of str object at 0x7f82bac44378>, <built-in method lower of str object at 0x7f82bac443b0>, <built-in method lower of str object at 0x7f82bac443e8>, <built-in method lower of str object at 0x7f82bac44420>, <built-in method lower of str object at 0x7f82bac44458>, <built-in method lower of str object at 0x7f82bac44490>, <built-in method lower of str object at 0x7f82bac444c8>, <built-in method lower of str object at 0x7f82bac44500>, <built-in method lower of str object at 0x7f82bac44538>, <built-in method lower of str object at 0x7f82bac44570>, <built-in method lower of str object at 0x7f82bac445a8>, <built-in method lower of str object at 0x7f82bac445e0>, <built-in method lower of str object at 0x7f82bac44618>, <built-in method lower of str object at 0x7f82bac44650>, <built-in method lower of str object at 0x7f82bac44688>, <built-in method lower of str object at 0x7f82bac446c0>, <built-in method lower of str object at 0x7f82bac446f8>, <built-in method lower of str object at 0x7f82bac44730>, <built-in method lower of str object at 0x7f82bac44768>, <built-in method lower of str object at 0x7f82bac447a0>, <built-in method lower of str object at 0x7f82bac447d8>, <built-in method lower of str object at 0x7f82bac44810>, <built-in method lower of str object at 0x7f82bac44848>, <built-in method lower of str object at 0x7f82b8b36d70>, <built-in method lower of str object at 0x7f82bac44880>, <built-in method lower of str object at 0x7f82b8b36fb0>, <built-in method lower of str object at 0x7f82bac448b8>, <built-in method lower of str object at 0x7f82b8b36030>, <built-in method lower of str object at 0x7f82b8b360f0>, <built-in method lower of str object at 0x7f82bac448f0>, <built-in method lower of str object at 0x7f82bac44928>, <built-in method lower of str object at 0x7f82bac44960>, <built-in method lower of str object at 0x7f82bac44998>, <built-in method lower of str object at 0x7f82bac449d0>, <built-in method lower of str object at 0x7f82bac44a08>, <built-in method lower of str object at 0x7f82bac44a40>, <built-in method lower of str object at 0x7f82bac44a78>, <built-in method lower of str object at 0x7f82bac44ab0>, <built-in method lower of str object at 0x7f82bac44ae8>, <built-in method lower of str object at 0x7f82bac44b20>, <built-in method lower of str object at 0x7f82bac44b58>, <built-in method lower of str object at 0x7f82bac44b90>, <built-in method lower of str object at 0x7f82bac44bc8>, <built-in method lower of str object at 0x7f82bac44c00>, <built-in method lower of str object at 0x7f82bac44c38>, <built-in method lower of str object at 0x7f82bac44c70>, <built-in method lower of str object at 0x7f82bac44ca8>, <built-in method lower of str object at 0x7f82bac44ce0>, <built-in method lower of str object at 0x7f82bac44d18>, <built-in method lower of str object at 0x7f82bac44d50>, <built-in method lower of str object at 0x7f82bac44d88>, <built-in method lower of str object at 0x7f82bac44dc0>, <built-in method lower of str object at 0x7f82bac44df8>, <built-in method lower of str object at 0x7f82bac44e30>, <built-in method lower of str object at 0x7f82bac44e68>, <built-in method lower of str object at 0x7f82bac44ea0>, <built-in method lower of str object at 0x7f82bac44ed8>, <built-in method lower of str object at 0x7f82bac44f10>, <built-in method lower of str object at 0x7f82bac44f48>, <built-in method lower of str object at 0x7f82bac44f80>, <built-in method lower of str object at 0x7f82bac44fb8>, <built-in method lower of str object at 0x7f82bac45030>, <built-in method lower of str object at 0x7f82bac45068>, <built-in method lower of str object at 0x7f82bac450a0>, <built-in method lower of str object at 0x7f82b8b361b0>, <built-in method lower of str object at 0x7f82bac450d8>, <built-in method lower of str object at 0x7f82b8b360b0>, <built-in method lower of str object at 0x7f82bac45110>, <built-in method lower of str object at 0x7f82bac45148>, <built-in method lower of str object at 0x7f82bac45180>, <built-in method lower of str object at 0x7f82bac451b8>, <built-in method lower of str object at 0x7f82bac451f0>, <built-in method lower of str object at 0x7f82bac45228>, <built-in method lower of str object at 0x7f82bac45260>, <built-in method lower of str object at 0x7f82bac45298>, <built-in method lower of str object at 0x7f82bac452d0>, <built-in method lower of str object at 0x7f82bac45308>, <built-in method lower of str object at 0x7f82bac45340>, <built-in method lower of str object at 0x7f82bac45378>, <built-in method lower of str object at 0x7f82bac453b0>, <built-in method lower of str object at 0x7f82bac453e8>, <built-in method lower of str object at 0x7f82bac45420>, <built-in method lower of str object at 0x7f82bac45458>, <built-in method lower of str object at 0x7f82bac45490>, <built-in method lower of str object at 0x7f82bac454c8>, <built-in method lower of str object at 0x7f82bac45500>, <built-in method lower of str object at 0x7f82bac45538>, <built-in method lower of str object at 0x7f82bac45570>, <built-in method lower of str object at 0x7f82b8b36130>, <built-in method lower of str object at 0x7f82bac455a8>, <built-in method lower of str object at 0x7f82bac455e0>, <built-in method lower of str object at 0x7f82bac45618>, <built-in method lower of str object at 0x7f82b8b36170>, <built-in method lower of str object at 0x7f82bac45650>, <built-in method lower of str object at 0x7f82bac45688>, <built-in method lower of str object at 0x7f82bac456c0>, <built-in method lower of str object at 0x7f82bac456f8>, <built-in method lower of str object at 0x7f82bac45730>, <built-in method lower of str object at 0x7f82bac45768>, <built-in method lower of str object at 0x7f82bac457a0>, <built-in method lower of str object at 0x7f82bac457d8>, <built-in method lower of str object at 0x7f82bac45810>, <built-in method lower of str object at 0x7f82bac45848>, <built-in method lower of str object at 0x7f82bac45880>, <built-in method lower of str object at 0x7f82bac458b8>, <built-in method lower of str object at 0x7f82bac458f0>, <built-in method lower of str object at 0x7f82bac45928>, <built-in method lower of str object at 0x7f82bac45960>, <built-in method lower of str object at 0x7f82bac45998>, <built-in method lower of str object at 0x7f82bac459d0>, <built-in method lower of str object at 0x7f82bac45a08>, <built-in method lower of str object at 0x7f82bac45a40>, <built-in method lower of str object at 0x7f82bac45a78>, <built-in method lower of str object at 0x7f82bac45ab0>, <built-in method lower of str object at 0x7f82b8b361f0>, <built-in method lower of str object at 0x7f82bac45ae8>, <built-in method lower of str object at 0x7f82bac45b20>, <built-in method lower of str object at 0x7f82bac45b58>, <built-in method lower of str object at 0x7f82bac45b90>, <built-in method lower of str object at 0x7f82bac45bc8>, <built-in method lower of str object at 0x7f82bac45c00>, <built-in method lower of str object at 0x7f82bac45c38>, <built-in method lower of str object at 0x7f82bac45c70>, <built-in method lower of str object at 0x7f82bac45ca8>, <built-in method lower of str object at 0x7f82bac45ce0>, <built-in method lower of str object at 0x7f82bac45d18>, <built-in method lower of str object at 0x7f82bac45d50>, <built-in method lower of str object at 0x7f82bac45d88>, <built-in method lower of str object at 0x7f82bac45dc0>, <built-in method lower of str object at 0x7f82bac45df8>, <built-in method lower of str object at 0x7f82bac45e30>, <built-in method lower of str object at 0x7f82bac45e68>, <built-in method lower of str object at 0x7f82b8b36230>, <built-in method lower of str object at 0x7f82bac45ea0>, <built-in method lower of str object at 0x7f82bac45ed8>, <built-in method lower of str object at 0x7f82b8b36df0>, <built-in method lower of str object at 0x7f82bac45f10>, <built-in method lower of str object at 0x7f82bac45f48>, <built-in method lower of str object at 0x7f82bac45f80>, <built-in method lower of str object at 0x7f82bac45fb8>, <built-in method lower of str object at 0x7f82b927b030>, <built-in method lower of str object at 0x7f82b927b068>, <built-in method lower of str object at 0x7f82b927b0a0>, <built-in method lower of str object at 0x7f82b927b0d8>, <built-in method lower of str object at 0x7f82b927b110>, <built-in method lower of str object at 0x7f82b927b148>, <built-in method lower of str object at 0x7f82b8b36eb0>, <built-in method lower of str object at 0x7f82b927b180>, <built-in method lower of str object at 0x7f82b927b1b8>, <built-in method lower of str object at 0x7f82b927b1f0>, <built-in method lower of str object at 0x7f82b927b228>, <built-in method lower of str object at 0x7f82b927b260>, <built-in method lower of str object at 0x7f82b927b298>, <built-in method lower of str object at 0x7f82b927b2d0>, <built-in method lower of str object at 0x7f82b927b308>, <built-in method lower of str object at 0x7f82b927b340>, <built-in method lower of str object at 0x7f82b927b378>, <built-in method lower of str object at 0x7f82b927b3b0>, <built-in method lower of str object at 0x7f82b927b3e8>, <built-in method lower of str object at 0x7f82b927b420>, <built-in method lower of str object at 0x7f82b8b36e70>, <built-in method lower of str object at 0x7f82b8b36ef0>, <built-in method lower of str object at 0x7f82b927b458>, <built-in method lower of str object at 0x7f82b927b490>, <built-in method lower of str object at 0x7f82b927b4c8>, <built-in method lower of str object at 0x7f82b927b500>, <built-in method lower of str object at 0x7f82b927b538>, <built-in method lower of str object at 0x7f82b927b570>, <built-in method lower of str object at 0x7f82b927b5a8>, <built-in method lower of str object at 0x7f82b927b5e0>, <built-in method lower of str object at 0x7f82b8b36f30>, <built-in method lower of str object at 0x7f82b927b618>, <built-in method lower of str object at 0x7f82b927b650>, <built-in method lower of str object at 0x7f82b927b688>, <built-in method lower of str object at 0x7f82b927b6c0>, <built-in method lower of str object at 0x7f82b927b6f8>, <built-in method lower of str object at 0x7f82b8b36f70>, <built-in method lower of str object at 0x7f82b927b730>, <built-in method lower of str object at 0x7f82b927b768>, <built-in method lower of str object at 0x7f82b927b7a0>, <built-in method lower of str object at 0x7f82b927b7d8>, <built-in method lower of str object at 0x7f82b927b810>, <built-in method lower of str object at 0x7f82b8b36e30>, <built-in method lower of str object at 0x7f82b927b848>, <built-in method lower of str object at 0x7f82b8b362f0>, <built-in method lower of str object at 0x7f82b927b880>, <built-in method lower of str object at 0x7f82b927b8b8>, <built-in method lower of str object at 0x7f82b927b8f0>, <built-in method lower of str object at 0x7f82b927b928>, <built-in method lower of str object at 0x7f82b927b960>, <built-in method lower of str object at 0x7f82b927b998>, <built-in method lower of str object at 0x7f82b927b9d0>, <built-in method lower of str object at 0x7f82b927ba08>, <built-in method lower of str object at 0x7f82b927ba40>, <built-in method lower of str object at 0x7f82b927ba78>, <built-in method lower of str object at 0x7f82b927bab0>, <built-in method lower of str object at 0x7f82b927bae8>, <built-in method lower of str object at 0x7f82b927bb20>, <built-in method lower of str object at 0x7f82b927bb58>, <built-in method lower of str object at 0x7f82b927bb90>, <built-in method lower of str object at 0x7f82b927bbc8>, <built-in method lower of str object at 0x7f82b927bc00>, <built-in method lower of str object at 0x7f82b927bc38>, <built-in method lower of str object at 0x7f82b927bc70>, <built-in method lower of str object at 0x7f82b927bca8>, <built-in method lower of str object at 0x7f82b927bce0>, <built-in method lower of str object at 0x7f82b927bd18>, <built-in method lower of str object at 0x7f82b927bd50>, <built-in method lower of str object at 0x7f82b927bd88>, <built-in method lower of str object at 0x7f82b927bdc0>, <built-in method lower of str object at 0x7f82b927bdf8>, <built-in method lower of str object at 0x7f82b927be30>, <built-in method lower of str object at 0x7f82b927be68>, <built-in method lower of str object at 0x7f82b927bea0>, <built-in method lower of str object at 0x7f82b927bed8>, <built-in method lower of str object at 0x7f82b927bf10>, <built-in method lower of str object at 0x7f82b927bf48>, <built-in method lower of str object at 0x7f82b927bf80>, <built-in method lower of str object at 0x7f82b927bfb8>, <built-in method lower of str object at 0x7f82b9291030>, <built-in method lower of str object at 0x7f82b9291068>, <built-in method lower of str object at 0x7f82b92910a0>, <built-in method lower of str object at 0x7f82b92910d8>, <built-in method lower of str object at 0x7f82b9291110>, <built-in method lower of str object at 0x7f82b9291148>, <built-in method lower of str object at 0x7f82b9291180>, <built-in method lower of str object at 0x7f82b92911b8>, <built-in method lower of str object at 0x7f82b92911f0>, <built-in method lower of str object at 0x7f82b9291228>, <built-in method lower of str object at 0x7f82b9291260>, <built-in method lower of str object at 0x7f82b8b362b0>, <built-in method lower of str object at 0x7f82b9291298>, <built-in method lower of str object at 0x7f82b92912d0>, <built-in method lower of str object at 0x7f82b9291308>, <built-in method lower of str object at 0x7f82b9291340>, <built-in method lower of str object at 0x7f82b9291378>, <built-in method lower of str object at 0x7f82b92913b0>, <built-in method lower of str object at 0x7f82b92913e8>, <built-in method lower of str object at 0x7f82b9291420>, <built-in method lower of str object at 0x7f82b8b36330>, <built-in method lower of str object at 0x7f82b9291458>, <built-in method lower of str object at 0x7f82b9291490>, <built-in method lower of str object at 0x7f82b8b363f0>, <built-in method lower of str object at 0x7f82b8b36370>, <built-in method lower of str object at 0x7f82b92914c8>, <built-in method lower of str object at 0x7f82b9291500>, <built-in method lower of str object at 0x7f82b9291538>, <built-in method lower of str object at 0x7f82b9291570>, <built-in method lower of str object at 0x7f82b8b363b0>, <built-in method lower of str object at 0x7f82b92915a8>, <built-in method lower of str object at 0x7f82b92915e0>, <built-in method lower of str object at 0x7f82b9291618>, <built-in method lower of str object at 0x7f82b9291650>, <built-in method lower of str object at 0x7f82b9291688>, <built-in method lower of str object at 0x7f82b92916c0>, <built-in method lower of str object at 0x7f82b92916f8>, <built-in method lower of str object at 0x7f82b9291730>, <built-in method lower of str object at 0x7f82b9291768>, <built-in method lower of str object at 0x7f82b8b36430>, <built-in method lower of str object at 0x7f82b92917a0>, <built-in method lower of str object at 0x7f82b92917d8>, <built-in method lower of str object at 0x7f82b9291810>, <built-in method lower of str object at 0x7f82b9291848>, <built-in method lower of str object at 0x7f82b9291880>, <built-in method lower of str object at 0x7f82b92918b8>, <built-in method lower of str object at 0x7f82b92918f0>, <built-in method lower of str object at 0x7f82b9291928>, <built-in method lower of str object at 0x7f82b9291960>, <built-in method lower of str object at 0x7f82b9291998>, <built-in method lower of str object at 0x7f82b92919d0>, <built-in method lower of str object at 0x7f82b9291a08>, <built-in method lower of str object at 0x7f82b8b36470>, <built-in method lower of str object at 0x7f82b9291a40>, <built-in method lower of str object at 0x7f82b9291a78>, <built-in method lower of str object at 0x7f82b9291ab0>, <built-in method lower of str object at 0x7f82b9291ae8>, <built-in method lower of str object at 0x7f82b9291b20>, <built-in method lower of str object at 0x7f82b9291b58>, <built-in method lower of str object at 0x7f82b9291b90>, <built-in method lower of str object at 0x7f82b9291bc8>, <built-in method lower of str object at 0x7f82b9291c00>, <built-in method lower of str object at 0x7f82b9291c38>, <built-in method lower of str object at 0x7f82b9291c70>, <built-in method lower of str object at 0x7f82b9291ca8>, <built-in method lower of str object at 0x7f82b9291ce0>, <built-in method lower of str object at 0x7f82b9291d18>, <built-in method lower of str object at 0x7f82b9291d50>, <built-in method lower of str object at 0x7f82b9291d88>, <built-in method lower of str object at 0x7f82b9291dc0>, <built-in method lower of str object at 0x7f82b9291df8>, <built-in method lower of str object at 0x7f82b9291e30>, <built-in method lower of str object at 0x7f82b9291e68>, <built-in method lower of str object at 0x7f82b9291ea0>, <built-in method lower of str object at 0x7f82b9291ed8>, <built-in method lower of str object at 0x7f82b9291f10>, <built-in method lower of str object at 0x7f82b9291f48>, <built-in method lower of str object at 0x7f82b9291f80>, <built-in method lower of str object at 0x7f82b9291fb8>, <built-in method lower of str object at 0x7f82b8b364b0>, <built-in method lower of str object at 0x7f82b929c030>, <built-in method lower of str object at 0x7f82b929c068>, <built-in method lower of str object at 0x7f82b929c0a0>, <built-in method lower of str object at 0x7f82b929c0d8>, <built-in method lower of str object at 0x7f82b929c110>, <built-in method lower of str object at 0x7f82b929c148>, <built-in method lower of str object at 0x7f82b8b364f0>, <built-in method lower of str object at 0x7f82b929c180>, <built-in method lower of str object at 0x7f82b929c1b8>, <built-in method lower of str object at 0x7f82b8b36570>, <built-in method lower of str object at 0x7f82b929c1f0>, <built-in method lower of str object at 0x7f82b8b36530>, <built-in method lower of str object at 0x7f82b929c228>, <built-in method lower of str object at 0x7f82b929c260>, <built-in method lower of str object at 0x7f82b929c298>, <built-in method lower of str object at 0x7f82b929c2d0>, <built-in method lower of str object at 0x7f82b929c308>, <built-in method lower of str object at 0x7f82b8b365b0>, <built-in method lower of str object at 0x7f82b929c340>, <built-in method lower of str object at 0x7f82b929c378>, <built-in method lower of str object at 0x7f82b929c3b0>, <built-in method lower of str object at 0x7f82b929c3e8>, <built-in method lower of str object at 0x7f82b8b36270>, <built-in method lower of str object at 0x7f82ba263030>, <built-in method lower of str object at 0x7f82b929c420>, <built-in method lower of str object at 0x7f82b8b365f0>, <built-in method lower of str object at 0x7f82b929c458>, <built-in method lower of str object at 0x7f82b929c490>, <built-in method lower of str object at 0x7f82b929c4c8>, <built-in method lower of str object at 0x7f82b929c500>, <built-in method lower of str object at 0x7f82b929c538>, <built-in method lower of str object at 0x7f82b929c570>, <built-in method lower of str object at 0x7f82b929c5a8>, <built-in method lower of str object at 0x7f82b929c5e0>, <built-in method lower of str object at 0x7f82b929c618>, <built-in method lower of str object at 0x7f82b929c650>, <built-in method lower of str object at 0x7f82b929c688>, <built-in method lower of str object at 0x7f82b929c6c0>, <built-in method lower of str object at 0x7f82b929c6f8>, <built-in method lower of str object at 0x7f82b929c730>, <built-in method lower of str object at 0x7f82b929c768>, <built-in method lower of str object at 0x7f82b929c7a0>, <built-in method lower of str object at 0x7f82b929c7d8>, <built-in method lower of str object at 0x7f82ba2630b0>, <built-in method lower of str object at 0x7f82b929c810>, <built-in method lower of str object at 0x7f82b929c848>, <built-in method lower of str object at 0x7f82ba263070>, <built-in method lower of str object at 0x7f82b929c880>, <built-in method lower of str object at 0x7f82b929c8b8>, <built-in method lower of str object at 0x7f82b929c8f0>, <built-in method lower of str object at 0x7f82b929c928>, <built-in method lower of str object at 0x7f82b929c960>, <built-in method lower of str object at 0x7f82ba2630f0>, <built-in method lower of str object at 0x7f82ba2631b0>, <built-in method lower of str object at 0x7f82b929c998>, <built-in method lower of str object at 0x7f82ba263230>, <built-in method lower of str object at 0x7f82b929c9d0>, <built-in method lower of str object at 0x7f82b929ca08>, <built-in method lower of str object at 0x7f82b929ca40>, <built-in method lower of str object at 0x7f82b929ca78>, <built-in method lower of str object at 0x7f82ba263170>, <built-in method lower of str object at 0x7f82b929cab0>, <built-in method lower of str object at 0x7f82b929cae8>, <built-in method lower of str object at 0x7f82ba2631f0>, <built-in method lower of str object at 0x7f82b929cb20>, <built-in method lower of str object at 0x7f82b929cb58>, <built-in method lower of str object at 0x7f82b929cb90>, <built-in method lower of str object at 0x7f82b929cbc8>, <built-in method lower of str object at 0x7f82b929cc00>, <built-in method lower of str object at 0x7f82ba263270>, <built-in method lower of str object at 0x7f82ba2632b0>, <built-in method lower of str object at 0x7f82b929cc38>, <built-in method lower of str object at 0x7f82b929cc70>, <built-in method lower of str object at 0x7f82b929cca8>, <built-in method lower of str object at 0x7f82b929cce0>, <built-in method lower of str object at 0x7f82b929cd18>, <built-in method lower of str object at 0x7f82b929cd50>, <built-in method lower of str object at 0x7f82b929cd88>, <built-in method lower of str object at 0x7f82ba263970>, <built-in method lower of str object at 0x7f82b929cdc0>, <built-in method lower of str object at 0x7f82b929cdf8>, <built-in method lower of str object at 0x7f82b929ce30>, <built-in method lower of str object at 0x7f82b929ce68>, <built-in method lower of str object at 0x7f82ba2639b0>, <built-in method lower of str object at 0x7f82b929cea0>, <built-in method lower of str object at 0x7f82b929ced8>, <built-in method lower of str object at 0x7f82b929cf10>, <built-in method lower of str object at 0x7f82b929cf48>, <built-in method lower of str object at 0x7f82b929cf80>, <built-in method lower of str object at 0x7f82ba2639f0>, <built-in method lower of str object at 0x7f82b929cfb8>, <built-in method lower of str object at 0x7f82b929d030>, <built-in method lower of str object at 0x7f82b929d068>, <built-in method lower of str object at 0x7f82b929d0a0>, <built-in method lower of str object at 0x7f82b929d0d8>, <built-in method lower of str object at 0x7f82b929d110>, <built-in method lower of str object at 0x7f82b929d148>, <built-in method lower of str object at 0x7f82b929d180>, <built-in method lower of str object at 0x7f82b929d1b8>, <built-in method lower of str object at 0x7f82b929d1f0>, <built-in method lower of str object at 0x7f82b929d228>, <built-in method lower of str object at 0x7f82b929d260>, <built-in method lower of str object at 0x7f82ba263a70>, <built-in method lower of str object at 0x7f82b929d298>, <built-in method lower of str object at 0x7f82b929d2d0>, <built-in method lower of str object at 0x7f82b929d308>, <built-in method lower of str object at 0x7f82b929d340>, <built-in method lower of str object at 0x7f82b929d378>, <built-in method lower of str object at 0x7f82b929d3b0>, <built-in method lower of str object at 0x7f82b929d3e8>, <built-in method lower of str object at 0x7f82b929d420>, <built-in method lower of str object at 0x7f82b929d458>, <built-in method lower of str object at 0x7f82b929d490>, <built-in method lower of str object at 0x7f82b929d4c8>, <built-in method lower of str object at 0x7f82b929d500>, <built-in method lower of str object at 0x7f82b929d538>, <built-in method lower of str object at 0x7f82ba263ab0>, <built-in method lower of str object at 0x7f82f0193298>, <built-in method lower of str object at 0x7f82b929d570>, <built-in method lower of str object at 0x7f82b929d5a8>, <built-in method lower of str object at 0x7f82b929d5e0>, <built-in method lower of str object at 0x7f82b929d618>, <built-in method lower of str object at 0x7f82b929d650>, <built-in method lower of str object at 0x7f82b929d688>, <built-in method lower of str object at 0x7f82b929d6c0>, <built-in method lower of str object at 0x7f82b929d6f8>, <built-in method lower of str object at 0x7f82b929d730>, <built-in method lower of str object at 0x7f82b929d768>, <built-in method lower of str object at 0x7f82b929d7a0>, <built-in method lower of str object at 0x7f82b929d7d8>, <built-in method lower of str object at 0x7f82ba263a30>, <built-in method lower of str object at 0x7f82b929d810>, <built-in method lower of str object at 0x7f82b929d848>, <built-in method lower of str object at 0x7f82b929d880>, <built-in method lower of str object at 0x7f82b929d8b8>, <built-in method lower of str object at 0x7f82ba263af0>, <built-in method lower of str object at 0x7f82b929d8f0>, <built-in method lower of str object at 0x7f82b929d928>, <built-in method lower of str object at 0x7f82ba263b30>, <built-in method lower of str object at 0x7f82b929d960>, <built-in method lower of str object at 0x7f82ba263bb0>, <built-in method lower of str object at 0x7f82b929d998>, <built-in method lower of str object at 0x7f82b929d9d0>, <built-in method lower of str object at 0x7f82b929da08>, <built-in method lower of str object at 0x7f82b929da40>, <built-in method lower of str object at 0x7f82ba263b70>, <built-in method lower of str object at 0x7f82b929da78>, <built-in method lower of str object at 0x7f82b929dab0>, <built-in method lower of str object at 0x7f82b929dae8>, <built-in method lower of str object at 0x7f82b929db20>, <built-in method lower of str object at 0x7f82b929db58>, <built-in method lower of str object at 0x7f82b929db90>, <built-in method lower of str object at 0x7f82b929dbc8>, <built-in method lower of str object at 0x7f82b929dc00>, <built-in method lower of str object at 0x7f82b929dc38>, <built-in method lower of str object at 0x7f82b929dc70>, <built-in method lower of str object at 0x7f82b929dca8>, <built-in method lower of str object at 0x7f82b929dce0>, <built-in method lower of str object at 0x7f82ba263bf0>, <built-in method lower of str object at 0x7f82b929dd18>, <built-in method lower of str object at 0x7f82b929dd50>, <built-in method lower of str object at 0x7f82b929dd88>, <built-in method lower of str object at 0x7f82b929ddc0>, <built-in method lower of str object at 0x7f82b929ddf8>, <built-in method lower of str object at 0x7f82b929de30>, <built-in method lower of str object at 0x7f82b929de68>, <built-in method lower of str object at 0x7f82ba263c30>, <built-in method lower of str object at 0x7f82ba263c70>, <built-in method lower of str object at 0x7f82b929dea0>, <built-in method lower of str object at 0x7f82b929ded8>, <built-in method lower of str object at 0x7f82b929df10>, <built-in method lower of str object at 0x7f82b929df48>, <built-in method lower of str object at 0x7f82ba263d30>, <built-in method lower of str object at 0x7f82b929df80>, <built-in method lower of str object at 0x7f82b929dfb8>, <built-in method lower of str object at 0x7f82b92a0030>, <built-in method lower of str object at 0x7f82b92a0068>, <built-in method lower of str object at 0x7f82b92a00a0>, <built-in method lower of str object at 0x7f82b92a00d8>, <built-in method lower of str object at 0x7f82b92a0110>, <built-in method lower of str object at 0x7f82b92a0148>, <built-in method lower of str object at 0x7f82b92a0180>, <built-in method lower of str object at 0x7f82b92a01b8>, <built-in method lower of str object at 0x7f82b92a01f0>, <built-in method lower of str object at 0x7f82ba263cb0>, <built-in method lower of str object at 0x7f82b92a0228>, <built-in method lower of str object at 0x7f82b92a0260>, <built-in method lower of str object at 0x7f82b92a0298>, <built-in method lower of str object at 0x7f82b92a02d0>, <built-in method lower of str object at 0x7f82b92a0308>, <built-in method lower of str object at 0x7f82b92a0340>, <built-in method lower of str object at 0x7f82b92a0378>, <built-in method lower of str object at 0x7f82b92a03b0>, <built-in method lower of str object at 0x7f82b92a03e8>, <built-in method lower of str object at 0x7f82b92a0420>, <built-in method lower of str object at 0x7f82b92a0458>, <built-in method lower of str object at 0x7f82ba263d70>, <built-in method lower of str object at 0x7f82b92a0490>, <built-in method lower of str object at 0x7f82b92a04c8>, <built-in method lower of str object at 0x7f82b92a0500>, <built-in method lower of str object at 0x7f82ba263cf0>, <built-in method lower of str object at 0x7f82b92a0570>, <built-in method lower of str object at 0x7f82b92a05a8>, <built-in method lower of str object at 0x7f82ba263db0>, <built-in method lower of str object at 0x7f82b92a05e0>, <built-in method lower of str object at 0x7f82ba263df0>, <built-in method lower of str object at 0x7f82b92a0618>, <built-in method lower of str object at 0x7f82b92a0650>, <built-in method lower of str object at 0x7f82ba263e30>, <built-in method lower of str object at 0x7f82b92a0688>, <built-in method lower of str object at 0x7f82b92a06c0>, <built-in method lower of str object at 0x7f82ba263e70>, <built-in method lower of str object at 0x7f82b92a06f8>, <built-in method lower of str object at 0x7f82b92a0730>, <built-in method lower of str object at 0x7f82b92a0768>, <built-in method lower of str object at 0x7f82b92a07a0>, <built-in method lower of str object at 0x7f82b92a07d8>, <built-in method lower of str object at 0x7f82b92a0810>, <built-in method lower of str object at 0x7f82b92a0848>, <built-in method lower of str object at 0x7f82ba263eb0>, <built-in method lower of str object at 0x7f82b92a0880>, <built-in method lower of str object at 0x7f82b92a08b8>, <built-in method lower of str object at 0x7f82b92a08f0>, <built-in method lower of str object at 0x7f82ba263ef0>, <built-in method lower of str object at 0x7f82b92a0928>, <built-in method lower of str object at 0x7f82b92a0960>, <built-in method lower of str object at 0x7f82b92a0998>, <built-in method lower of str object at 0x7f82b92a09d0>, <built-in method lower of str object at 0x7f82b92a0a08>, <built-in method lower of str object at 0x7f82b92a0a40>, <built-in method lower of str object at 0x7f82b92a0a78>, <built-in method lower of str object at 0x7f82b92a0ab0>, <built-in method lower of str object at 0x7f82b92a0ae8>, <built-in method lower of str object at 0x7f82b92a0b20>, <built-in method lower of str object at 0x7f82b92a0b58>, <built-in method lower of str object at 0x7f82b92a0b90>, <built-in method lower of str object at 0x7f82b92a0bc8>, <built-in method lower of str object at 0x7f82b92a0c00>, <built-in method lower of str object at 0x7f82b92a0c38>, <built-in method lower of str object at 0x7f82b92a0c70>, <built-in method lower of str object at 0x7f82b92a0ca8>, <built-in method lower of str object at 0x7f82b92a0538>, <built-in method lower of str object at 0x7f82b92a0ce0>, <built-in method lower of str object at 0x7f82b92a0d18>, <built-in method lower of str object at 0x7f82b92a0d50>, <built-in method lower of str object at 0x7f82b92a0d88>, <built-in method lower of str object at 0x7f82b92a0dc0>, <built-in method lower of str object at 0x7f82b92a0df8>, <built-in method lower of str object at 0x7f82b92a0e30>, <built-in method lower of str object at 0x7f82ba263f70>, <built-in method lower of str object at 0x7f82b92a0e68>, <built-in method lower of str object at 0x7f82b92a0ea0>, <built-in method lower of str object at 0x7f82b92a0ed8>, <built-in method lower of str object at 0x7f82b92a0f10>, <built-in method lower of str object at 0x7f82b92a0f48>, <built-in method lower of str object at 0x7f82b92a0f80>, <built-in method lower of str object at 0x7f82b92a0fb8>, <built-in method lower of str object at 0x7f82b9285030>, <built-in method lower of str object at 0x7f82b9285068>, <built-in method lower of str object at 0x7f82b92850a0>, <built-in method lower of str object at 0x7f82b92850d8>, <built-in method lower of str object at 0x7f82b9285110>, <built-in method lower of str object at 0x7f82b9285148>, <built-in method lower of str object at 0x7f82b9285180>, <built-in method lower of str object at 0x7f82b92851b8>, <built-in method lower of str object at 0x7f82b92851f0>, <built-in method lower of str object at 0x7f82b9285228>, <built-in method lower of str object at 0x7f82b9285260>, <built-in method lower of str object at 0x7f82b9285298>, <built-in method lower of str object at 0x7f82b92852d0>, <built-in method lower of str object at 0x7f82b9285308>, <built-in method lower of str object at 0x7f82b9285340>, <built-in method lower of str object at 0x7f82b9285378>, <built-in method lower of str object at 0x7f82b92853b0>, <built-in method lower of str object at 0x7f82b92853e8>, <built-in method lower of str object at 0x7f82b9285420>, <built-in method lower of str object at 0x7f82ba263fb0>, <built-in method lower of str object at 0x7f82b9285458>, <built-in method lower of str object at 0x7f82b9285490>, <built-in method lower of str object at 0x7f82b92854c8>, <built-in method lower of str object at 0x7f82b9285500>, <built-in method lower of str object at 0x7f82b9285538>, <built-in method lower of str object at 0x7f82b9285570>, <built-in method lower of str object at 0x7f82b92855a8>, <built-in method lower of str object at 0x7f82b92855e0>, <built-in method lower of str object at 0x7f82b9285618>, <built-in method lower of str object at 0x7f82b9285650>, <built-in method lower of str object at 0x7f82b9285688>, <built-in method lower of str object at 0x7f82b92856c0>, <built-in method lower of str object at 0x7f82b92856f8>, <built-in method lower of str object at 0x7f82b9285730>, <built-in method lower of str object at 0x7f82b9285768>, <built-in method lower of str object at 0x7f82b92857a0>, <built-in method lower of str object at 0x7f82b92857d8>, <built-in method lower of str object at 0x7f82b9285810>, <built-in method lower of str object at 0x7f82b9285848>, <built-in method lower of str object at 0x7f82b9285880>, <built-in method lower of str object at 0x7f82b92858b8>, <built-in method lower of str object at 0x7f82b92858f0>, <built-in method lower of str object at 0x7f82b9285928>, <built-in method lower of str object at 0x7f82b9285960>, <built-in method lower of str object at 0x7f82b9285998>, <built-in method lower of str object at 0x7f82b92859d0>, <built-in method lower of str object at 0x7f82b9285a08>, <built-in method lower of str object at 0x7f82b9285a40>, <built-in method lower of str object at 0x7f82b9285a78>, <built-in method lower of str object at 0x7f82b9285ab0>, <built-in method lower of str object at 0x7f82b9285ae8>, <built-in method lower of str object at 0x7f82b9285b20>, <built-in method lower of str object at 0x7f82b9285b58>, <built-in method lower of str object at 0x7f82b9285b90>, <built-in method lower of str object at 0x7f82ba263330>, <built-in method lower of str object at 0x7f82b9285bc8>, <built-in method lower of str object at 0x7f82b9285c00>, <built-in method lower of str object at 0x7f82b9285c38>, <built-in method lower of str object at 0x7f82b9285c70>, <built-in method lower of str object at 0x7f82b9285ca8>, <built-in method lower of str object at 0x7f82b9285ce0>, <built-in method lower of str object at 0x7f82b9285d18>, <built-in method lower of str object at 0x7f82b9285d50>, <built-in method lower of str object at 0x7f82b9285d88>, <built-in method lower of str object at 0x7f82b9285dc0>, <built-in method lower of str object at 0x7f82b9285df8>, <built-in method lower of str object at 0x7f82b9285e30>, <built-in method lower of str object at 0x7f82b9285e68>, <built-in method lower of str object at 0x7f82b9285ea0>, <built-in method lower of str object at 0x7f82b9285ed8>, <built-in method lower of str object at 0x7f82b9285f10>, <built-in method lower of str object at 0x7f82b9285f48>, <built-in method lower of str object at 0x7f82b9285f80>, <built-in method lower of str object at 0x7f82b9285fb8>, <built-in method lower of str object at 0x7f82b9292030>, <built-in method lower of str object at 0x7f82b9292068>, <built-in method lower of str object at 0x7f82ba263370>, <built-in method lower of str object at 0x7f82b92920a0>, <built-in method lower of str object at 0x7f82b92920d8>, <built-in method lower of str object at 0x7f82b9292110>, <built-in method lower of str object at 0x7f82b9292148>, <built-in method lower of str object at 0x7f82b9292180>, <built-in method lower of str object at 0x7f82b92921b8>, <built-in method lower of str object at 0x7f82ba2633b0>, <built-in method lower of str object at 0x7f82b92921f0>, <built-in method lower of str object at 0x7f82b9292228>, <built-in method lower of str object at 0x7f82b9292260>, <built-in method lower of str object at 0x7f82b9292298>, <built-in method lower of str object at 0x7f82b92922d0>, <built-in method lower of str object at 0x7f82ba2633f0>, <built-in method lower of str object at 0x7f82ba263430>, <built-in method lower of str object at 0x7f82b9292308>, <built-in method lower of str object at 0x7f82b9292340>, <built-in method lower of str object at 0x7f82ba263470>, <built-in method lower of str object at 0x7f82b9292378>, <built-in method lower of str object at 0x7f82b92923b0>, <built-in method lower of str object at 0x7f82b92923e8>, <built-in method lower of str object at 0x7f82b9292420>, <built-in method lower of str object at 0x7f82b9292458>, <built-in method lower of str object at 0x7f82ba2634b0>, <built-in method lower of str object at 0x7f82b9292490>, <built-in method lower of str object at 0x7f82b92924c8>, <built-in method lower of str object at 0x7f82b9292500>, <built-in method lower of str object at 0x7f82b9292538>, <built-in method lower of str object at 0x7f82b9292570>, <built-in method lower of str object at 0x7f82b92925a8>, <built-in method lower of str object at 0x7f82b92925e0>, <built-in method lower of str object at 0x7f82b9292618>, <built-in method lower of str object at 0x7f82b9292650>, <built-in method lower of str object at 0x7f82b9292688>, <built-in method lower of str object at 0x7f82b92926c0>, <built-in method lower of str object at 0x7f82b92926f8>, <built-in method lower of str object at 0x7f82b9292730>, <built-in method lower of str object at 0x7f82b9292768>, <built-in method lower of str object at 0x7f82b92927a0>, <built-in method lower of str object at 0x7f82b92927d8>, <built-in method lower of str object at 0x7f82ba2634f0>, <built-in method lower of str object at 0x7f82b9292810>, <built-in method lower of str object at 0x7f82b9292848>, <built-in method lower of str object at 0x7f82b9292880>, <built-in method lower of str object at 0x7f82b92928b8>, <built-in method lower of str object at 0x7f82b92928f0>, <built-in method lower of str object at 0x7f82b9292928>, <built-in method lower of str object at 0x7f82b9292960>, <built-in method lower of str object at 0x7f82b9292998>, <built-in method lower of str object at 0x7f82b92929d0>, <built-in method lower of str object at 0x7f82b9292a08>, <built-in method lower of str object at 0x7f82b9292a40>, <built-in method lower of str object at 0x7f82b9292a78>, <built-in method lower of str object at 0x7f82b9292ab0>, <built-in method lower of str object at 0x7f82b9292ae8>, <built-in method lower of str object at 0x7f82b9292b20>, <built-in method lower of str object at 0x7f82b9292b58>, <built-in method lower of str object at 0x7f82b9292b90>, <built-in method lower of str object at 0x7f82b9292bc8>, <built-in method lower of str object at 0x7f82b9292c00>, <built-in method lower of str object at 0x7f82b9292c38>, <built-in method lower of str object at 0x7f82b9292c70>, <built-in method lower of str object at 0x7f82b9292ca8>, <built-in method lower of str object at 0x7f82ba263570>, <built-in method lower of str object at 0x7f82b9292ce0>, <built-in method lower of str object at 0x7f82b9292d18>, <built-in method lower of str object at 0x7f82f00c8500>, <built-in method lower of str object at 0x7f82b9292d50>, <built-in method lower of str object at 0x7f82ba263530>, <built-in method lower of str object at 0x7f82b9292d88>, <built-in method lower of str object at 0x7f82b9292dc0>, <built-in method lower of str object at 0x7f82b9292df8>, <built-in method lower of str object at 0x7f82b9292e30>, <built-in method lower of str object at 0x7f82b9292e68>, <built-in method lower of str object at 0x7f82b9292ea0>, <built-in method lower of str object at 0x7f82b9292ed8>, <built-in method lower of str object at 0x7f82b9292f10>, <built-in method lower of str object at 0x7f82b9292f48>, <built-in method lower of str object at 0x7f82b9292f80>, <built-in method lower of str object at 0x7f82b9292fb8>, <built-in method lower of str object at 0x7f82b929b030>, <built-in method lower of str object at 0x7f82b929b068>, <built-in method lower of str object at 0x7f82b929b0a0>, <built-in method lower of str object at 0x7f82b929b0d8>, <built-in method lower of str object at 0x7f82ba2635b0>, <built-in method lower of str object at 0x7f82b929b110>, <built-in method lower of str object at 0x7f82b929b148>, <built-in method lower of str object at 0x7f82ba263630>, <built-in method lower of str object at 0x7f82b929b180>, <built-in method lower of str object at 0x7f82b929b1b8>, <built-in method lower of str object at 0x7f82ba2635f0>, <built-in method lower of str object at 0x7f82b929b1f0>, <built-in method lower of str object at 0x7f82b929b228>, <built-in method lower of str object at 0x7f82b929b260>, <built-in method lower of str object at 0x7f82ba263670>, <built-in method lower of str object at 0x7f82b929b298>, <built-in method lower of str object at 0x7f82b929b2d0>, <built-in method lower of str object at 0x7f82b929b308>, <built-in method lower of str object at 0x7f82b929b340>, <built-in method lower of str object at 0x7f82ba2636b0>, <built-in method lower of str object at 0x7f82b929b378>, <built-in method lower of str object at 0x7f82b929b3b0>, <built-in method lower of str object at 0x7f82b929b3e8>, <built-in method lower of str object at 0x7f82b929b420>, <built-in method lower of str object at 0x7f82b929b458>, <built-in method lower of str object at 0x7f82b929b490>, <built-in method lower of str object at 0x7f82b929b4c8>, <built-in method lower of str object at 0x7f82b929b538>, <built-in method lower of str object at 0x7f82b929b570>, <built-in method lower of str object at 0x7f82b929b5a8>, <built-in method lower of str object at 0x7f82b929b5e0>, <built-in method lower of str object at 0x7f82b929b618>, <built-in method lower of str object at 0x7f82b929b650>, <built-in method lower of str object at 0x7f82b929b688>, <built-in method lower of str object at 0x7f82b929b6c0>, <built-in method lower of str object at 0x7f82b929b6f8>, <built-in method lower of str object at 0x7f82b929bc00>, <built-in method lower of str object at 0x7f82ba263730>, <built-in method lower of str object at 0x7f82b929bc38>, <built-in method lower of str object at 0x7f82b929bc70>, <built-in method lower of str object at 0x7f82b929bca8>, <built-in method lower of str object at 0x7f82b929bce0>, <built-in method lower of str object at 0x7f82b929bd18>, <built-in method lower of str object at 0x7f82b929bd50>, <built-in method lower of str object at 0x7f82b929bd88>, <built-in method lower of str object at 0x7f82b929bdc0>, <built-in method lower of str object at 0x7f82b929bdf8>, <built-in method lower of str object at 0x7f82b929be30>, <built-in method lower of str object at 0x7f82b929be68>, <built-in method lower of str object at 0x7f82b929bea0>, <built-in method lower of str object at 0x7f82b929bed8>, <built-in method lower of str object at 0x7f82b929bf10>, <built-in method lower of str object at 0x7f82b929bf48>, <built-in method lower of str object at 0x7f82b929bf80>, <built-in method lower of str object at 0x7f82b929bfb8>, <built-in method lower of str object at 0x7f82b929b500>, <built-in method lower of str object at 0x7f82b929b730>, <built-in method lower of str object at 0x7f82b929b768>, <built-in method lower of str object at 0x7f82b929b7a0>, <built-in method lower of str object at 0x7f82b929b7d8>, <built-in method lower of str object at 0x7f82ba263770>, <built-in method lower of str object at 0x7f82b929b810>, <built-in method lower of str object at 0x7f82ba2637b0>, <built-in method lower of str object at 0x7f82b929b848>, <built-in method lower of str object at 0x7f82b929b880>, <built-in method lower of str object at 0x7f82b929b8b8>, <built-in method lower of str object at 0x7f82ba2637f0>, <built-in method lower of str object at 0x7f82b929b8f0>, <built-in method lower of str object at 0x7f82b929b928>, <built-in method lower of str object at 0x7f82b929b960>, <built-in method lower of str object at 0x7f82b929b998>, <built-in method lower of str object at 0x7f82b929b9d0>, <built-in method lower of str object at 0x7f82b929ba08>, <built-in method lower of str object at 0x7f82b929ba40>, <built-in method lower of str object at 0x7f82b929ba78>, <built-in method lower of str object at 0x7f82b929bab0>, <built-in method lower of str object at 0x7f82ba263830>, <built-in method lower of str object at 0x7f82b929bae8>, <built-in method lower of str object at 0x7f82b929bb20>, <built-in method lower of str object at 0x7f82b929bb58>, <built-in method lower of str object at 0x7f82b929bb90>, <built-in method lower of str object at 0x7f82b929bbc8>, <built-in method lower of str object at 0x7f82b9294030>, <built-in method lower of str object at 0x7f82b9294068>, <built-in method lower of str object at 0x7f82b92940a0>, <built-in method lower of str object at 0x7f82b92940d8>, <built-in method lower of str object at 0x7f82b9294110>, <built-in method lower of str object at 0x7f82b9294148>, <built-in method lower of str object at 0x7f82b9294180>, <built-in method lower of str object at 0x7f82b92941b8>, <built-in method lower of str object at 0x7f82b92941f0>, <built-in method lower of str object at 0x7f82b9294228>, <built-in method lower of str object at 0x7f82b9294260>, <built-in method lower of str object at 0x7f82b9294298>, <built-in method lower of str object at 0x7f82b92942d0>, <built-in method lower of str object at 0x7f82b9294308>, <built-in method lower of str object at 0x7f82b9294340>, <built-in method lower of str object at 0x7f82b9294378>, <built-in method lower of str object at 0x7f82b92943b0>, <built-in method lower of str object at 0x7f82b92943e8>, <built-in method lower of str object at 0x7f82b9294420>, <built-in method lower of str object at 0x7f82b9294458>, <built-in method lower of str object at 0x7f82b9294490>, <built-in method lower of str object at 0x7f82ba2636f0>, <built-in method lower of str object at 0x7f82b92944c8>, <built-in method lower of str object at 0x7f82b9294500>, <built-in method lower of str object at 0x7f82b9294538>, <built-in method lower of str object at 0x7f82b9294570>, <built-in method lower of str object at 0x7f82b92945a8>, <built-in method lower of str object at 0x7f82b92945e0>, <built-in method lower of str object at 0x7f82b9294618>, <built-in method lower of str object at 0x7f82b9294650>, <built-in method lower of str object at 0x7f82b9294688>, <built-in method lower of str object at 0x7f82b92946c0>, <built-in method lower of str object at 0x7f82b92946f8>, <built-in method lower of str object at 0x7f82b9294730>, <built-in method lower of str object at 0x7f82b9294768>, <built-in method lower of str object at 0x7f82b92947a0>, <built-in method lower of str object at 0x7f82b92947d8>, <built-in method lower of str object at 0x7f82b9294810>, <built-in method lower of str object at 0x7f82b9294848>, <built-in method lower of str object at 0x7f82ba2638b0>, <built-in method lower of str object at 0x7f82b9294880>, <built-in method lower of str object at 0x7f82ba263870>, <built-in method lower of str object at 0x7f82b92948b8>, <built-in method lower of str object at 0x7f82b92948f0>, <built-in method lower of str object at 0x7f82b9294928>, <built-in method lower of str object at 0x7f82b9294960>, <built-in method lower of str object at 0x7f82ba2638f0>, <built-in method lower of str object at 0x7f82b9294998>, <built-in method lower of str object at 0x7f82b92949d0>, <built-in method lower of str object at 0x7f82b9294a08>, <built-in method lower of str object at 0x7f82b9294a40>, <built-in method lower of str object at 0x7f82b9294a78>, <built-in method lower of str object at 0x7f82b9294ab0>, <built-in method lower of str object at 0x7f82b9294ae8>, <built-in method lower of str object at 0x7f82b9294b20>, <built-in method lower of str object at 0x7f82b9294b58>, <built-in method lower of str object at 0x7f82b9294b90>, <built-in method lower of str object at 0x7f82b9294bc8>, <built-in method lower of str object at 0x7f82b9294c00>, <built-in method lower of str object at 0x7f82ba1f9970>, <built-in method lower of str object at 0x7f82b9294c38>, <built-in method lower of str object at 0x7f82b9294c70>, <built-in method lower of str object at 0x7f82ba263930>, <built-in method lower of str object at 0x7f82b9294ca8>, <built-in method lower of str object at 0x7f82b9294ce0>, <built-in method lower of str object at 0x7f82b9294d18>, <built-in method lower of str object at 0x7f82b9294d50>, <built-in method lower of str object at 0x7f82b9294d88>, <built-in method lower of str object at 0x7f82ba1f9c30>, <built-in method lower of str object at 0x7f82b9294dc0>, <built-in method lower of str object at 0x7f82b9294df8>, <built-in method lower of str object at 0x7f82b9294e30>, <built-in method lower of str object at 0x7f82b9294e68>, <built-in method lower of str object at 0x7f82ba1f9c70>, <built-in method lower of str object at 0x7f82ba1f9cb0>, <built-in method lower of str object at 0x7f82ba1f9cf0>, <built-in method lower of str object at 0x7f82b9294ea0>, <built-in method lower of str object at 0x7f82b9294ed8>, <built-in method lower of str object at 0x7f82ba1f9d30>, <built-in method lower of str object at 0x7f82ba1f9d70>, <built-in method lower of str object at 0x7f82b9294f10>, <built-in method lower of str object at 0x7f82b9294f48>, <built-in method lower of str object at 0x7f82b9294f80>, <built-in method lower of str object at 0x7f82b9294fb8>, <built-in method lower of str object at 0x7f82b9295030>, <built-in method lower of str object at 0x7f82b9295068>, <built-in method lower of str object at 0x7f82b92950a0>, <built-in method lower of str object at 0x7f82b92950d8>, <built-in method lower of str object at 0x7f82b9295110>, <built-in method lower of str object at 0x7f82b9295148>, <built-in method lower of str object at 0x7f82b9295180>, <built-in method lower of str object at 0x7f82b92951b8>, <built-in method lower of str object at 0x7f82b92951f0>, <built-in method lower of str object at 0x7f82b9295228>, <built-in method lower of str object at 0x7f82b9295260>, <built-in method lower of str object at 0x7f82b9295298>, <built-in method lower of str object at 0x7f82b92952d0>, <built-in method lower of str object at 0x7f82b9295308>, <built-in method lower of str object at 0x7f82b9295340>, <built-in method lower of str object at 0x7f82b9295378>, <built-in method lower of str object at 0x7f82b92953b0>, <built-in method lower of str object at 0x7f82b92953e8>, <built-in method lower of str object at 0x7f82ba1f9db0>, <built-in method lower of str object at 0x7f82b9295420>, <built-in method lower of str object at 0x7f82b9295458>, <built-in method lower of str object at 0x7f82b9295490>, <built-in method lower of str object at 0x7f82b92954c8>, <built-in method lower of str object at 0x7f82b9295500>, <built-in method lower of str object at 0x7f82b9295538>, <built-in method lower of str object at 0x7f82ba1f9df0>, <built-in method lower of str object at 0x7f82ba1f9e30>, <built-in method lower of str object at 0x7f82b9295570>, <built-in method lower of str object at 0x7f82b92955a8>, <built-in method lower of str object at 0x7f82b92955e0>, <built-in method lower of str object at 0x7f82b9295618>, <built-in method lower of str object at 0x7f82b9295650>, <built-in method lower of str object at 0x7f82b9295688>, <built-in method lower of str object at 0x7f82b92956c0>, <built-in method lower of str object at 0x7f82b92956f8>, <built-in method lower of str object at 0x7f82b9295730>, <built-in method lower of str object at 0x7f82b9295768>, <built-in method lower of str object at 0x7f82b92957a0>, <built-in method lower of str object at 0x7f82b92957d8>, <built-in method lower of str object at 0x7f82b9295810>, <built-in method lower of str object at 0x7f82b9295848>, <built-in method lower of str object at 0x7f82b9295880>, <built-in method lower of str object at 0x7f82b92958b8>, <built-in method lower of str object at 0x7f82b92958f0>, <built-in method lower of str object at 0x7f82b9295928>, <built-in method lower of str object at 0x7f82b9295960>, <built-in method lower of str object at 0x7f82b9295998>, <built-in method lower of str object at 0x7f82b92959d0>, <built-in method lower of str object at 0x7f82b9295a08>, <built-in method lower of str object at 0x7f82b9295a40>, <built-in method lower of str object at 0x7f82b9295a78>, <built-in method lower of str object at 0x7f82b9295ab0>, <built-in method lower of str object at 0x7f82b9295ae8>, <built-in method lower of str object at 0x7f82b9295b20>, <built-in method lower of str object at 0x7f82b9295b58>, <built-in method lower of str object at 0x7f82b9295b90>, <built-in method lower of str object at 0x7f82b9295bc8>, <built-in method lower of str object at 0x7f82b9295c00>, <built-in method lower of str object at 0x7f82b9295c38>, <built-in method lower of str object at 0x7f82b9295c70>, <built-in method lower of str object at 0x7f82b9295ca8>, <built-in method lower of str object at 0x7f82b9295ce0>, <built-in method lower of str object at 0x7f82b9295d18>, <built-in method lower of str object at 0x7f82b9295d50>, <built-in method lower of str object at 0x7f82b9295d88>, <built-in method lower of str object at 0x7f82b9295dc0>, <built-in method lower of str object at 0x7f82b9295df8>, <built-in method lower of str object at 0x7f82b9295e30>, <built-in method lower of str object at 0x7f82b9295e68>, <built-in method lower of str object at 0x7f82b9295ea0>, <built-in method lower of str object at 0x7f82b9295ed8>, <built-in method lower of str object at 0x7f82b9295f10>, <built-in method lower of str object at 0x7f82b9295f48>, <built-in method lower of str object at 0x7f82b9295f80>, <built-in method lower of str object at 0x7f82b9295fb8>, <built-in method lower of str object at 0x7f82b9296030>, <built-in method lower of str object at 0x7f82ba1f9e70>, <built-in method lower of str object at 0x7f82b9296068>, <built-in method lower of str object at 0x7f82b92960a0>, <built-in method lower of str object at 0x7f82b92960d8>, <built-in method lower of str object at 0x7f82b9296110>, <built-in method lower of str object at 0x7f82ba1f9eb0>, <built-in method lower of str object at 0x7f82b9296148>, <built-in method lower of str object at 0x7f82b9296180>, <built-in method lower of str object at 0x7f82b92961b8>, <built-in method lower of str object at 0x7f82b92961f0>, <built-in method lower of str object at 0x7f82b9296228>, <built-in method lower of str object at 0x7f82b9296260>, <built-in method lower of str object at 0x7f82b9296298>, <built-in method lower of str object at 0x7f82b92962d0>, <built-in method lower of str object at 0x7f82b9296308>, <built-in method lower of str object at 0x7f82b9296340>, <built-in method lower of str object at 0x7f82b9296378>, <built-in method lower of str object at 0x7f82b92963b0>, <built-in method lower of str object at 0x7f82b92963e8>, <built-in method lower of str object at 0x7f82b9296420>, <built-in method lower of str object at 0x7f82b9296458>, <built-in method lower of str object at 0x7f82b9296490>, <built-in method lower of str object at 0x7f82b92964c8>, <built-in method lower of str object at 0x7f82ba1f9f30>, <built-in method lower of str object at 0x7f82b9296500>, <built-in method lower of str object at 0x7f82f01dc7a0>, <built-in method lower of str object at 0x7f82b9296538>, <built-in method lower of str object at 0x7f82b9296570>, <built-in method lower of str object at 0x7f82b92965a8>, <built-in method lower of str object at 0x7f82b92965e0>, <built-in method lower of str object at 0x7f82b9296618>, <built-in method lower of str object at 0x7f82b9296650>, <built-in method lower of str object at 0x7f82b9296688>, <built-in method lower of str object at 0x7f82ba1f9ef0>, <built-in method lower of str object at 0x7f82b92966c0>, <built-in method lower of str object at 0x7f82b92966f8>, <built-in method lower of str object at 0x7f82b9296730>, <built-in method lower of str object at 0x7f82ba1f9f70>, <built-in method lower of str object at 0x7f82b9296768>, <built-in method lower of str object at 0x7f82b92967a0>, <built-in method lower of str object at 0x7f82b92967d8>, <built-in method lower of str object at 0x7f82b9296810>, <built-in method lower of str object at 0x7f82ba1f9fb0>, <built-in method lower of str object at 0x7f82b9296848>, <built-in method lower of str object at 0x7f82b9296880>, <built-in method lower of str object at 0x7f82b92968b8>, <built-in method lower of str object at 0x7f82b92968f0>, <built-in method lower of str object at 0x7f82b9296928>, <built-in method lower of str object at 0x7f82b9296960>, <built-in method lower of str object at 0x7f82b9296998>, <built-in method lower of str object at 0x7f82b92969d0>, <built-in method lower of str object at 0x7f82b9296a08>, <built-in method lower of str object at 0x7f82b9296a40>, <built-in method lower of str object at 0x7f82b9296a78>, <built-in method lower of str object at 0x7f82b9296ab0>, <built-in method lower of str object at 0x7f82b9296ae8>, <built-in method lower of str object at 0x7f82b9296b20>, <built-in method lower of str object at 0x7f82b9296b58>, <built-in method lower of str object at 0x7f82b9296b90>, <built-in method lower of str object at 0x7f82b9296bc8>, <built-in method lower of str object at 0x7f82b9296c00>, <built-in method lower of str object at 0x7f82b9296c38>, <built-in method lower of str object at 0x7f82b9296c70>, <built-in method lower of str object at 0x7f82b9296ca8>, <built-in method lower of str object at 0x7f82b9296ce0>, <built-in method lower of str object at 0x7f82b9296d18>, <built-in method lower of str object at 0x7f82b9296d50>, <built-in method lower of str object at 0x7f82b9296d88>, <built-in method lower of str object at 0x7f82b9296dc0>, <built-in method lower of str object at 0x7f82b9296df8>, <built-in method lower of str object at 0x7f82b9296e30>, <built-in method lower of str object at 0x7f82b9296e68>, <built-in method lower of str object at 0x7f82b9296ea0>, <built-in method lower of str object at 0x7f82b9296ed8>, <built-in method lower of str object at 0x7f82b9296f10>, <built-in method lower of str object at 0x7f82b9296f48>, <built-in method lower of str object at 0x7f82b9296f80>, <built-in method lower of str object at 0x7f82b9296fb8>, <built-in method lower of str object at 0x7f82b9297030>, <built-in method lower of str object at 0x7f82b9297068>, <built-in method lower of str object at 0x7f82b92970a0>, <built-in method lower of str object at 0x7f82b92970d8>, <built-in method lower of str object at 0x7f82b9297110>, <built-in method lower of str object at 0x7f82b9297148>, <built-in method lower of str object at 0x7f82b9297180>, <built-in method lower of str object at 0x7f82b92971b8>, <built-in method lower of str object at 0x7f82ba1f9130>, <built-in method lower of str object at 0x7f82b92971f0>, <built-in method lower of str object at 0x7f82ba1f90f0>, <built-in method lower of str object at 0x7f82b9297228>, <built-in method lower of str object at 0x7f82b9297260>, <built-in method lower of str object at 0x7f82b9297298>, <built-in method lower of str object at 0x7f82ba1f98f0>, <built-in method lower of str object at 0x7f82b92972d0>, <built-in method lower of str object at 0x7f82b9297308>, <built-in method lower of str object at 0x7f82b9297340>, <built-in method lower of str object at 0x7f82b9297378>, <built-in method lower of str object at 0x7f82b92973b0>, <built-in method lower of str object at 0x7f82b92973e8>, <built-in method lower of str object at 0x7f82b9297420>, <built-in method lower of str object at 0x7f82ba1f91b0>, <built-in method lower of str object at 0x7f82b9297458>, <built-in method lower of str object at 0x7f82b9297490>, <built-in method lower of str object at 0x7f82b92974c8>, <built-in method lower of str object at 0x7f82ba1f9170>, <built-in method lower of str object at 0x7f82b9297500>, <built-in method lower of str object at 0x7f82b9297538>, <built-in method lower of str object at 0x7f82ba1f9230>, <built-in method lower of str object at 0x7f82b9297570>, <built-in method lower of str object at 0x7f82ba1f91f0>, <built-in method lower of str object at 0x7f82b92975a8>, <built-in method lower of str object at 0x7f82b92975e0>, <built-in method lower of str object at 0x7f82b9297618>, <built-in method lower of str object at 0x7f82b9297650>, <built-in method lower of str object at 0x7f82b9297688>, <built-in method lower of str object at 0x7f82b92976c0>, <built-in method lower of str object at 0x7f82b92976f8>, <built-in method lower of str object at 0x7f82b9297730>, <built-in method lower of str object at 0x7f82b9297768>, <built-in method lower of str object at 0x7f82ba1f92b0>, <built-in method lower of str object at 0x7f82ba1f9330>, <built-in method lower of str object at 0x7f82ba1f92f0>, <built-in method lower of str object at 0x7f82b92977a0>, <built-in method lower of str object at 0x7f82ba1f93f0>, <built-in method lower of str object at 0x7f82ba1f9430>, <built-in method lower of str object at 0x7f82b92977d8>, <built-in method lower of str object at 0x7f82b9297810>, <built-in method lower of str object at 0x7f82b9297848>, <built-in method lower of str object at 0x7f82ba1f9370>, <built-in method lower of str object at 0x7f82b9297880>, <built-in method lower of str object at 0x7f82ba1f94b0>, <built-in method lower of str object at 0x7f82b92978b8>, <built-in method lower of str object at 0x7f82b92978f0>, <built-in method lower of str object at 0x7f82b9297928>, <built-in method lower of str object at 0x7f82b9297960>, <built-in method lower of str object at 0x7f82b9297998>, <built-in method lower of str object at 0x7f82b92979d0>, <built-in method lower of str object at 0x7f82b9297a08>, <built-in method lower of str object at 0x7f82b9297a40>, <built-in method lower of str object at 0x7f82b9297a78>, <built-in method lower of str object at 0x7f82ba1f94f0>, <built-in method lower of str object at 0x7f82ba1f93b0>, <built-in method lower of str object at 0x7f82ba1f9570>, <built-in method lower of str object at 0x7f82ba1f9530>, <built-in method lower of str object at 0x7f82b9297ab0>, <built-in method lower of str object at 0x7f82b9297ae8>, <built-in method lower of str object at 0x7f82b9297b20>, <built-in method lower of str object at 0x7f82b9297b58>, <built-in method lower of str object at 0x7f82b9297b90>, <built-in method lower of str object at 0x7f82b9297bc8>, <built-in method lower of str object at 0x7f82b9297c00>, <built-in method lower of str object at 0x7f82ba1f95b0>, <built-in method lower of str object at 0x7f82b9297c38>, <built-in method lower of str object at 0x7f82b9297c70>, <built-in method lower of str object at 0x7f82b9297ca8>, <built-in method lower of str object at 0x7f82b9297ce0>, <built-in method lower of str object at 0x7f82b9297d18>, <built-in method lower of str object at 0x7f82b9297d50>, <built-in method lower of str object at 0x7f82b9297d88>, <built-in method lower of str object at 0x7f82b9297dc0>, <built-in method lower of str object at 0x7f82b9297df8>, <built-in method lower of str object at 0x7f82b9297e30>, <built-in method lower of str object at 0x7f82ba1f95f0>, <built-in method lower of str object at 0x7f82b9297e68>, <built-in method lower of str object at 0x7f82b9297ea0>, <built-in method lower of str object at 0x7f82b9297ed8>, <built-in method lower of str object at 0x7f82b9297f10>, <built-in method lower of str object at 0x7f82b9297f48>, <built-in method lower of str object at 0x7f82ba1f9630>, <built-in method lower of str object at 0x7f82b9297f80>, <built-in method lower of str object at 0x7f82b9297fb8>, <built-in method lower of str object at 0x7f82b9277030>, <built-in method lower of str object at 0x7f82b9277068>, <built-in method lower of str object at 0x7f82b92770a0>, <built-in method lower of str object at 0x7f82b92770d8>, <built-in method lower of str object at 0x7f82b9277110>, <built-in method lower of str object at 0x7f82b9277148>, <built-in method lower of str object at 0x7f82b9277180>, <built-in method lower of str object at 0x7f82b92771b8>, <built-in method lower of str object at 0x7f82b92771f0>, <built-in method lower of str object at 0x7f82b9277228>, <built-in method lower of str object at 0x7f82b9277260>, <built-in method lower of str object at 0x7f82ba1f9670>, <built-in method lower of str object at 0x7f82b9277298>, <built-in method lower of str object at 0x7f82b92772d0>, <built-in method lower of str object at 0x7f82b9277308>, <built-in method lower of str object at 0x7f82b9277340>, <built-in method lower of str object at 0x7f82ba1f96b0>, <built-in method lower of str object at 0x7f82b9277378>, <built-in method lower of str object at 0x7f82ba1f96f0>, <built-in method lower of str object at 0x7f82b92773b0>, <built-in method lower of str object at 0x7f82b92773e8>, <built-in method lower of str object at 0x7f82b9277420>, <built-in method lower of str object at 0x7f82b9277458>, <built-in method lower of str object at 0x7f82b9277490>, <built-in method lower of str object at 0x7f82ba1f9730>, <built-in method lower of str object at 0x7f82b92774c8>, <built-in method lower of str object at 0x7f82b9277500>, <built-in method lower of str object at 0x7f82b9277538>, <built-in method lower of str object at 0x7f82b9277570>, <built-in method lower of str object at 0x7f82b92775a8>, <built-in method lower of str object at 0x7f82b92775e0>, <built-in method lower of str object at 0x7f82b9277618>, <built-in method lower of str object at 0x7f82b9277650>, <built-in method lower of str object at 0x7f82b9277688>, <built-in method lower of str object at 0x7f82b92776c0>, <built-in method lower of str object at 0x7f82b92776f8>, <built-in method lower of str object at 0x7f82ba1f97b0>, <built-in method lower of str object at 0x7f82ba1f9830>, <built-in method lower of str object at 0x7f82b9277730>, <built-in method lower of str object at 0x7f82b9277768>, <built-in method lower of str object at 0x7f82b92777a0>, <built-in method lower of str object at 0x7f82b92777d8>, <built-in method lower of str object at 0x7f82b9277810>, <built-in method lower of str object at 0x7f82b9277848>, <built-in method lower of str object at 0x7f82b9277880>, <built-in method lower of str object at 0x7f82b92778b8>, <built-in method lower of str object at 0x7f82b92778f0>, <built-in method lower of str object at 0x7f82b9277928>, <built-in method lower of str object at 0x7f82b9277960>, <built-in method lower of str object at 0x7f82b9277998>, <built-in method lower of str object at 0x7f82ba1f97f0>, <built-in method lower of str object at 0x7f82b92779d0>, <built-in method lower of str object at 0x7f82b9277a08>, <built-in method lower of str object at 0x7f82b9277a40>, <built-in method lower of str object at 0x7f82ba1f98b0>, <built-in method lower of str object at 0x7f82b9277a78>, <built-in method lower of str object at 0x7f82b9277ab0>, <built-in method lower of str object at 0x7f82ba1f9770>, <built-in method lower of str object at 0x7f82b9277ae8>, <built-in method lower of str object at 0x7f82b9277b20>, <built-in method lower of str object at 0x7f82b9277b58>, <built-in method lower of str object at 0x7f82ba1f9030>, <built-in method lower of str object at 0x7f82b9277b90>, <built-in method lower of str object at 0x7f82b9277bc8>, <built-in method lower of str object at 0x7f82ba1f9070>, <built-in method lower of str object at 0x7f82b9277c00>, <built-in method lower of str object at 0x7f82b9277c38>, <built-in method lower of str object at 0x7f82b9277c70>, <built-in method lower of str object at 0x7f82b9277ca8>, <built-in method lower of str object at 0x7f82b9277ce0>, <built-in method lower of str object at 0x7f82b9277d18>, <built-in method lower of str object at 0x7f82b9277d50>, <built-in method lower of str object at 0x7f82b9277d88>, <built-in method lower of str object at 0x7f82b9277dc0>, <built-in method lower of str object at 0x7f82ba1f9930>, <built-in method lower of str object at 0x7f82b9277df8>, <built-in method lower of str object at 0x7f82b9277e30>, <built-in method lower of str object at 0x7f82b9277e68>, <built-in method lower of str object at 0x7f82efff2298>, <built-in method lower of str object at 0x7f82b9277ea0>, <built-in method lower of str object at 0x7f82b9277ed8>, <built-in method lower of str object at 0x7f82ba1f9870>, <built-in method lower of str object at 0x7f82b9277f10>, <built-in method lower of str object at 0x7f82ba1f99b0>, <built-in method lower of str object at 0x7f82b9277f48>, <built-in method lower of str object at 0x7f82b9277f80>, <built-in method lower of str object at 0x7f82b9277fb8>, <built-in method lower of str object at 0x7f82b9276030>, <built-in method lower of str object at 0x7f82ba1f99f0>, <built-in method lower of str object at 0x7f82b9276068>, <built-in method lower of str object at 0x7f82b92760a0>, <built-in method lower of str object at 0x7f82b92760d8>, <built-in method lower of str object at 0x7f82b9276110>, <built-in method lower of str object at 0x7f82b9276148>, <built-in method lower of str object at 0x7f82b9276180>, <built-in method lower of str object at 0x7f82b92761b8>, <built-in method lower of str object at 0x7f82b92761f0>, <built-in method lower of str object at 0x7f82b9276228>, <built-in method lower of str object at 0x7f82b9276260>, <built-in method lower of str object at 0x7f82b9276298>, <built-in method lower of str object at 0x7f82b92762d0>, <built-in method lower of str object at 0x7f82b9276308>, <built-in method lower of str object at 0x7f82b9276340>, <built-in method lower of str object at 0x7f82b9276378>, <built-in method lower of str object at 0x7f82b92763b0>, <built-in method lower of str object at 0x7f82ba1f9a70>, <built-in method lower of str object at 0x7f82b92763e8>, <built-in method lower of str object at 0x7f82b9276420>, <built-in method lower of str object at 0x7f82b9276458>, <built-in method lower of str object at 0x7f82b9276490>, <built-in method lower of str object at 0x7f82b92764c8>, <built-in method lower of str object at 0x7f82b9276500>, <built-in method lower of str object at 0x7f82b9276538>, <built-in method lower of str object at 0x7f82b9276570>, <built-in method lower of str object at 0x7f82b92765a8>, <built-in method lower of str object at 0x7f82b92765e0>, <built-in method lower of str object at 0x7f82b9276618>, <built-in method lower of str object at 0x7f82ba1f9a30>, <built-in method lower of str object at 0x7f82b9276650>, <built-in method lower of str object at 0x7f82b9276688>, <built-in method lower of str object at 0x7f82b92766c0>, <built-in method lower of str object at 0x7f82b92766f8>, <built-in method lower of str object at 0x7f82b9276730>, <built-in method lower of str object at 0x7f82b9276768>, <built-in method lower of str object at 0x7f82b92767a0>, <built-in method lower of str object at 0x7f82ba1f9ab0>, <built-in method lower of str object at 0x7f82b92767d8>, <built-in method lower of str object at 0x7f82b9276810>, <built-in method lower of str object at 0x7f82b9276848>, <built-in method lower of str object at 0x7f82b9276880>, <built-in method lower of str object at 0x7f82b92768b8>, <built-in method lower of str object at 0x7f82b92768f0>, <built-in method lower of str object at 0x7f82b9276928>, <built-in method lower of str object at 0x7f82b9276960>, <built-in method lower of str object at 0x7f82b9276998>, <built-in method lower of str object at 0x7f82ba1f9af0>, <built-in method lower of str object at 0x7f82ba1f9b30>, <built-in method lower of str object at 0x7f82b92769d0>, <built-in method lower of str object at 0x7f82b9276a08>, <built-in method lower of str object at 0x7f82b9276a40>, <built-in method lower of str object at 0x7f82b9276a78>, <built-in method lower of str object at 0x7f82ba1f9bb0>, <built-in method lower of str object at 0x7f82b9276ab0>, <built-in method lower of str object at 0x7f82ba1f9b70>, <built-in method lower of str object at 0x7f82ba1f9bf0>, <built-in method lower of str object at 0x7f82b9276ae8>, <built-in method lower of str object at 0x7f82b9766770>, <built-in method lower of str object at 0x7f82b9276b20>, <built-in method lower of str object at 0x7f82b9766af0>, <built-in method lower of str object at 0x7f82b9276b58>, <built-in method lower of str object at 0x7f82b9276b90>, <built-in method lower of str object at 0x7f82b9276bc8>, <built-in method lower of str object at 0x7f82b9276c00>, <built-in method lower of str object at 0x7f82b9276c38>, <built-in method lower of str object at 0x7f82b9276c70>, <built-in method lower of str object at 0x7f82b9276ca8>, <built-in method lower of str object at 0x7f82b9276ce0>, <built-in method lower of str object at 0x7f82b9276d18>, <built-in method lower of str object at 0x7f82b9766b30>, <built-in method lower of str object at 0x7f82b9276d50>, <built-in method lower of str object at 0x7f82b9276d88>, <built-in method lower of str object at 0x7f82b9276dc0>, <built-in method lower of str object at 0x7f82b9766b70>, <built-in method lower of str object at 0x7f82b9276df8>, <built-in method lower of str object at 0x7f82b9276e30>, <built-in method lower of str object at 0x7f82b9276e68>, <built-in method lower of str object at 0x7f82b9766bb0>, <built-in method lower of str object at 0x7f82b9276ea0>, <built-in method lower of str object at 0x7f82b9276ed8>, <built-in method lower of str object at 0x7f82b9276f10>, <built-in method lower of str object at 0x7f82b9276f48>, <built-in method lower of str object at 0x7f82b9276f80>, <built-in method lower of str object at 0x7f82b9276fb8>, <built-in method lower of str object at 0x7f82b9278030>, <built-in method lower of str object at 0x7f82b9278068>, <built-in method lower of str object at 0x7f82b92780a0>, <built-in method lower of str object at 0x7f82b92780d8>, <built-in method lower of str object at 0x7f82b9766c30>, <built-in method lower of str object at 0x7f82b9278110>, <built-in method lower of str object at 0x7f82b9278148>, <built-in method lower of str object at 0x7f82b9278180>, <built-in method lower of str object at 0x7f82b9766bf0>, <built-in method lower of str object at 0x7f82b92781b8>, <built-in method lower of str object at 0x7f82b92781f0>, <built-in method lower of str object at 0x7f82b9766cb0>, <built-in method lower of str object at 0x7f82b9278228>, <built-in method lower of str object at 0x7f82b9278260>, <built-in method lower of str object at 0x7f82b9278298>, <built-in method lower of str object at 0x7f82b92782d0>, <built-in method lower of str object at 0x7f82b9278308>, <built-in method lower of str object at 0x7f82b9278340>, <built-in method lower of str object at 0x7f82b9278378>, <built-in method lower of str object at 0x7f82b92783b0>, <built-in method lower of str object at 0x7f82b92783e8>, <built-in method lower of str object at 0x7f82b9278420>, <built-in method lower of str object at 0x7f82b9278458>, <built-in method lower of str object at 0x7f82b9278490>, <built-in method lower of str object at 0x7f82b9766c70>, <built-in method lower of str object at 0x7f82b92784c8>, <built-in method lower of str object at 0x7f82b9278500>, <built-in method lower of str object at 0x7f82b9278538>, <built-in method lower of str object at 0x7f82b9278570>, <built-in method lower of str object at 0x7f82b92785a8>, <built-in method lower of str object at 0x7f82b92785e0>, <built-in method lower of str object at 0x7f82b9278618>, <built-in method lower of str object at 0x7f82b9278650>, <built-in method lower of str object at 0x7f82b9278688>, <built-in method lower of str object at 0x7f82b92786c0>, <built-in method lower of str object at 0x7f82b92786f8>, <built-in method lower of str object at 0x7f82b9278730>, <built-in method lower of str object at 0x7f82b9278768>, <built-in method lower of str object at 0x7f82b9766cf0>, <built-in method lower of str object at 0x7f82b92787a0>, <built-in method lower of str object at 0x7f82b92787d8>, <built-in method lower of str object at 0x7f82b9278810>, <built-in method lower of str object at 0x7f82b9278848>, <built-in method lower of str object at 0x7f82b9278880>, <built-in method lower of str object at 0x7f82b92788b8>, <built-in method lower of str object at 0x7f82b92788f0>, <built-in method lower of str object at 0x7f82b9278928>, <built-in method lower of str object at 0x7f82b9278960>, <built-in method lower of str object at 0x7f82b9278998>, <built-in method lower of str object at 0x7f82b92789d0>, <built-in method lower of str object at 0x7f82b9278a08>, <built-in method lower of str object at 0x7f82b9278a40>, <built-in method lower of str object at 0x7f82b9278a78>, <built-in method lower of str object at 0x7f82b9278ab0>, <built-in method lower of str object at 0x7f82b9278ae8>, <built-in method lower of str object at 0x7f82b9278b20>, <built-in method lower of str object at 0x7f82b9278b58>, <built-in method lower of str object at 0x7f82b9278b90>, <built-in method lower of str object at 0x7f82b9278bc8>, <built-in method lower of str object at 0x7f82b9278c00>, <built-in method lower of str object at 0x7f82b9278c38>, <built-in method lower of str object at 0x7f82b9278c70>, <built-in method lower of str object at 0x7f82b9278ca8>, <built-in method lower of str object at 0x7f82b9278ce0>, <built-in method lower of str object at 0x7f82b9278d18>, <built-in method lower of str object at 0x7f82b9278d50>, <built-in method lower of str object at 0x7f82b9278d88>, <built-in method lower of str object at 0x7f82b9278dc0>, <built-in method lower of str object at 0x7f82b9278df8>, <built-in method lower of str object at 0x7f82b9278e30>, <built-in method lower of str object at 0x7f82b9278e68>, <built-in method lower of str object at 0x7f82b9278ea0>, <built-in method lower of str object at 0x7f82b9278ed8>, <built-in method lower of str object at 0x7f82b9766d70>, <built-in method lower of str object at 0x7f82b9766d30>, <built-in method lower of str object at 0x7f82b9278f10>, <built-in method lower of str object at 0x7f82b9766db0>, <built-in method lower of str object at 0x7f82b9278f48>, <built-in method lower of str object at 0x7f82b9278f80>, <built-in method lower of str object at 0x7f82b9278fb8>, <built-in method lower of str object at 0x7f82b9279030>, <built-in method lower of str object at 0x7f82b9279068>, <built-in method lower of str object at 0x7f82b92790a0>, <built-in method lower of str object at 0x7f82b92790d8>, <built-in method lower of str object at 0x7f82b9279110>, <built-in method lower of str object at 0x7f82b9279148>, <built-in method lower of str object at 0x7f82b9766e30>, <built-in method lower of str object at 0x7f82b9766e70>, <built-in method lower of str object at 0x7f82b9279180>, <built-in method lower of str object at 0x7f82b92791b8>, <built-in method lower of str object at 0x7f82b92791f0>, <built-in method lower of str object at 0x7f82b9279228>, <built-in method lower of str object at 0x7f82b9279260>, <built-in method lower of str object at 0x7f82b9279298>, <built-in method lower of str object at 0x7f82b92792d0>, <built-in method lower of str object at 0x7f82b9279308>, <built-in method lower of str object at 0x7f82b9766df0>, <built-in method lower of str object at 0x7f82b9279340>, <built-in method lower of str object at 0x7f82b9766eb0>, <built-in method lower of str object at 0x7f82b9279378>, <built-in method lower of str object at 0x7f82b92793b0>, <built-in method lower of str object at 0x7f82b92793e8>, <built-in method lower of str object at 0x7f82b9279420>, <built-in method lower of str object at 0x7f82b9279458>, <built-in method lower of str object at 0x7f82b9279490>, <built-in method lower of str object at 0x7f82b92794c8>, <built-in method lower of str object at 0x7f82b9279500>, <built-in method lower of str object at 0x7f82b9279538>, <built-in method lower of str object at 0x7f82b9279570>, <built-in method lower of str object at 0x7f82b9766ef0>, <built-in method lower of str object at 0x7f82b9766f30>, <built-in method lower of str object at 0x7f82b92795a8>, <built-in method lower of str object at 0x7f82b92795e0>, <built-in method lower of str object at 0x7f82b9279618>, <built-in method lower of str object at 0x7f82b9279650>, <built-in method lower of str object at 0x7f82b9279688>, <built-in method lower of str object at 0x7f82b92796c0>, <built-in method lower of str object at 0x7f82b92796f8>, <built-in method lower of str object at 0x7f82b9279730>, <built-in method lower of str object at 0x7f82b9766f70>, <built-in method lower of str object at 0x7f82b9279768>, <built-in method lower of str object at 0x7f82b9766fb0>, <built-in method lower of str object at 0x7f82b92797a0>, <built-in method lower of str object at 0x7f82b92797d8>, <built-in method lower of str object at 0x7f82b9279810>, <built-in method lower of str object at 0x7f82b9279848>, <built-in method lower of str object at 0x7f82b9279880>, <built-in method lower of str object at 0x7f82b92798b8>, <built-in method lower of str object at 0x7f82b92798f0>, <built-in method lower of str object at 0x7f82b9279928>, <built-in method lower of str object at 0x7f82b9279960>, <built-in method lower of str object at 0x7f82b9279998>, <built-in method lower of str object at 0x7f82b92799d0>, <built-in method lower of str object at 0x7f82b9766030>, <built-in method lower of str object at 0x7f82b9279a08>, <built-in method lower of str object at 0x7f82b9279a40>, <built-in method lower of str object at 0x7f82b9279a78>, <built-in method lower of str object at 0x7f82b9279ab0>, <built-in method lower of str object at 0x7f82b9279ae8>, <built-in method lower of str object at 0x7f82b9279b20>, <built-in method lower of str object at 0x7f82b9279b58>, <built-in method lower of str object at 0x7f82b9279b90>, <built-in method lower of str object at 0x7f82b9279bc8>, <built-in method lower of str object at 0x7f82b9279c00>, <built-in method lower of str object at 0x7f82b9279c38>, <built-in method lower of str object at 0x7f82b9279c70>, <built-in method lower of str object at 0x7f82b9279ca8>, <built-in method lower of str object at 0x7f82b9279ce0>, <built-in method lower of str object at 0x7f82b9279d18>, <built-in method lower of str object at 0x7f82b9279d50>, <built-in method lower of str object at 0x7f82b9279d88>, <built-in method lower of str object at 0x7f82b9279dc0>, <built-in method lower of str object at 0x7f82b9279df8>, <built-in method lower of str object at 0x7f82b9279e30>, <built-in method lower of str object at 0x7f82b97660f0>, <built-in method lower of str object at 0x7f82b9279e68>, <built-in method lower of str object at 0x7f82b9279ea0>, <built-in method lower of str object at 0x7f82b9279ed8>, <built-in method lower of str object at 0x7f82b9279f10>, <built-in method lower of str object at 0x7f82b9279f48>, <built-in method lower of str object at 0x7f82b9279f80>, <built-in method lower of str object at 0x7f82b9279fb8>, <built-in method lower of str object at 0x7f82b9282030>, <built-in method lower of str object at 0x7f82b9282068>, <built-in method lower of str object at 0x7f82b92820a0>, <built-in method lower of str object at 0x7f82b92820d8>, <built-in method lower of str object at 0x7f82b9282110>, <built-in method lower of str object at 0x7f82b9282148>, <built-in method lower of str object at 0x7f82b9282180>, <built-in method lower of str object at 0x7f82b92821b8>, <built-in method lower of str object at 0x7f82b97660b0>, <built-in method lower of str object at 0x7f82b97661b0>, <built-in method lower of str object at 0x7f82b92821f0>, <built-in method lower of str object at 0x7f82b9282228>, <built-in method lower of str object at 0x7f82b9282260>, <built-in method lower of str object at 0x7f82b9282298>, <built-in method lower of str object at 0x7f82b92822d0>, <built-in method lower of str object at 0x7f82b9282308>, <built-in method lower of str object at 0x7f82b9282340>, <built-in method lower of str object at 0x7f82b9766130>, <built-in method lower of str object at 0x7f82b9282378>, <built-in method lower of str object at 0x7f82b92823b0>, <built-in method lower of str object at 0x7f82b92823e8>, <built-in method lower of str object at 0x7f82b97661f0>, <built-in method lower of str object at 0x7f82b9282420>, <built-in method lower of str object at 0x7f82b9282458>, <built-in method lower of str object at 0x7f82b9282490>, <built-in method lower of str object at 0x7f82b92824c8>, <built-in method lower of str object at 0x7f82b9282500>, <built-in method lower of str object at 0x7f82b9282538>, <built-in method lower of str object at 0x7f82b9282570>, <built-in method lower of str object at 0x7f82b9766230>, <built-in method lower of str object at 0x7f82b92825a8>, <built-in method lower of str object at 0x7f82b92825e0>, <built-in method lower of str object at 0x7f82b9282618>, <built-in method lower of str object at 0x7f82b9282650>, <built-in method lower of str object at 0x7f82b9282688>, <built-in method lower of str object at 0x7f82b92826c0>, <built-in method lower of str object at 0x7f82b97662b0>, <built-in method lower of str object at 0x7f82b97662f0>, <built-in method lower of str object at 0x7f82b92826f8>, <built-in method lower of str object at 0x7f82b9766270>, <built-in method lower of str object at 0x7f82b9282730>, <built-in method lower of str object at 0x7f82b9282768>, <built-in method lower of str object at 0x7f82b92827a0>, <built-in method lower of str object at 0x7f82b92827d8>, <built-in method lower of str object at 0x7f82b9282810>, <built-in method lower of str object at 0x7f82b9282848>, <built-in method lower of str object at 0x7f82b9282880>, <built-in method lower of str object at 0x7f82b92828b8>, <built-in method lower of str object at 0x7f82b92828f0>, <built-in method lower of str object at 0x7f82b9282928>, <built-in method lower of str object at 0x7f82b9282960>, <built-in method lower of str object at 0x7f82b9282998>, <built-in method lower of str object at 0x7f82b9766170>, <built-in method lower of str object at 0x7f82b92829d0>, <built-in method lower of str object at 0x7f82b9282a08>, <built-in method lower of str object at 0x7f82b9282a40>, <built-in method lower of str object at 0x7f82b9282a78>, <built-in method lower of str object at 0x7f82b9282ab0>, <built-in method lower of str object at 0x7f82b9766370>, <built-in method lower of str object at 0x7f82b9282ae8>, <built-in method lower of str object at 0x7f82b9282b20>, <built-in method lower of str object at 0x7f82b9282b58>, <built-in method lower of str object at 0x7f82b9282bc8>, <built-in method lower of str object at 0x7f82b9766330>, <built-in method lower of str object at 0x7f82b9282c00>, <built-in method lower of str object at 0x7f82b9282c38>, <built-in method lower of str object at 0x7f82b9282c70>, <built-in method lower of str object at 0x7f82b9282ca8>, <built-in method lower of str object at 0x7f82b9282ce0>, <built-in method lower of str object at 0x7f82b9282d18>, <built-in method lower of str object at 0x7f82b9282d50>, <built-in method lower of str object at 0x7f82b9282d88>, <built-in method lower of str object at 0x7f82b9282dc0>, <built-in method lower of str object at 0x7f82b9282df8>, <built-in method lower of str object at 0x7f82b9282e30>, <built-in method lower of str object at 0x7f82b9282e68>, <built-in method lower of str object at 0x7f82b9282ea0>, <built-in method lower of str object at 0x7f82b9282ed8>, <built-in method lower of str object at 0x7f82b9282f10>, <built-in method lower of str object at 0x7f82b9282f48>, <built-in method lower of str object at 0x7f82b9282f80>, <built-in method lower of str object at 0x7f82b9282fb8>, <built-in method lower of str object at 0x7f82b92a9030>, <built-in method lower of str object at 0x7f82b92a9068>, <built-in method lower of str object at 0x7f82b92a90a0>, <built-in method lower of str object at 0x7f82b92a90d8>, <built-in method lower of str object at 0x7f82b9282b90>, <built-in method lower of str object at 0x7f82b92a9110>, <built-in method lower of str object at 0x7f82b92a9148>, <built-in method lower of str object at 0x7f82b92a9180>, <built-in method lower of str object at 0x7f82b92a91b8>, <built-in method lower of str object at 0x7f82b92a91f0>, <built-in method lower of str object at 0x7f82b92a9228>, <built-in method lower of str object at 0x7f82b92a9260>, <built-in method lower of str object at 0x7f82b92a9298>, <built-in method lower of str object at 0x7f82b92a92d0>, <built-in method lower of str object at 0x7f82b92a9308>, <built-in method lower of str object at 0x7f82b92a9340>, <built-in method lower of str object at 0x7f82b92a9378>, <built-in method lower of str object at 0x7f82b92a93b0>, <built-in method lower of str object at 0x7f82b92a93e8>, <built-in method lower of str object at 0x7f82b92a9420>, <built-in method lower of str object at 0x7f82b92a9458>, <built-in method lower of str object at 0x7f82b92a9490>, <built-in method lower of str object at 0x7f82b92a94c8>, <built-in method lower of str object at 0x7f82b97663b0>, <built-in method lower of str object at 0x7f82b92a9500>, <built-in method lower of str object at 0x7f82b92a9538>, <built-in method lower of str object at 0x7f82b97663f0>, <built-in method lower of str object at 0x7f82b92a9570>, <built-in method lower of str object at 0x7f82b92a95a8>, <built-in method lower of str object at 0x7f82b92a95e0>, <built-in method lower of str object at 0x7f82b92a9618>, <built-in method lower of str object at 0x7f82b92a9650>, <built-in method lower of str object at 0x7f82b92a9688>, <built-in method lower of str object at 0x7f82b92a96c0>, <built-in method lower of str object at 0x7f82b92a96f8>, <built-in method lower of str object at 0x7f82b92a9730>, <built-in method lower of str object at 0x7f82b92a9768>, <built-in method lower of str object at 0x7f82b92a97a0>, <built-in method lower of str object at 0x7f82b92a97d8>, <built-in method lower of str object at 0x7f82b92a9810>, <built-in method lower of str object at 0x7f82b92a9848>, <built-in method lower of str object at 0x7f82b92a9880>, <built-in method lower of str object at 0x7f82b92a98b8>, <built-in method lower of str object at 0x7f82b92a98f0>, <built-in method lower of str object at 0x7f82b97664b0>, <built-in method lower of str object at 0x7f82b9766470>, <built-in method lower of str object at 0x7f82b92a9928>, <built-in method lower of str object at 0x7f82b92a9960>, <built-in method lower of str object at 0x7f82b92a9998>, <built-in method lower of str object at 0x7f82b92a99d0>, <built-in method lower of str object at 0x7f82b92a9a08>, <built-in method lower of str object at 0x7f82b92a9a40>, <built-in method lower of str object at 0x7f82b92a9a78>, <built-in method lower of str object at 0x7f82b92a9ab0>, <built-in method lower of str object at 0x7f82b92a9ae8>, <built-in method lower of str object at 0x7f82b92a9b20>, <built-in method lower of str object at 0x7f82b92a9b58>, <built-in method lower of str object at 0x7f82b92a9b90>, <built-in method lower of str object at 0x7f82b92a9bc8>, <built-in method lower of str object at 0x7f82b92a9c00>, <built-in method lower of str object at 0x7f82b92a9c38>, <built-in method lower of str object at 0x7f82b92a9c70>, <built-in method lower of str object at 0x7f82b92a9ca8>, <built-in method lower of str object at 0x7f82b92a9ce0>, <built-in method lower of str object at 0x7f82b92a9d18>, <built-in method lower of str object at 0x7f82b92a9d50>, <built-in method lower of str object at 0x7f82b92a9d88>, <built-in method lower of str object at 0x7f82b97664f0>, <built-in method lower of str object at 0x7f82b92a9dc0>, <built-in method lower of str object at 0x7f82b92a9df8>, <built-in method lower of str object at 0x7f82b92a9e30>, <built-in method lower of str object at 0x7f82b92a9e68>, <built-in method lower of str object at 0x7f82b92a9ea0>, <built-in method lower of str object at 0x7f82b92a9ed8>, <built-in method lower of str object at 0x7f82b92a9f10>, <built-in method lower of str object at 0x7f82b92a9f48>, <built-in method lower of str object at 0x7f82b92a9f80>, <built-in method lower of str object at 0x7f82b92a9fb8>, <built-in method lower of str object at 0x7f82b9272420>, <built-in method lower of str object at 0x7f82b9272458>, <built-in method lower of str object at 0x7f82b9272490>, <built-in method lower of str object at 0x7f82b92724c8>, <built-in method lower of str object at 0x7f82b9272500>, <built-in method lower of str object at 0x7f82b9272538>, <built-in method lower of str object at 0x7f82b9272570>, <built-in method lower of str object at 0x7f82b92725a8>, <built-in method lower of str object at 0x7f82b92725e0>, <built-in method lower of str object at 0x7f82b9272618>, <built-in method lower of str object at 0x7f82b9272650>, <built-in method lower of str object at 0x7f82b9272688>, <built-in method lower of str object at 0x7f82b92726c0>, <built-in method lower of str object at 0x7f82b92726f8>, <built-in method lower of str object at 0x7f82b9272730>, <built-in method lower of str object at 0x7f82b9272768>, <built-in method lower of str object at 0x7f82b92727a0>, <built-in method lower of str object at 0x7f82b92727d8>, <built-in method lower of str object at 0x7f82b9272810>, <built-in method lower of str object at 0x7f82b9272848>, <built-in method lower of str object at 0x7f82b9272880>, <built-in method lower of str object at 0x7f82b92728b8>, <built-in method lower of str object at 0x7f82b92728f0>, <built-in method lower of str object at 0x7f82b9272928>, <built-in method lower of str object at 0x7f82b9272960>, <built-in method lower of str object at 0x7f82b9272998>, <built-in method lower of str object at 0x7f82b92729d0>, <built-in method lower of str object at 0x7f82b9272a08>, <built-in method lower of str object at 0x7f82b9272a40>, <built-in method lower of str object at 0x7f82b9272a78>, <built-in method lower of str object at 0x7f82b9272ab0>, <built-in method lower of str object at 0x7f82b9272ae8>, <built-in method lower of str object at 0x7f82b9272b20>, <built-in method lower of str object at 0x7f82b9272b58>, <built-in method lower of str object at 0x7f82b9272b90>, <built-in method lower of str object at 0x7f82b9272bc8>, <built-in method lower of str object at 0x7f82b9272c00>, <built-in method lower of str object at 0x7f82b9272c38>, <built-in method lower of str object at 0x7f82b9272c70>, <built-in method lower of str object at 0x7f82b9272ca8>, <built-in method lower of str object at 0x7f82b9272ce0>, <built-in method lower of str object at 0x7f82b9272d18>, <built-in method lower of str object at 0x7f82b9272d50>, <built-in method lower of str object at 0x7f82b9272d88>, <built-in method lower of str object at 0x7f82b9272dc0>, <built-in method lower of str object at 0x7f82b9272df8>, <built-in method lower of str object at 0x7f82b9272e30>, <built-in method lower of str object at 0x7f82b9272e68>, <built-in method lower of str object at 0x7f82b9272ea0>, <built-in method lower of str object at 0x7f82b9272ed8>, <built-in method lower of str object at 0x7f82b9272f10>, <built-in method lower of str object at 0x7f82b9272f48>, <built-in method lower of str object at 0x7f82b9272f80>, <built-in method lower of str object at 0x7f82b9272fb8>, <built-in method lower of str object at 0x7f82b9272030>, <built-in method lower of str object at 0x7f82b9272068>, <built-in method lower of str object at 0x7f82b92720a0>, <built-in method lower of str object at 0x7f82b92720d8>, <built-in method lower of str object at 0x7f82b9272110>, <built-in method lower of str object at 0x7f82b9272148>, <built-in method lower of str object at 0x7f82b9272180>, <built-in method lower of str object at 0x7f82b92721b8>, <built-in method lower of str object at 0x7f82b92721f0>, <built-in method lower of str object at 0x7f82b9272228>, <built-in method lower of str object at 0x7f82b9272260>, <built-in method lower of str object at 0x7f82b9272298>, <built-in method lower of str object at 0x7f82b92722d0>, <built-in method lower of str object at 0x7f82b9272308>, <built-in method lower of str object at 0x7f82b9272340>, <built-in method lower of str object at 0x7f82b9272378>, <built-in method lower of str object at 0x7f82b92723b0>, <built-in method lower of str object at 0x7f82b92723e8>, <built-in method lower of str object at 0x7f82b9271030>, <built-in method lower of str object at 0x7f82b9271068>, <built-in method lower of str object at 0x7f82b92710a0>, <built-in method lower of str object at 0x7f82b92710d8>, <built-in method lower of str object at 0x7f82b9271110>, <built-in method lower of str object at 0x7f82b9271148>, <built-in method lower of str object at 0x7f82b9271180>, <built-in method lower of str object at 0x7f82b92711b8>, <built-in method lower of str object at 0x7f82b9766430>, <built-in method lower of str object at 0x7f82b92711f0>, <built-in method lower of str object at 0x7f82b9271228>, <built-in method lower of str object at 0x7f82b9766530>, <built-in method lower of str object at 0x7f82b9271260>, <built-in method lower of str object at 0x7f82b9271298>, <built-in method lower of str object at 0x7f82b92712d0>, <built-in method lower of str object at 0x7f82b9271308>, <built-in method lower of str object at 0x7f82b9271340>, <built-in method lower of str object at 0x7f82b9271378>, <built-in method lower of str object at 0x7f82b97665f0>, <built-in method lower of str object at 0x7f82b92713b0>, <built-in method lower of str object at 0x7f82b92713e8>, <built-in method lower of str object at 0x7f82b9271420>, <built-in method lower of str object at 0x7f82b9766570>, <built-in method lower of str object at 0x7f82b9766630>, <built-in method lower of str object at 0x7f82b9271458>, <built-in method lower of str object at 0x7f82b97665b0>, <built-in method lower of str object at 0x7f82b9271490>, <built-in method lower of str object at 0x7f82b9766670>, <built-in method lower of str object at 0x7f82b92714c8>, <built-in method lower of str object at 0x7f82b97666b0>, <built-in method lower of str object at 0x7f82b9271500>, <built-in method lower of str object at 0x7f82b9271538>, <built-in method lower of str object at 0x7f82b9766730>, <built-in method lower of str object at 0x7f82b97666f0>, <built-in method lower of str object at 0x7f82b9271570>, <built-in method lower of str object at 0x7f82b97667b0>, <built-in method lower of str object at 0x7f82b92715a8>, <built-in method lower of str object at 0x7f82b92715e0>, <built-in method lower of str object at 0x7f82b9271618>, <built-in method lower of str object at 0x7f82b9271650>, <built-in method lower of str object at 0x7f82b9271688>, <built-in method lower of str object at 0x7f82b92716c0>, <built-in method lower of str object at 0x7f82b92716f8>, <built-in method lower of str object at 0x7f82b9271730>, <built-in method lower of str object at 0x7f82b97667f0>, <built-in method lower of str object at 0x7f82b9271768>, <built-in method lower of str object at 0x7f82b9766830>, <built-in method lower of str object at 0x7f82b92717a0>, <built-in method lower of str object at 0x7f82b92717d8>, <built-in method lower of str object at 0x7f82b9271810>, <built-in method lower of str object at 0x7f82b9271848>, <built-in method lower of str object at 0x7f82b9271880>, <built-in method lower of str object at 0x7f82b92718b8>, <built-in method lower of str object at 0x7f82b92718f0>, <built-in method lower of str object at 0x7f82b9271928>, <built-in method lower of str object at 0x7f82b9271960>, <built-in method lower of str object at 0x7f82b9271998>, <built-in method lower of str object at 0x7f82b92719d0>, <built-in method lower of str object at 0x7f82b9271a08>, <built-in method lower of str object at 0x7f82b9271a40>, <built-in method lower of str object at 0x7f82b9271a78>, <built-in method lower of str object at 0x7f82b9271ab0>, <built-in method lower of str object at 0x7f82b9271ae8>, <built-in method lower of str object at 0x7f82b9271b20>, <built-in method lower of str object at 0x7f82b9271b58>, <built-in method lower of str object at 0x7f82b9271b90>, <built-in method lower of str object at 0x7f82b9271bc8>, <built-in method lower of str object at 0x7f82b9271c00>, <built-in method lower of str object at 0x7f82b9271c38>, <built-in method lower of str object at 0x7f82b9271c70>, <built-in method lower of str object at 0x7f82b9271ca8>, <built-in method lower of str object at 0x7f82b9271ce0>, <built-in method lower of str object at 0x7f82b9271d18>, <built-in method lower of str object at 0x7f82b9271d50>, <built-in method lower of str object at 0x7f82b97668b0>, <built-in method lower of str object at 0x7f82b9271d88>, <built-in method lower of str object at 0x7f82b9271dc0>, <built-in method lower of str object at 0x7f82b9271df8>, <built-in method lower of str object at 0x7f82b9766870>, <built-in method lower of str object at 0x7f82b9271e30>, <built-in method lower of str object at 0x7f82b9271e68>, <built-in method lower of str object at 0x7f82b9271ea0>, <built-in method lower of str object at 0x7f82b9271ed8>, <built-in method lower of str object at 0x7f82b9271f10>, <built-in method lower of str object at 0x7f82b9271f48>, <built-in method lower of str object at 0x7f82b9271f80>, <built-in method lower of str object at 0x7f82b9271fb8>, <built-in method lower of str object at 0x7f82bacd2030>, <built-in method lower of str object at 0x7f82bacd2068>, <built-in method lower of str object at 0x7f82bacd20a0>, <built-in method lower of str object at 0x7f82bacd20d8>, <built-in method lower of str object at 0x7f82b9766930>, <built-in method lower of str object at 0x7f82bacd2110>, <built-in method lower of str object at 0x7f82bacd2148>, <built-in method lower of str object at 0x7f82bacd2180>, <built-in method lower of str object at 0x7f82bacd21b8>, <built-in method lower of str object at 0x7f82b97668f0>, <built-in method lower of str object at 0x7f82bacd21f0>, <built-in method lower of str object at 0x7f82bacd2228>, <built-in method lower of str object at 0x7f82bacd2260>, <built-in method lower of str object at 0x7f82bacd2298>, <built-in method lower of str object at 0x7f82bacd22d0>, <built-in method lower of str object at 0x7f82bacd2308>, <built-in method lower of str object at 0x7f82bacd2340>, <built-in method lower of str object at 0x7f82bacd2378>, <built-in method lower of str object at 0x7f82bacd23b0>, <built-in method lower of str object at 0x7f82bacd23e8>, <built-in method lower of str object at 0x7f82bacd2420>, <built-in method lower of str object at 0x7f82bacd2458>, <built-in method lower of str object at 0x7f82bacd2490>, <built-in method lower of str object at 0x7f82bacd24c8>, <built-in method lower of str object at 0x7f82b97669b0>, <built-in method lower of str object at 0x7f82bacd2500>, <built-in method lower of str object at 0x7f82bacd2538>, <built-in method lower of str object at 0x7f82bacd2570>, <built-in method lower of str object at 0x7f82bacd25a8>, <built-in method lower of str object at 0x7f82bacd25e0>, <built-in method lower of str object at 0x7f82bacd2618>, <built-in method lower of str object at 0x7f82bacd2650>, <built-in method lower of str object at 0x7f82bacd2688>, <built-in method lower of str object at 0x7f82b9766a30>, <built-in method lower of str object at 0x7f82bacd26c0>, <built-in method lower of str object at 0x7f82bacd26f8>, <built-in method lower of str object at 0x7f82bacd2730>, <built-in method lower of str object at 0x7f82bacd2768>, <built-in method lower of str object at 0x7f82bacd27a0>, <built-in method lower of str object at 0x7f82bacd27d8>, <built-in method lower of str object at 0x7f82b97669f0>, <built-in method lower of str object at 0x7f82bacd2810>, <built-in method lower of str object at 0x7f82b9766a70>, <built-in method lower of str object at 0x7f82b976af70>, <built-in method lower of str object at 0x7f82bacd2848>, <built-in method lower of str object at 0x7f82bacd2880>, <built-in method lower of str object at 0x7f82bacd28b8>, <built-in method lower of str object at 0x7f82bacd28f0>, <built-in method lower of str object at 0x7f82bacd2928>, <built-in method lower of str object at 0x7f82b976a070>, <built-in method lower of str object at 0x7f82bacd2960>, <built-in method lower of str object at 0x7f82b976a030>, <built-in method lower of str object at 0x7f82bacd2998>, <built-in method lower of str object at 0x7f82bacd29d0>, <built-in method lower of str object at 0x7f82b976a0f0>, <built-in method lower of str object at 0x7f82bacd2a08>, <built-in method lower of str object at 0x7f82bacd2a40>, <built-in method lower of str object at 0x7f82bacd2a78>, <built-in method lower of str object at 0x7f82bacd2ab0>, <built-in method lower of str object at 0x7f82bacd2ae8>, <built-in method lower of str object at 0x7f82bacd2b20>, <built-in method lower of str object at 0x7f82bacd2b58>, <built-in method lower of str object at 0x7f82bacd2b90>, <built-in method lower of str object at 0x7f82bacd2bc8>, <built-in method lower of str object at 0x7f82bacd2c00>, <built-in method lower of str object at 0x7f82bacd2c38>, <built-in method lower of str object at 0x7f82bacd2c70>, <built-in method lower of str object at 0x7f82f004bab0>, <built-in method lower of str object at 0x7f82bacd2ca8>, <built-in method lower of str object at 0x7f82f004bc70>, <built-in method lower of str object at 0x7f82bacd2ce0>, <built-in method lower of str object at 0x7f82b976a0b0>, <built-in method lower of str object at 0x7f82b976a130>, <built-in method lower of str object at 0x7f82b976a170>, <built-in method lower of str object at 0x7f82bacd2d18>, <built-in method lower of str object at 0x7f82bacd2d50>, <built-in method lower of str object at 0x7f82bacd2d88>, <built-in method lower of str object at 0x7f82bacd2dc0>, <built-in method lower of str object at 0x7f82bacd2df8>, <built-in method lower of str object at 0x7f82bacd2e30>, <built-in method lower of str object at 0x7f82bacd2e68>, <built-in method lower of str object at 0x7f82b976a1b0>, <built-in method lower of str object at 0x7f82b976a230>, <built-in method lower of str object at 0x7f82bacd2ea0>, <built-in method lower of str object at 0x7f82bacd2ed8>, <built-in method lower of str object at 0x7f82bacd2f10>, <built-in method lower of str object at 0x7f82bacd2f48>, <built-in method lower of str object at 0x7f82bacd2f80>, <built-in method lower of str object at 0x7f82bacd2fb8>, <built-in method lower of str object at 0x7f82bace8030>, <built-in method lower of str object at 0x7f82bace8068>, <built-in method lower of str object at 0x7f82bace80a0>, <built-in method lower of str object at 0x7f82b976a1f0>, <built-in method lower of str object at 0x7f82bace80d8>, <built-in method lower of str object at 0x7f82bace8110>, <built-in method lower of str object at 0x7f82bace8148>, <built-in method lower of str object at 0x7f82b976a270>, <built-in method lower of str object at 0x7f82bace8180>, <built-in method lower of str object at 0x7f82bace81b8>, <built-in method lower of str object at 0x7f82bace81f0>, <built-in method lower of str object at 0x7f82bace8228>, <built-in method lower of str object at 0x7f82bace8260>, <built-in method lower of str object at 0x7f82bace8298>, <built-in method lower of str object at 0x7f82bace82d0>, <built-in method lower of str object at 0x7f82bace8308>, <built-in method lower of str object at 0x7f82bace8340>, <built-in method lower of str object at 0x7f82bace8378>, <built-in method lower of str object at 0x7f82bace83b0>, <built-in method lower of str object at 0x7f82bace83e8>, <built-in method lower of str object at 0x7f82bace8420>, <built-in method lower of str object at 0x7f82bace8458>, <built-in method lower of str object at 0x7f82bace8490>, <built-in method lower of str object at 0x7f82bace84c8>, <built-in method lower of str object at 0x7f82bace8500>, <built-in method lower of str object at 0x7f82bace8538>, <built-in method lower of str object at 0x7f82bace8570>, <built-in method lower of str object at 0x7f82bace85a8>, <built-in method lower of str object at 0x7f82bace85e0>, <built-in method lower of str object at 0x7f82bace8618>, <built-in method lower of str object at 0x7f82bace8650>, <built-in method lower of str object at 0x7f82bace8688>, <built-in method lower of str object at 0x7f82bace86c0>, <built-in method lower of str object at 0x7f82bace86f8>, <built-in method lower of str object at 0x7f82bace8730>, <built-in method lower of str object at 0x7f82bace8768>, <built-in method lower of str object at 0x7f82bace87a0>, <built-in method lower of str object at 0x7f82b976a2b0>, <built-in method lower of str object at 0x7f82bace87d8>, <built-in method lower of str object at 0x7f82bace8810>, <built-in method lower of str object at 0x7f82bace8848>, <built-in method lower of str object at 0x7f82bace8880>, <built-in method lower of str object at 0x7f82bace88b8>, <built-in method lower of str object at 0x7f82b976a2f0>, <built-in method lower of str object at 0x7f82bace88f0>, <built-in method lower of str object at 0x7f82bace8928>, <built-in method lower of str object at 0x7f82bace8960>, <built-in method lower of str object at 0x7f82bace8998>, <built-in method lower of str object at 0x7f82b976a370>, <built-in method lower of str object at 0x7f82bace89d0>, <built-in method lower of str object at 0x7f82bace8a08>, <built-in method lower of str object at 0x7f82bace8a40>, <built-in method lower of str object at 0x7f82bace8a78>, <built-in method lower of str object at 0x7f82bace8ab0>, <built-in method lower of str object at 0x7f82b976a330>, <built-in method lower of str object at 0x7f82bace8ae8>, <built-in method lower of str object at 0x7f82bace8b20>, <built-in method lower of str object at 0x7f82bace8b58>, <built-in method lower of str object at 0x7f82bace8b90>, <built-in method lower of str object at 0x7f82bace8bc8>, <built-in method lower of str object at 0x7f82bace8c00>, <built-in method lower of str object at 0x7f82bace8c38>, <built-in method lower of str object at 0x7f82bace8c70>, <built-in method lower of str object at 0x7f82bace8ca8>, <built-in method lower of str object at 0x7f82bace8ce0>, <built-in method lower of str object at 0x7f82bace8d18>, <built-in method lower of str object at 0x7f82bace8d50>, <built-in method lower of str object at 0x7f82bace8d88>, <built-in method lower of str object at 0x7f82bace8dc0>, <built-in method lower of str object at 0x7f82bace8df8>, <built-in method lower of str object at 0x7f82bace8e30>, <built-in method lower of str object at 0x7f82bace8e68>, <built-in method lower of str object at 0x7f82b976a3b0>, <built-in method lower of str object at 0x7f82bace8ea0>, <built-in method lower of str object at 0x7f82bace8ed8>, <built-in method lower of str object at 0x7f82bace8f10>, <built-in method lower of str object at 0x7f82bace8f48>, <built-in method lower of str object at 0x7f82bace8f80>, <built-in method lower of str object at 0x7f82bace8fb8>, <built-in method lower of str object at 0x7f82b976a3f0>, <built-in method lower of str object at 0x7f82bacec030>, <built-in method lower of str object at 0x7f82bacec068>, <built-in method lower of str object at 0x7f82bacec0a0>, <built-in method lower of str object at 0x7f82bacec0d8>, <built-in method lower of str object at 0x7f82b976a470>, <built-in method lower of str object at 0x7f82bacec110>, <built-in method lower of str object at 0x7f82b976a4b0>, <built-in method lower of str object at 0x7f82bacec148>, <built-in method lower of str object at 0x7f82bacec180>, <built-in method lower of str object at 0x7f82bacec1b8>, <built-in method lower of str object at 0x7f82bacec1f0>, <built-in method lower of str object at 0x7f82bacec228>, <built-in method lower of str object at 0x7f82bacec260>, <built-in method lower of str object at 0x7f82bacec298>, <built-in method lower of str object at 0x7f82bacec2d0>, <built-in method lower of str object at 0x7f82b976a430>, <built-in method lower of str object at 0x7f82bacec308>, <built-in method lower of str object at 0x7f82bacec340>, <built-in method lower of str object at 0x7f82bacec378>, <built-in method lower of str object at 0x7f82bacec3b0>, <built-in method lower of str object at 0x7f82bacec3e8>, <built-in method lower of str object at 0x7f82bacec420>, <built-in method lower of str object at 0x7f82bacec458>, <built-in method lower of str object at 0x7f82b976a530>, <built-in method lower of str object at 0x7f82bacec490>, <built-in method lower of str object at 0x7f82bacec4c8>, <built-in method lower of str object at 0x7f82bacec500>, <built-in method lower of str object at 0x7f82bacec538>, <built-in method lower of str object at 0x7f82bacec570>, <built-in method lower of str object at 0x7f82bacec5a8>, <built-in method lower of str object at 0x7f82bacec5e0>, <built-in method lower of str object at 0x7f82bacec618>, <built-in method lower of str object at 0x7f82bacec650>, <built-in method lower of str object at 0x7f82bacec688>, <built-in method lower of str object at 0x7f82bacec6c0>, <built-in method lower of str object at 0x7f82bacec6f8>, <built-in method lower of str object at 0x7f82bacec730>, <built-in method lower of str object at 0x7f82b976a5b0>, <built-in method lower of str object at 0x7f82bacec768>, <built-in method lower of str object at 0x7f82bacec7a0>, <built-in method lower of str object at 0x7f82bacec7d8>, <built-in method lower of str object at 0x7f82bacec810>, <built-in method lower of str object at 0x7f82bacec848>, <built-in method lower of str object at 0x7f82bacec880>, <built-in method lower of str object at 0x7f82bacec8b8>, <built-in method lower of str object at 0x7f82bacec8f0>, <built-in method lower of str object at 0x7f82bacec928>, <built-in method lower of str object at 0x7f82bacec998>, <built-in method lower of str object at 0x7f82bacec9d0>, <built-in method lower of str object at 0x7f82baceca08>, <built-in method lower of str object at 0x7f82baceca40>, <built-in method lower of str object at 0x7f82b976a4f0>, <built-in method lower of str object at 0x7f82baceca78>, <built-in method lower of str object at 0x7f82bacecab0>, <built-in method lower of str object at 0x7f82bacecae8>, <built-in method lower of str object at 0x7f82bacecb20>, <built-in method lower of str object at 0x7f82bacecb58>, <built-in method lower of str object at 0x7f82bacecb90>, <built-in method lower of str object at 0x7f82bacecbc8>, <built-in method lower of str object at 0x7f82bacecc00>, <built-in method lower of str object at 0x7f82bacecc38>, <built-in method lower of str object at 0x7f82b976a5f0>, <built-in method lower of str object at 0x7f82bacecc70>, <built-in method lower of str object at 0x7f82bacecca8>, <built-in method lower of str object at 0x7f82bacecce0>, <built-in method lower of str object at 0x7f82bacecd18>, <built-in method lower of str object at 0x7f82bacecd50>, <built-in method lower of str object at 0x7f82bacecd88>, <built-in method lower of str object at 0x7f82bacecdc0>, <built-in method lower of str object at 0x7f82bacecdf8>, <built-in method lower of str object at 0x7f82bacec960>, <built-in method lower of str object at 0x7f82bacece30>, <built-in method lower of str object at 0x7f82bacece68>, <built-in method lower of str object at 0x7f82b976a670>, <built-in method lower of str object at 0x7f82bacecea0>, <built-in method lower of str object at 0x7f82baceced8>, <built-in method lower of str object at 0x7f82bacecf10>, <built-in method lower of str object at 0x7f82bacecf48>, <built-in method lower of str object at 0x7f82bacecf80>, <built-in method lower of str object at 0x7f82bacecfb8>, <built-in method lower of str object at 0x7f82baced030>, <built-in method lower of str object at 0x7f82b976a6b0>, <built-in method lower of str object at 0x7f82baced068>, <built-in method lower of str object at 0x7f82baced0a0>, <built-in method lower of str object at 0x7f82baced0d8>, <built-in method lower of str object at 0x7f82baced110>, <built-in method lower of str object at 0x7f82baced148>, <built-in method lower of str object at 0x7f82baced180>, <built-in method lower of str object at 0x7f82baced1b8>, <built-in method lower of str object at 0x7f82baced1f0>, <built-in method lower of str object at 0x7f82baced228>, <built-in method lower of str object at 0x7f82baced260>, <built-in method lower of str object at 0x7f82baced298>, <built-in method lower of str object at 0x7f82baced2d0>, <built-in method lower of str object at 0x7f82baced308>, <built-in method lower of str object at 0x7f82baced340>, <built-in method lower of str object at 0x7f82baced378>, <built-in method lower of str object at 0x7f82baced3b0>, <built-in method lower of str object at 0x7f82baced3e8>, <built-in method lower of str object at 0x7f82baced420>, <built-in method lower of str object at 0x7f82baced458>, <built-in method lower of str object at 0x7f82baced490>, <built-in method lower of str object at 0x7f82b976a6f0>, <built-in method lower of str object at 0x7f82b976a730>, <built-in method lower of str object at 0x7f82baced4c8>, <built-in method lower of str object at 0x7f82b976a630>, <built-in method lower of str object at 0x7f82baced500>, <built-in method lower of str object at 0x7f82baced538>, <built-in method lower of str object at 0x7f82baced570>, <built-in method lower of str object at 0x7f82baced5a8>, <built-in method lower of str object at 0x7f82baced5e0>, <built-in method lower of str object at 0x7f82baced618>, <built-in method lower of str object at 0x7f82baced650>, <built-in method lower of str object at 0x7f82baced688>, <built-in method lower of str object at 0x7f82baced6c0>, <built-in method lower of str object at 0x7f82baced6f8>, <built-in method lower of str object at 0x7f82baced730>, <built-in method lower of str object at 0x7f82b976a770>, <built-in method lower of str object at 0x7f82baced768>, <built-in method lower of str object at 0x7f82baced7a0>, <built-in method lower of str object at 0x7f82baced7d8>, <built-in method lower of str object at 0x7f82baced810>, <built-in method lower of str object at 0x7f82b976a570>, <built-in method lower of str object at 0x7f82baced848>, <built-in method lower of str object at 0x7f82baced880>, <built-in method lower of str object at 0x7f82baced8b8>, <built-in method lower of str object at 0x7f82baced8f0>, <built-in method lower of str object at 0x7f82baced928>, <built-in method lower of str object at 0x7f82baced960>, <built-in method lower of str object at 0x7f82baced998>, <built-in method lower of str object at 0x7f82baced9d0>, <built-in method lower of str object at 0x7f82baceda08>, <built-in method lower of str object at 0x7f82baceda40>, <built-in method lower of str object at 0x7f82b976a7b0>, <built-in method lower of str object at 0x7f82baceda78>, <built-in method lower of str object at 0x7f82bacedab0>, <built-in method lower of str object at 0x7f82bacedae8>, <built-in method lower of str object at 0x7f82bacedb20>, <built-in method lower of str object at 0x7f82bacedb58>, <built-in method lower of str object at 0x7f82bacedb90>, <built-in method lower of str object at 0x7f82bacedbc8>, <built-in method lower of str object at 0x7f82bacedc00>, <built-in method lower of str object at 0x7f82b976a7f0>, <built-in method lower of str object at 0x7f82b976a830>, <built-in method lower of str object at 0x7f82bacedc38>, <built-in method lower of str object at 0x7f82bacedc70>, <built-in method lower of str object at 0x7f82bacedca8>, <built-in method lower of str object at 0x7f82bacedce0>, <built-in method lower of str object at 0x7f82bacedd18>, <built-in method lower of str object at 0x7f82bacedd50>, <built-in method lower of str object at 0x7f82bacedd88>, <built-in method lower of str object at 0x7f82baceddc0>, <built-in method lower of str object at 0x7f82baceddf8>, <built-in method lower of str object at 0x7f82bacede30>, <built-in method lower of str object at 0x7f82bacede68>, <built-in method lower of str object at 0x7f82bacedea0>, <built-in method lower of str object at 0x7f82baceded8>, <built-in method lower of str object at 0x7f82bacedf10>, <built-in method lower of str object at 0x7f82bacedf48>, <built-in method lower of str object at 0x7f82bacedf80>, <built-in method lower of str object at 0x7f82bacef030>, <built-in method lower of str object at 0x7f82bacef068>, <built-in method lower of str object at 0x7f82bacef0a0>, <built-in method lower of str object at 0x7f82bacef0d8>, <built-in method lower of str object at 0x7f82bacef110>, <built-in method lower of str object at 0x7f82bacef148>, <built-in method lower of str object at 0x7f82bacef180>, <built-in method lower of str object at 0x7f82bacef1b8>, <built-in method lower of str object at 0x7f82bacef1f0>, <built-in method lower of str object at 0x7f82bacef228>, <built-in method lower of str object at 0x7f82bacef260>, <built-in method lower of str object at 0x7f82bacef298>, <built-in method lower of str object at 0x7f82bacef2d0>, <built-in method lower of str object at 0x7f82bacef308>, <built-in method lower of str object at 0x7f82bacef340>, <built-in method lower of str object at 0x7f82bacef378>, <built-in method lower of str object at 0x7f82b976a870>, <built-in method lower of str object at 0x7f82bacef3b0>, <built-in method lower of str object at 0x7f82bacef3e8>, <built-in method lower of str object at 0x7f82bacef420>, <built-in method lower of str object at 0x7f82b976a8b0>, <built-in method lower of str object at 0x7f82bacef458>, <built-in method lower of str object at 0x7f82b976a8f0>, <built-in method lower of str object at 0x7f82bacef490>, <built-in method lower of str object at 0x7f82bacef4c8>, <built-in method lower of str object at 0x7f82b976a930>, <built-in method lower of str object at 0x7f82bacef500>, <built-in method lower of str object at 0x7f82b976a970>, <built-in method lower of str object at 0x7f82bacef538>, <built-in method lower of str object at 0x7f82bacef570>, <built-in method lower of str object at 0x7f82bacef5a8>, <built-in method lower of str object at 0x7f82bacef5e0>, <built-in method lower of str object at 0x7f82bacef618>, <built-in method lower of str object at 0x7f82bacef650>, <built-in method lower of str object at 0x7f82bacef688>, <built-in method lower of str object at 0x7f82bacef6c0>, <built-in method lower of str object at 0x7f82bacef6f8>, <built-in method lower of str object at 0x7f82bacef730>, <built-in method lower of str object at 0x7f82b976a9f0>, <built-in method lower of str object at 0x7f82b976aa70>, <built-in method lower of str object at 0x7f82bacef768>, <built-in method lower of str object at 0x7f82bacef7a0>, <built-in method lower of str object at 0x7f82bacef7d8>, <built-in method lower of str object at 0x7f82bacef810>, <built-in method lower of str object at 0x7f82bacef848>, <built-in method lower of str object at 0x7f82b976a9b0>, <built-in method lower of str object at 0x7f82b976aa30>, <built-in method lower of str object at 0x7f82b976aab0>, <built-in method lower of str object at 0x7f82bacedfb8>, <built-in method lower of str object at 0x7f82bacef880>, <built-in method lower of str object at 0x7f82bacef8b8>, <built-in method lower of str object at 0x7f82b976aaf0>, <built-in method lower of str object at 0x7f82bacef8f0>, <built-in method lower of str object at 0x7f82b976ac70>, <built-in method lower of str object at 0x7f82bacef928>, <built-in method lower of str object at 0x7f82bacef960>, <built-in method lower of str object at 0x7f82bacef998>, <built-in method lower of str object at 0x7f82bacef9d0>, <built-in method lower of str object at 0x7f82bacefa08>, <built-in method lower of str object at 0x7f82bacefa40>, <built-in method lower of str object at 0x7f82bacefa78>, <built-in method lower of str object at 0x7f82bacefab0>, <built-in method lower of str object at 0x7f82bacefae8>, <built-in method lower of str object at 0x7f82bacefb20>, <built-in method lower of str object at 0x7f82bacefb58>, <built-in method lower of str object at 0x7f82bacefb90>, <built-in method lower of str object at 0x7f82b976ab70>, <built-in method lower of str object at 0x7f82bacefbc8>, <built-in method lower of str object at 0x7f82bacefc00>, <built-in method lower of str object at 0x7f82bacefc38>, <built-in method lower of str object at 0x7f82bacefc70>, <built-in method lower of str object at 0x7f82bacefca8>, <built-in method lower of str object at 0x7f82bacefce0>, <built-in method lower of str object at 0x7f82bacefd18>, <built-in method lower of str object at 0x7f82bacefd50>, <built-in method lower of str object at 0x7f82bacefd88>, <built-in method lower of str object at 0x7f82bacefdc0>, <built-in method lower of str object at 0x7f82bacefdf8>, <built-in method lower of str object at 0x7f82bacefe30>, <built-in method lower of str object at 0x7f82b976acb0>, <built-in method lower of str object at 0x7f82bacefe68>, <built-in method lower of str object at 0x7f82bacefea0>]\n"
          ],
          "name": "stdout"
        }
      ]
    },
    {
      "cell_type": "code",
      "metadata": {
        "id": "9Vx8IHvWuUiR",
        "colab_type": "code",
        "colab": {}
      },
      "source": [
        "def find_features(document):\n",
        "  words = set(document)\n",
        "  features = {}\n",
        "  for w in word_features:\n",
        "    features[w] = (w in words)\n",
        "\n",
        "    return features\n"
      ],
      "execution_count": 0,
      "outputs": []
    },
    {
      "cell_type": "code",
      "metadata": {
        "id": "ZL5DOwHsvAPi",
        "colab_type": "code",
        "outputId": "0d562993-9ede-4d6c-ec17-a43eee296c07",
        "colab": {
          "base_uri": "https://localhost:8080/",
          "height": 34
        }
      },
      "source": [
        "print((find_features(movie_reviews.words('neg/cv000_29416.txt'))))"
      ],
      "execution_count": 14,
      "outputs": [
        {
          "output_type": "stream",
          "text": [
            "{<built-in method lower of str object at 0x7f82bac32378>: False}\n"
          ],
          "name": "stdout"
        }
      ]
    },
    {
      "cell_type": "code",
      "metadata": {
        "id": "M4EAXnds9m0r",
        "colab_type": "code",
        "colab": {}
      },
      "source": [
        "featuresets = [(find_features(rev), category) for (rev, category) in documents]"
      ],
      "execution_count": 0,
      "outputs": []
    },
    {
      "cell_type": "code",
      "metadata": {
        "id": "4Z3rKmvPRhyf",
        "colab_type": "code",
        "colab": {}
      },
      "source": [
        "training_set = featuresets[:1900]\n",
        "\n",
        "testing_set = featuresets[1900:]\n",
        "\n",
        "classifier = nltk.NaiveBayesClassifier.train(training_set)"
      ],
      "execution_count": 0,
      "outputs": []
    },
    {
      "cell_type": "code",
      "metadata": {
        "id": "s1qb56h-R8eP",
        "colab_type": "code",
        "colab": {
          "base_uri": "https://localhost:8080/",
          "height": 34
        },
        "outputId": "43916f04-e8d0-431e-9510-31c7dcd374dd"
      },
      "source": [
        "\n",
        "print(\"Classifier accuracy percent:\",(nltk.classify.accuracy(classifier, testing_set))*100)\n"
      ],
      "execution_count": 17,
      "outputs": [
        {
          "output_type": "stream",
          "text": [
            "Classifier accuracy percent: 48.0\n"
          ],
          "name": "stdout"
        }
      ]
    },
    {
      "cell_type": "code",
      "metadata": {
        "id": "lw6A2of8SO05",
        "colab_type": "code",
        "colab": {
          "base_uri": "https://localhost:8080/",
          "height": 51
        },
        "outputId": "ccd3b993-4bae-47ce-bd72-9cc095a753a3"
      },
      "source": [
        "classifier.show_most_informative_features(20)"
      ],
      "execution_count": 18,
      "outputs": [
        {
          "output_type": "stream",
          "text": [
            "Most Informative Features\n",
            "<built-in method lower of str object at 0x7f82bac32378> = False             pos : neg    =      1.0 : 1.0\n"
          ],
          "name": "stdout"
        }
      ]
    }
  ]
}